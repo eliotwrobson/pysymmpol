{
 "cells": [
  {
   "cell_type": "code",
   "execution_count": 1,
   "id": "ecca1305-b80f-4e29-8f16-23571fdc9cfd",
   "metadata": {},
   "outputs": [],
   "source": [
    "import sympy as sp\n",
    "import numpy as np\n",
    "import itertools as it\n",
    "import symmpol as sy\n",
    "import symmpol.utils as ut\n",
    "from IPython.display import display, Latex"
   ]
  },
  {
   "cell_type": "markdown",
   "id": "352b6b39-16f8-49aa-b28b-800975b651f9",
   "metadata": {
    "jp-MarkdownHeadingCollapsed": true
   },
   "source": [
    "# Introduction"
   ]
  },
  {
   "cell_type": "markdown",
   "id": "93ce6813-32d0-4157-84c2-1b6b370b479f",
   "metadata": {},
   "source": [
    "This notebook explains the main functionalities of the pySymmetric package. "
   ]
  },
  {
   "cell_type": "markdown",
   "id": "537e1fd1-a216-4b9c-87d7-31c7f23c2816",
   "metadata": {
    "jp-MarkdownHeadingCollapsed": true
   },
   "source": [
    "# Young Diagrams"
   ]
  },
  {
   "cell_type": "markdown",
   "id": "a63408c5-2fc0-47e7-a908-138f5bea510e",
   "metadata": {},
   "source": [
    "There are two modules describing the creation and manipulation of young diagrams. We basically have two notations for these objects, and we treat them differently. \n",
    "\n",
    "1) The first is the usual definition in a partition form, with the usual notation $\\lambda = (\\lambda_1, \\lambda_2, \\dots, \\lambda_N)$\n",
    "with $\\lambda_{i+1} \\leq \\lambda_i$ for any $i \\in [1, N-1]$.\n",
    "2) We also define Young diagrams in the conjugacy class notation, where $\\lambda = (1^{k_1} 2^{k_2}\\cdots)$.\n",
    "\n",
    "In the subsections below, we describe how to initialize and work with these classes. "
   ]
  },
  {
   "cell_type": "markdown",
   "id": "a036c5ed-81ce-4a3c-bf45-6f75435a0c86",
   "metadata": {
    "jp-MarkdownHeadingCollapsed": true
   },
   "source": [
    "## Class: YoungDiagram"
   ]
  },
  {
   "cell_type": "markdown",
   "id": "24643168-1ce6-401f-ba0b-ec55039b8e66",
   "metadata": {
    "jp-MarkdownHeadingCollapsed": true
   },
   "source": [
    "We initialize the Young diagrams with the class **YoungDiagram(partition: tuple)**. \n",
    "The partition must be tuple in the standard monotonic decreasing form, otherwise \n",
    "it will raise a 'NonStandardError'. Of course, the user can remove this error with some simple \n",
    "list methods to reorder the list, but I do not recommend this approach because this error \n",
    "might be useful when we use this to study symmetric polynomials. Moreover, we \n",
    "should pass a tuple as argument since it is imutable and we do not want the user doing silly things, \n",
    "such as bringing the partition to a nonstandard form after the initialization. "
   ]
  },
  {
   "cell_type": "code",
   "execution_count": 2,
   "id": "beda8753-50cd-4d32-a324-0b49198654ea",
   "metadata": {},
   "outputs": [
    {
     "ename": "TypeError",
     "evalue": "Argument must be a tuple, and you passed a <class 'list'>",
     "output_type": "error",
     "traceback": [
      "\u001b[0;31m---------------------------------------------------------------------------\u001b[0m",
      "\u001b[0;31mTypeError\u001b[0m                                 Traceback (most recent call last)",
      "Cell \u001b[0;32mIn[2], line 2\u001b[0m\n\u001b[1;32m      1\u001b[0m \u001b[38;5;66;03m# FAIL: Initialize the Young diagram as a list\u001b[39;00m\n\u001b[0;32m----> 2\u001b[0m lambda1 \u001b[38;5;241m=\u001b[39m \u001b[43msy\u001b[49m\u001b[38;5;241;43m.\u001b[39;49m\u001b[43mYoungDiagram\u001b[49m\u001b[43m(\u001b[49m\u001b[43m[\u001b[49m\u001b[38;5;241;43m4\u001b[39;49m\u001b[43m,\u001b[49m\u001b[38;5;241;43m3\u001b[39;49m\u001b[43m,\u001b[49m\u001b[38;5;241;43m3\u001b[39;49m\u001b[43m]\u001b[49m\u001b[43m)\u001b[49m\n",
      "File \u001b[0;32m<string>:4\u001b[0m, in \u001b[0;36m__init__\u001b[0;34m(self, _partition)\u001b[0m\n",
      "File \u001b[0;32m~/Documents/projects/work/pySymmetricPolynomials/src/symmpol/young.py:38\u001b[0m, in \u001b[0;36mYoungDiagram.__post_init__\u001b[0;34m(self)\u001b[0m\n\u001b[1;32m     36\u001b[0m \u001b[38;5;66;03m# Validate _partition as a tuple\u001b[39;00m\n\u001b[1;32m     37\u001b[0m \u001b[38;5;28;01mif\u001b[39;00m \u001b[38;5;129;01mnot\u001b[39;00m \u001b[38;5;28misinstance\u001b[39m(\u001b[38;5;28mself\u001b[39m\u001b[38;5;241m.\u001b[39mpartition, \u001b[38;5;28mtuple\u001b[39m):\n\u001b[0;32m---> 38\u001b[0m     \u001b[38;5;28;01mraise\u001b[39;00m \u001b[38;5;167;01mTypeError\u001b[39;00m(\u001b[38;5;124mf\u001b[39m\u001b[38;5;124m\"\u001b[39m\u001b[38;5;124mArgument must be a tuple, and you passed a \u001b[39m\u001b[38;5;132;01m{\u001b[39;00m\u001b[38;5;28mtype\u001b[39m(\u001b[38;5;28mself\u001b[39m\u001b[38;5;241m.\u001b[39m_partition)\u001b[38;5;132;01m}\u001b[39;00m\u001b[38;5;124m\"\u001b[39m)\n\u001b[1;32m     40\u001b[0m \u001b[38;5;66;03m# Validade if the partition is a monotonic decreasing sequence. \u001b[39;00m\n\u001b[1;32m     41\u001b[0m par \u001b[38;5;241m=\u001b[39m \u001b[38;5;28mself\u001b[39m\u001b[38;5;241m.\u001b[39m_partition\n",
      "\u001b[0;31mTypeError\u001b[0m: Argument must be a tuple, and you passed a <class 'list'>"
     ]
    }
   ],
   "source": [
    "# FAIL: Initialize the Young diagram as a list\n",
    "lambda1 = sy.YoungDiagram([4,3,3])"
   ]
  },
  {
   "cell_type": "code",
   "execution_count": 3,
   "id": "b91711d0-178a-43a9-a83f-baad053d3595",
   "metadata": {},
   "outputs": [
    {
     "ename": "ValueError",
     "evalue": "Argument must be a monotonic decreasing sequence.",
     "output_type": "error",
     "traceback": [
      "\u001b[0;31m---------------------------------------------------------------------------\u001b[0m",
      "\u001b[0;31mValueError\u001b[0m                                Traceback (most recent call last)",
      "Cell \u001b[0;32mIn[3], line 2\u001b[0m\n\u001b[1;32m      1\u001b[0m \u001b[38;5;66;03m# FAIL: Initialize the Young diagram in a nonstandard form:\u001b[39;00m\n\u001b[0;32m----> 2\u001b[0m lambda1 \u001b[38;5;241m=\u001b[39m \u001b[43msy\u001b[49m\u001b[38;5;241;43m.\u001b[39;49m\u001b[43mYoungDiagram\u001b[49m\u001b[43m(\u001b[49m\u001b[43m(\u001b[49m\u001b[38;5;241;43m10\u001b[39;49m\u001b[43m,\u001b[49m\u001b[38;5;241;43m9\u001b[39;49m\u001b[43m,\u001b[49m\u001b[38;5;241;43m8\u001b[39;49m\u001b[43m,\u001b[49m\u001b[38;5;241;43m8\u001b[39;49m\u001b[43m,\u001b[49m\u001b[38;5;241;43m8\u001b[39;49m\u001b[43m,\u001b[49m\u001b[38;5;241;43m8\u001b[39;49m\u001b[43m,\u001b[49m\u001b[38;5;241;43m8\u001b[39;49m\u001b[43m,\u001b[49m\u001b[38;5;241;43m5\u001b[39;49m\u001b[43m,\u001b[49m\u001b[38;5;241;43m7\u001b[39;49m\u001b[43m,\u001b[49m\u001b[38;5;241;43m6\u001b[39;49m\u001b[43m,\u001b[49m\u001b[38;5;241;43m5\u001b[39;49m\u001b[43m,\u001b[49m\u001b[38;5;241;43m4\u001b[39;49m\u001b[43m,\u001b[49m\u001b[38;5;241;43m3\u001b[39;49m\u001b[43m,\u001b[49m\u001b[38;5;241;43m2\u001b[39;49m\u001b[43m,\u001b[49m\u001b[38;5;241;43m1\u001b[39;49m\u001b[43m)\u001b[49m\u001b[43m)\u001b[49m\n",
      "File \u001b[0;32m<string>:4\u001b[0m, in \u001b[0;36m__init__\u001b[0;34m(self, _partition)\u001b[0m\n",
      "File \u001b[0;32m~/Documents/projects/work/pySymmetricPolynomials/src/symmpol/young.py:46\u001b[0m, in \u001b[0;36mYoungDiagram.__post_init__\u001b[0;34m(self)\u001b[0m\n\u001b[1;32m     43\u001b[0m \u001b[38;5;66;03m#A = all([self._partition[i+1] <= self._partition[i] for i in range(len(self._partition) -1)])\u001b[39;00m\n\u001b[1;32m     45\u001b[0m \u001b[38;5;28;01mif\u001b[39;00m \u001b[38;5;129;01mnot\u001b[39;00m A:\n\u001b[0;32m---> 46\u001b[0m     \u001b[38;5;28;01mraise\u001b[39;00m \u001b[38;5;167;01mValueError\u001b[39;00m(\u001b[38;5;124m\"\u001b[39m\u001b[38;5;124mArgument must be a monotonic decreasing sequence.\u001b[39m\u001b[38;5;124m\"\u001b[39m)\n",
      "\u001b[0;31mValueError\u001b[0m: Argument must be a monotonic decreasing sequence."
     ]
    }
   ],
   "source": [
    "# FAIL: Initialize the Young diagram in a nonstandard form:\n",
    "lambda1 = sy.YoungDiagram((10,9,8,8,8,8,8,5,7,6,5,4,3,2,1))"
   ]
  },
  {
   "cell_type": "code",
   "execution_count": 4,
   "id": "2d020659-b250-4908-b6ef-9c8fe1b67f07",
   "metadata": {},
   "outputs": [],
   "source": [
    "# Correct initialization. Let us create some Young diagrams to use as examples in the text.\n",
    "lambda1 = sy.YoungDiagram((10, 9, 9, 8, 8, 8, 7, 7, 7, 7, 6, 6, 6, 6, 6, 5, 5, 5, 5, 5, 5, 4, 4, 4, 4, 4, 4, 4,\n",
    "                                  3, 3, 3, 3, 3, 3, 3, 3, 2, 2, 2, 2, 2, 2, 2, 2, 2, 1, 1, 1, 1, 1, 1, 1, 1, 1, 1))\n",
    "lambda2 = sy.YoungDiagram((3, 3, 2))\n",
    "mu1 = sy.YoungDiagram((5, 5, 4, 3, 3, 3, 2, 2, 1, 1))\n",
    "mu2 = sy.YoungDiagram((5, 5, 3, 3, 3, 2, 2, 1, 1))\n",
    "nu1 = sy.YoungDiagram((3,))\n",
    "nu2 = sy.YoungDiagram((1,))"
   ]
  },
  {
   "cell_type": "code",
   "execution_count": 5,
   "id": "a81157a8-c866-4785-9d6f-8d46965bd1f4",
   "metadata": {},
   "outputs": [
    {
     "data": {
      "text/plain": [
       "YoungDiagram(_partition=(10, 9, 9, 8, 8, 8, 7, 7, 7, 7, 6, 6, 6, 6, 6, 5, 5, 5, 5, 5, 5, 4, 4, 4, 4, 4, 4, 4, 3, 3, 3, 3, 3, 3, 3, 3, 2, 2, 2, 2, 2, 2, 2, 2, 2, 1, 1, 1, 1, 1, 1, 1, 1, 1, 1))"
      ]
     },
     "execution_count": 5,
     "metadata": {},
     "output_type": "execute_result"
    }
   ],
   "source": [
    "lambda1"
   ]
  },
  {
   "cell_type": "code",
   "execution_count": 6,
   "id": "3a092c52-4554-445d-b319-6d1682ae7727",
   "metadata": {},
   "outputs": [
    {
     "data": {
      "text/plain": [
       "YoungDiagram(_partition=(5, 5, 3, 3, 3, 2, 2, 1, 1))"
      ]
     },
     "execution_count": 6,
     "metadata": {},
     "output_type": "execute_result"
    }
   ],
   "source": [
    "mu2"
   ]
  },
  {
   "cell_type": "markdown",
   "id": "212fc5bb-3f4c-4086-a739-4f02a2c93206",
   "metadata": {},
   "source": [
    "### Properties"
   ]
  },
  {
   "cell_type": "markdown",
   "id": "ecf76732-bb18-4fec-a8dd-4482493fa2e7",
   "metadata": {},
   "source": [
    "#### Diagram"
   ]
  },
  {
   "cell_type": "markdown",
   "id": "50b9ae3f-c3ab-4896-8907-38ab3c70afe0",
   "metadata": {},
   "source": [
    "The graphical representation can be obtained from the getter .diagram"
   ]
  },
  {
   "cell_type": "code",
   "execution_count": 7,
   "id": "f20a9bd7-a61e-4aef-8ce0-5d24c095cad5",
   "metadata": {},
   "outputs": [
    {
     "name": "stdout",
     "output_type": "stream",
     "text": [
      "🎲 \n",
      "🎲 \n",
      "🎲 \n",
      "🎲 \n",
      "🎲 \n",
      "🎲 \n",
      "🎲 \n",
      "🎲 \n",
      "🎲 \n",
      "🎲 \n",
      "🎲 🎲 \n",
      "🎲 🎲 \n",
      "🎲 🎲 \n",
      "🎲 🎲 \n",
      "🎲 🎲 \n",
      "🎲 🎲 \n",
      "🎲 🎲 \n",
      "🎲 🎲 \n",
      "🎲 🎲 \n",
      "🎲 🎲 🎲 \n",
      "🎲 🎲 🎲 \n",
      "🎲 🎲 🎲 \n",
      "🎲 🎲 🎲 \n",
      "🎲 🎲 🎲 \n",
      "🎲 🎲 🎲 \n",
      "🎲 🎲 🎲 \n",
      "🎲 🎲 🎲 \n",
      "🎲 🎲 🎲 🎲 \n",
      "🎲 🎲 🎲 🎲 \n",
      "🎲 🎲 🎲 🎲 \n",
      "🎲 🎲 🎲 🎲 \n",
      "🎲 🎲 🎲 🎲 \n",
      "🎲 🎲 🎲 🎲 \n",
      "🎲 🎲 🎲 🎲 \n",
      "🎲 🎲 🎲 🎲 🎲 \n",
      "🎲 🎲 🎲 🎲 🎲 \n",
      "🎲 🎲 🎲 🎲 🎲 \n",
      "🎲 🎲 🎲 🎲 🎲 \n",
      "🎲 🎲 🎲 🎲 🎲 \n",
      "🎲 🎲 🎲 🎲 🎲 \n",
      "🎲 🎲 🎲 🎲 🎲 🎲 \n",
      "🎲 🎲 🎲 🎲 🎲 🎲 \n",
      "🎲 🎲 🎲 🎲 🎲 🎲 \n",
      "🎲 🎲 🎲 🎲 🎲 🎲 \n",
      "🎲 🎲 🎲 🎲 🎲 🎲 \n",
      "🎲 🎲 🎲 🎲 🎲 🎲 🎲 \n",
      "🎲 🎲 🎲 🎲 🎲 🎲 🎲 \n",
      "🎲 🎲 🎲 🎲 🎲 🎲 🎲 \n",
      "🎲 🎲 🎲 🎲 🎲 🎲 🎲 \n",
      "🎲 🎲 🎲 🎲 🎲 🎲 🎲 🎲 \n",
      "🎲 🎲 🎲 🎲 🎲 🎲 🎲 🎲 \n",
      "🎲 🎲 🎲 🎲 🎲 🎲 🎲 🎲 \n",
      "🎲 🎲 🎲 🎲 🎲 🎲 🎲 🎲 🎲 \n",
      "🎲 🎲 🎲 🎲 🎲 🎲 🎲 🎲 🎲 \n",
      "🎲 🎲 🎲 🎲 🎲 🎲 🎲 🎲 🎲 🎲 \n"
     ]
    }
   ],
   "source": [
    "lambda1.draw_diagram()"
   ]
  },
  {
   "cell_type": "code",
   "execution_count": 8,
   "id": "30e0f532-4fd5-446b-a052-711a4aa77ef2",
   "metadata": {},
   "outputs": [
    {
     "name": "stdout",
     "output_type": "stream",
     "text": [
      "🎲 🎲 \n",
      "🎲 🎲 🎲 \n",
      "🎲 🎲 🎲 \n"
     ]
    }
   ],
   "source": [
    "lambda2.draw_diagram()"
   ]
  },
  {
   "cell_type": "markdown",
   "id": "10d4be91-5165-48fa-a04d-6f7a5fe8b195",
   "metadata": {},
   "source": [
    "#### Getters"
   ]
  },
  {
   "cell_type": "markdown",
   "id": "6a4eb535-8caa-40b1-8fef-2949ed44daee",
   "metadata": {},
   "source": [
    "The Young diagrams the following getters:\n",
    "1) partition\n",
    "2) rows\n",
    "3) columns\n",
    "4) boxes"
   ]
  },
  {
   "cell_type": "code",
   "execution_count": 9,
   "id": "92b41d3e-cc70-4d92-af1d-a213987dff96",
   "metadata": {},
   "outputs": [
    {
     "data": {
      "text/plain": [
       "(3, 3, 2)"
      ]
     },
     "execution_count": 9,
     "metadata": {},
     "output_type": "execute_result"
    }
   ],
   "source": [
    "lambda2.partition # returns the partition as a list or a tuple."
   ]
  },
  {
   "cell_type": "code",
   "execution_count": 10,
   "id": "6a8a980c-bfa6-4c87-a91e-36295fcd4d77",
   "metadata": {},
   "outputs": [
    {
     "data": {
      "text/plain": [
       "55"
      ]
     },
     "execution_count": 10,
     "metadata": {},
     "output_type": "execute_result"
    }
   ],
   "source": [
    "lambda1.rows # returns the number of rows"
   ]
  },
  {
   "cell_type": "code",
   "execution_count": 11,
   "id": "2544a409-ab5a-4427-b662-18f59541c24d",
   "metadata": {},
   "outputs": [
    {
     "data": {
      "text/plain": [
       "10"
      ]
     },
     "execution_count": 11,
     "metadata": {},
     "output_type": "execute_result"
    }
   ],
   "source": [
    "lambda1.columns # returns the number of columns"
   ]
  },
  {
   "cell_type": "code",
   "execution_count": 12,
   "id": "c6596be2-fb37-4a62-9eee-203b5a987232",
   "metadata": {},
   "outputs": [
    {
     "data": {
      "text/plain": [
       "220"
      ]
     },
     "execution_count": 12,
     "metadata": {},
     "output_type": "execute_result"
    }
   ],
   "source": [
    "lambda1.boxes # returns the number of boxes "
   ]
  },
  {
   "cell_type": "markdown",
   "id": "73af6ae9-314e-4447-a6bb-a527110e899c",
   "metadata": {
    "jp-MarkdownHeadingCollapsed": true
   },
   "source": [
    "### Methods"
   ]
  },
  {
   "cell_type": "markdown",
   "id": "86c50202-aeb3-4d51-a7f8-8fb21169fc3f",
   "metadata": {},
   "source": [
    "#### Count diagonal"
   ]
  },
  {
   "cell_type": "markdown",
   "id": "75465c6d-0954-4d9b-9000-ec687f728086",
   "metadata": {},
   "source": [
    "This method counts the number of boxes in the diagonal of the Young diagram"
   ]
  },
  {
   "cell_type": "code",
   "execution_count": 13,
   "id": "d806e026-d226-4b74-abf6-95e1cb684a3b",
   "metadata": {},
   "outputs": [
    {
     "data": {
      "text/plain": [
       "7"
      ]
     },
     "execution_count": 13,
     "metadata": {},
     "output_type": "execute_result"
    }
   ],
   "source": [
    "lambda1.count_diagonal() # Retturns the number of boxes in the diagonal"
   ]
  },
  {
   "cell_type": "markdown",
   "id": "4a0b0d52-369a-4492-875b-d321aebdd440",
   "metadata": {},
   "source": [
    "#### Frobenius Coordinates"
   ]
  },
  {
   "cell_type": "markdown",
   "id": "6adb1c76-1f9a-4564-9b40-06ebd8776871",
   "metadata": {},
   "source": [
    "From these methods and properties, we have also find the Frobenius coordinates for a given partition."
   ]
  },
  {
   "cell_type": "code",
   "execution_count": 14,
   "id": "237d3bcc-bccc-434a-b72c-2c54dd8ac54f",
   "metadata": {},
   "outputs": [
    {
     "data": {
      "text/plain": [
       "[[19/2, -109/2],\n",
       " [15/2, -87/2],\n",
       " [13/2, -67/2],\n",
       " [9/2, -49/2],\n",
       " [7/2, -33/2],\n",
       " [5/2, -19/2],\n",
       " [1/2, -7/2]]"
      ]
     },
     "execution_count": 14,
     "metadata": {},
     "output_type": "execute_result"
    }
   ],
   "source": [
    "lambda1.frobenius_coordinates()"
   ]
  },
  {
   "cell_type": "code",
   "execution_count": 15,
   "id": "7676b414-012b-4ef8-84eb-5e3484ba0380",
   "metadata": {},
   "outputs": [
    {
     "data": {
      "text/plain": [
       "[[5/2, -5/2], [3/2, -3/2]]"
      ]
     },
     "execution_count": 15,
     "metadata": {},
     "output_type": "execute_result"
    }
   ],
   "source": [
    "lambda2.frobenius_coordinates()"
   ]
  },
  {
   "cell_type": "code",
   "execution_count": 16,
   "id": "4c33ad9e-a6f9-4f49-9ce9-b8683b19bee0",
   "metadata": {},
   "outputs": [
    {
     "data": {
      "text/plain": [
       "[[9/2, -19/2], [7/2, -13/2], [3/2, -7/2]]"
      ]
     },
     "execution_count": 16,
     "metadata": {},
     "output_type": "execute_result"
    }
   ],
   "source": [
    "mu1.frobenius_coordinates()"
   ]
  },
  {
   "cell_type": "code",
   "execution_count": 17,
   "id": "d6716fc4-f8d0-4c9d-847c-aa9152ee6421",
   "metadata": {},
   "outputs": [
    {
     "data": {
      "text/plain": [
       "[[9/2, -17/2], [7/2, -11/2], [1/2, -5/2]]"
      ]
     },
     "execution_count": 17,
     "metadata": {},
     "output_type": "execute_result"
    }
   ],
   "source": [
    "mu2.frobenius_coordinates()"
   ]
  },
  {
   "cell_type": "code",
   "execution_count": 18,
   "id": "a5f23a0d-7249-4745-9aff-030d6743ce81",
   "metadata": {},
   "outputs": [
    {
     "data": {
      "text/plain": [
       "[[5/2, -1/2]]"
      ]
     },
     "execution_count": 18,
     "metadata": {},
     "output_type": "execute_result"
    }
   ],
   "source": [
    "nu1.frobenius_coordinates()"
   ]
  },
  {
   "cell_type": "code",
   "execution_count": 19,
   "id": "fe2173fa-9fb3-4294-9a07-b8ed197d5b4c",
   "metadata": {},
   "outputs": [
    {
     "data": {
      "text/plain": [
       "[[1/2, -1/2]]"
      ]
     },
     "execution_count": 19,
     "metadata": {},
     "output_type": "execute_result"
    }
   ],
   "source": [
    "nu2.frobenius_coordinates()"
   ]
  },
  {
   "cell_type": "markdown",
   "id": "c842c527-a192-4418-a927-9f14e8004910",
   "metadata": {},
   "source": [
    "#### Transposed Young Diagram"
   ]
  },
  {
   "cell_type": "markdown",
   "id": "b3bc7ee4-0f59-43ff-b0c3-c95ba56d9da5",
   "metadata": {},
   "source": [
    "The method transpose, as the name suggests,returns the transposed (or conjugate) Young diagram as a new object."
   ]
  },
  {
   "cell_type": "code",
   "execution_count": 20,
   "id": "d48ba9e3-78f4-4504-a2e1-4eda8aa5911e",
   "metadata": {},
   "outputs": [],
   "source": [
    "lambda1_T = lambda1.transpose()"
   ]
  },
  {
   "cell_type": "code",
   "execution_count": 21,
   "id": "84b12901-b19e-4649-99c4-599871e95efa",
   "metadata": {},
   "outputs": [
    {
     "data": {
      "text/plain": [
       "(55, 45, 36, 28, 21, 15, 10, 6, 3, 1)"
      ]
     },
     "execution_count": 21,
     "metadata": {},
     "output_type": "execute_result"
    }
   ],
   "source": [
    "lambda1_T.partition"
   ]
  },
  {
   "cell_type": "code",
   "execution_count": 22,
   "id": "215df2e3-997d-4603-a48e-df9878aec32e",
   "metadata": {},
   "outputs": [
    {
     "data": {
      "text/plain": [
       "YoungDiagram(_partition=(55, 45, 36, 28, 21, 15, 10, 6, 3, 1))"
      ]
     },
     "execution_count": 22,
     "metadata": {},
     "output_type": "execute_result"
    }
   ],
   "source": [
    "lambda1_T"
   ]
  },
  {
   "cell_type": "code",
   "execution_count": 23,
   "id": "43311419-7566-44c6-995d-27e4f3199228",
   "metadata": {},
   "outputs": [
    {
     "data": {
      "text/plain": [
       "10"
      ]
     },
     "execution_count": 23,
     "metadata": {},
     "output_type": "execute_result"
    }
   ],
   "source": [
    "lambda1_T.rows"
   ]
  },
  {
   "cell_type": "code",
   "execution_count": 24,
   "id": "311d5675-cf9c-4afe-936c-74b858337a28",
   "metadata": {},
   "outputs": [
    {
     "data": {
      "text/plain": [
       "55"
      ]
     },
     "execution_count": 24,
     "metadata": {},
     "output_type": "execute_result"
    }
   ],
   "source": [
    "lambda1_T.columns"
   ]
  },
  {
   "cell_type": "code",
   "execution_count": 25,
   "id": "ef11af95-5475-4c06-bd9f-2b3fbb48bf18",
   "metadata": {},
   "outputs": [
    {
     "data": {
      "text/plain": [
       "220"
      ]
     },
     "execution_count": 25,
     "metadata": {},
     "output_type": "execute_result"
    }
   ],
   "source": [
    "lambda1_T.boxes"
   ]
  },
  {
   "cell_type": "markdown",
   "id": "a115cb48-634c-461e-beea-927e32976009",
   "metadata": {},
   "source": [
    "#### Conjugacy Partition"
   ]
  },
  {
   "cell_type": "markdown",
   "id": "0df1caab-e911-4d8d-94fc-d95382e03b3b",
   "metadata": {},
   "source": [
    "It is also useful to represent the partitions in terms of its conjugacy class. For example, \n",
    "we know that: $\\lambda_1 = (4, 3, 2) = (2^1 3^1 2^1)$ and $\\mu_1 = (5, 5, 4, 3, 3, 3, 2, 2, 1, 1) = (1^2 2^2 3^3 4^1 5^2)$. \n",
    "\n",
    "We can get these representations from the method .conjugacy_partition. For a generic partition $\\lambda = (\\lambda_1, \\lambda_2, \\dots, \\lambda_N)$\n",
    "we have $\\lambda = (1^{k_1} 2^{k_2}\\cdots)$. In order to avoid confusion with the partition notation, this method returns a dictinary $(1: k_1, 2: k_2, 3: k_3, \\dots)$. In our examples, we have $\\lambda_1 = \\{1: 0, 2: 1, 3: 1, 4: 1\\}$ and $\\mu_1 = \\{1: 2, 2: 2, 3: 3, 4: 1, 5: 2\\}$."
   ]
  },
  {
   "cell_type": "code",
   "execution_count": 26,
   "id": "528d516e-e7a2-464d-bcbf-edee363b2b4c",
   "metadata": {},
   "outputs": [
    {
     "data": {
      "text/plain": [
       "{1: 10, 2: 9, 3: 8, 4: 7, 5: 6, 6: 5, 7: 4, 8: 3, 9: 2, 10: 1}"
      ]
     },
     "execution_count": 26,
     "metadata": {},
     "output_type": "execute_result"
    }
   ],
   "source": [
    "lambda1.conjugacy_partition()"
   ]
  },
  {
   "cell_type": "code",
   "execution_count": 27,
   "id": "88fb2271-06b3-46ce-9df5-860c20287700",
   "metadata": {},
   "outputs": [
    {
     "data": {
      "text/plain": [
       "{1: 2, 2: 2, 3: 3, 4: 1, 5: 2}"
      ]
     },
     "execution_count": 27,
     "metadata": {},
     "output_type": "execute_result"
    }
   ],
   "source": [
    "mu1.conjugacy_partition()"
   ]
  },
  {
   "cell_type": "markdown",
   "id": "ecff9bd6-540b-48cc-ad9c-b6a5dc465b94",
   "metadata": {},
   "source": [
    "#### Contains and Interlaces"
   ]
  },
  {
   "cell_type": "markdown",
   "id": "5cbe797e-1423-44d6-a998-dd68124f799b",
   "metadata": {},
   "source": [
    "Finally, given two Young diagrams, say $\\lambda$ and $\\mu$, the contains and interlaces methods, lambda.contains(mu) and lambda.interlaces(mu), checks if the partition lambda contains and interlaced the partition mu, respectivelly. "
   ]
  },
  {
   "cell_type": "markdown",
   "id": "9e8df1c8-48de-4604-bcf9-b7b6b039c361",
   "metadata": {},
   "source": [
    "1. partitions $\\lambda_1$ and $\\lambda_2$"
   ]
  },
  {
   "cell_type": "code",
   "execution_count": 28,
   "id": "9682730c-3cf3-4ddb-b194-f58b1dff650d",
   "metadata": {},
   "outputs": [
    {
     "name": "stdout",
     "output_type": "stream",
     "text": [
      "🎲 \n",
      "🎲 \n",
      "🎲 \n",
      "🎲 \n",
      "🎲 \n",
      "🎲 \n",
      "🎲 \n",
      "🎲 \n",
      "🎲 \n",
      "🎲 \n",
      "🎲 🎲 \n",
      "🎲 🎲 \n",
      "🎲 🎲 \n",
      "🎲 🎲 \n",
      "🎲 🎲 \n",
      "🎲 🎲 \n",
      "🎲 🎲 \n",
      "🎲 🎲 \n",
      "🎲 🎲 \n",
      "🎲 🎲 🎲 \n",
      "🎲 🎲 🎲 \n",
      "🎲 🎲 🎲 \n",
      "🎲 🎲 🎲 \n",
      "🎲 🎲 🎲 \n",
      "🎲 🎲 🎲 \n",
      "🎲 🎲 🎲 \n",
      "🎲 🎲 🎲 \n",
      "🎲 🎲 🎲 🎲 \n",
      "🎲 🎲 🎲 🎲 \n",
      "🎲 🎲 🎲 🎲 \n",
      "🎲 🎲 🎲 🎲 \n",
      "🎲 🎲 🎲 🎲 \n",
      "🎲 🎲 🎲 🎲 \n",
      "🎲 🎲 🎲 🎲 \n",
      "🎲 🎲 🎲 🎲 🎲 \n",
      "🎲 🎲 🎲 🎲 🎲 \n",
      "🎲 🎲 🎲 🎲 🎲 \n",
      "🎲 🎲 🎲 🎲 🎲 \n",
      "🎲 🎲 🎲 🎲 🎲 \n",
      "🎲 🎲 🎲 🎲 🎲 \n",
      "🎲 🎲 🎲 🎲 🎲 🎲 \n",
      "🎲 🎲 🎲 🎲 🎲 🎲 \n",
      "🎲 🎲 🎲 🎲 🎲 🎲 \n",
      "🎲 🎲 🎲 🎲 🎲 🎲 \n",
      "🎲 🎲 🎲 🎲 🎲 🎲 \n",
      "🎲 🎲 🎲 🎲 🎲 🎲 🎲 \n",
      "🎲 🎲 🎲 🎲 🎲 🎲 🎲 \n",
      "🎲 🎲 🎲 🎲 🎲 🎲 🎲 \n",
      "🎲 🎲 🎲 🎲 🎲 🎲 🎲 \n",
      "🎲 🎲 🎲 🎲 🎲 🎲 🎲 🎲 \n",
      "🎲 🎲 🎲 🎲 🎲 🎲 🎲 🎲 \n",
      "🎲 🎲 🎲 🎲 🎲 🎲 🎲 🎲 \n",
      "🎲 🎲 🎲 🎲 🎲 🎲 🎲 🎲 🎲 \n",
      "🎲 🎲 🎲 🎲 🎲 🎲 🎲 🎲 🎲 \n",
      "🎲 🎲 🎲 🎲 🎲 🎲 🎲 🎲 🎲 🎲 \n"
     ]
    }
   ],
   "source": [
    "lambda1.draw_diagram()"
   ]
  },
  {
   "cell_type": "code",
   "execution_count": 29,
   "id": "a03b0982-c787-40d7-97ef-1be6af02fc81",
   "metadata": {},
   "outputs": [
    {
     "name": "stdout",
     "output_type": "stream",
     "text": [
      "🎲 🎲 \n",
      "🎲 🎲 🎲 \n",
      "🎲 🎲 🎲 \n"
     ]
    }
   ],
   "source": [
    "lambda2.draw_diagram()"
   ]
  },
  {
   "cell_type": "code",
   "execution_count": 25,
   "id": "3ae630e4-22b7-4bc0-94e0-add64161226f",
   "metadata": {},
   "outputs": [
    {
     "ename": "NameError",
     "evalue": "name 'lambda1' is not defined",
     "output_type": "error",
     "traceback": [
      "\u001b[0;31m---------------------------------------------------------------------------\u001b[0m",
      "\u001b[0;31mNameError\u001b[0m                                 Traceback (most recent call last)",
      "Cell \u001b[0;32mIn[25], line 1\u001b[0m\n\u001b[0;32m----> 1\u001b[0m \u001b[43mlambda1\u001b[49m\u001b[38;5;241m.\u001b[39mcontains(lambda2) \u001b[38;5;66;03m# partition lambda1 interlaces lambda2\u001b[39;00m\n",
      "\u001b[0;31mNameError\u001b[0m: name 'lambda1' is not defined"
     ]
    }
   ],
   "source": [
    "lambda1.contains(lambda2) # partition lambda1 interlaces lambda2"
   ]
  },
  {
   "cell_type": "code",
   "execution_count": 31,
   "id": "88789109-380b-43a7-8a84-9f778eeef76b",
   "metadata": {},
   "outputs": [
    {
     "data": {
      "text/plain": [
       "False"
      ]
     },
     "execution_count": 31,
     "metadata": {},
     "output_type": "execute_result"
    }
   ],
   "source": [
    "lambda2.interlaces(lambda1) # the converse is not true"
   ]
  },
  {
   "cell_type": "markdown",
   "id": "5ed8b251-7a1c-4610-8ca1-1fa38b13d5f3",
   "metadata": {},
   "source": [
    "2. partitions $\\lambda_1$ and $\\mu_1$"
   ]
  },
  {
   "cell_type": "code",
   "execution_count": 32,
   "id": "1a8bd737-9089-46be-a792-50269940c799",
   "metadata": {
    "scrolled": true
   },
   "outputs": [
    {
     "name": "stdout",
     "output_type": "stream",
     "text": [
      "🎲 \n",
      "🎲 \n",
      "🎲 🎲 \n",
      "🎲 🎲 \n",
      "🎲 🎲 🎲 \n",
      "🎲 🎲 🎲 \n",
      "🎲 🎲 🎲 \n",
      "🎲 🎲 🎲 🎲 \n",
      "🎲 🎲 🎲 🎲 🎲 \n",
      "🎲 🎲 🎲 🎲 🎲 \n"
     ]
    }
   ],
   "source": [
    "mu1.draw_diagram()"
   ]
  },
  {
   "cell_type": "code",
   "execution_count": 33,
   "id": "ea3e58b0-985a-4574-8e0a-192d9ca41c00",
   "metadata": {},
   "outputs": [
    {
     "data": {
      "text/plain": [
       "False"
      ]
     },
     "execution_count": 33,
     "metadata": {},
     "output_type": "execute_result"
    }
   ],
   "source": [
    "lambda1.interlaces(mu1)"
   ]
  },
  {
   "cell_type": "code",
   "execution_count": 34,
   "id": "a78edf95-66e5-485a-bf03-7dd50da9baf6",
   "metadata": {},
   "outputs": [
    {
     "data": {
      "text/plain": [
       "False"
      ]
     },
     "execution_count": 34,
     "metadata": {},
     "output_type": "execute_result"
    }
   ],
   "source": [
    "mu1.interlaces(lambda1)"
   ]
  },
  {
   "cell_type": "markdown",
   "id": "4cf9ceea-a495-4864-8b33-b19cf24b59d7",
   "metadata": {},
   "source": [
    "3. partitions $\\mu_1$ and $\\mu_2$"
   ]
  },
  {
   "cell_type": "code",
   "execution_count": 35,
   "id": "113370ea-2f0e-470a-b322-78def8914da7",
   "metadata": {},
   "outputs": [
    {
     "name": "stdout",
     "output_type": "stream",
     "text": [
      "🎲 \n",
      "🎲 \n",
      "🎲 🎲 \n",
      "🎲 🎲 \n",
      "🎲 🎲 🎲 \n",
      "🎲 🎲 🎲 \n",
      "🎲 🎲 🎲 \n",
      "🎲 🎲 🎲 🎲 🎲 \n",
      "🎲 🎲 🎲 🎲 🎲 \n"
     ]
    }
   ],
   "source": [
    "mu2.draw_diagram()"
   ]
  },
  {
   "cell_type": "code",
   "execution_count": 36,
   "id": "8228aff8-0f57-4abc-be2a-d6bc61b0daa7",
   "metadata": {},
   "outputs": [
    {
     "data": {
      "text/plain": [
       "True"
      ]
     },
     "execution_count": 36,
     "metadata": {},
     "output_type": "execute_result"
    }
   ],
   "source": [
    "mu1.interlaces(mu2)"
   ]
  },
  {
   "cell_type": "code",
   "execution_count": 42,
   "id": "87082fd7-f187-47ac-9b4b-069072ce4366",
   "metadata": {},
   "outputs": [
    {
     "data": {
      "text/plain": [
       "False"
      ]
     },
     "execution_count": 42,
     "metadata": {},
     "output_type": "execute_result"
    }
   ],
   "source": [
    "mu2.interlaces(mu1)"
   ]
  },
  {
   "cell_type": "markdown",
   "id": "5fe3480a-63bf-46a2-a91c-896b3dc6bfd9",
   "metadata": {},
   "source": [
    "4. Other two partitions"
   ]
  },
  {
   "cell_type": "code",
   "execution_count": 44,
   "id": "f851be65-9c00-4dcd-a86b-ea896bd99b66",
   "metadata": {},
   "outputs": [],
   "source": [
    "a = yng.YoungDiagram((5,5,5,4,3,2))\n",
    "b = yng.YoungDiagram((5,5,4,3,3,1))"
   ]
  },
  {
   "cell_type": "code",
   "execution_count": 45,
   "id": "e79cd947-6497-4b3a-a9e9-e33a3fa8cd2e",
   "metadata": {},
   "outputs": [
    {
     "data": {
      "text/plain": [
       "True"
      ]
     },
     "execution_count": 45,
     "metadata": {},
     "output_type": "execute_result"
    }
   ],
   "source": [
    "a.interlaces(b)"
   ]
  },
  {
   "cell_type": "markdown",
   "id": "b0271a42-7cc0-476a-8088-640c672c53f1",
   "metadata": {},
   "source": [
    "Given a partition $\\lambda = (\\lambda_1, \\lambda_2, \\dots, \\lambda_N)$, one can generate all interlaces diagrams with a simple script that we will discuss \n",
    "after describing the module States in this package. "
   ]
  },
  {
   "cell_type": "markdown",
   "id": "57fee7f7-5b23-45cd-a859-8d74ea4695de",
   "metadata": {
    "jp-MarkdownHeadingCollapsed": true
   },
   "source": [
    "## Class: ConjugacyClass"
   ]
  },
  {
   "cell_type": "markdown",
   "id": "47d79ef1-1e12-4ff1-a459-20e5ccba0a5b",
   "metadata": {
    "jp-MarkdownHeadingCollapsed": true
   },
   "source": [
    "We initialize the ConjugacyClass class with **ConjugacyClass(conjugacy_class: dict)**. \n",
    "In order to avoind confusion with the YoungDiagram case, we enter a dictionary to be more \n",
    "explicit about what we are defining. \n",
    "\n",
    "Otherwise, we would face problems like this: Consider the partition (3,2,1). Its conjugacy class \n",
    "vector is (1:1 ,2:1 ,3:1). If we omit the keys, one could interprets it as the partition (1,1,1).\n",
    "In fact, the partition (1,1,1) is represented as the conjugacy class (1:3), and the conjugacy class \n",
    "(3,2,1) is the partition (3,2,2,1,1,1). So, in order to avoid this type of problem, we represent \n",
    "the conjugacy classes as explicitly as possible, and the best way to accomplish this is with \n",
    "dictionaries. "
   ]
  },
  {
   "cell_type": "code",
   "execution_count": 47,
   "id": "6f297133-c325-4c6d-bab2-c5772fd619ba",
   "metadata": {},
   "outputs": [],
   "source": [
    "# An effective way to initialize the class in the correct form\n",
    "vector1 = dict(enumerate((2,4,2,1,2),1))"
   ]
  },
  {
   "cell_type": "code",
   "execution_count": 48,
   "id": "1a145932-aaff-4c23-a1f0-cb04645668ec",
   "metadata": {},
   "outputs": [],
   "source": [
    "conjugacy_class = sy.ConjugacyClass(vector1)"
   ]
  },
  {
   "cell_type": "code",
   "execution_count": 49,
   "id": "8e3966d1-3dac-438e-8569-4d21a9d28b30",
   "metadata": {},
   "outputs": [
    {
     "data": {
      "text/plain": [
       "[1, 2, 3, 4, 5]"
      ]
     },
     "execution_count": 49,
     "metadata": {},
     "output_type": "execute_result"
    }
   ],
   "source": [
    "list(vector1.keys())"
   ]
  },
  {
   "cell_type": "code",
   "execution_count": 50,
   "id": "46eb657a-8fcd-4c7c-b5e2-d34d66ae41f3",
   "metadata": {},
   "outputs": [
    {
     "data": {
      "text/plain": [
       "5"
      ]
     },
     "execution_count": 50,
     "metadata": {},
     "output_type": "execute_result"
    }
   ],
   "source": [
    "conjugacy_class.columns"
   ]
  },
  {
   "cell_type": "code",
   "execution_count": 51,
   "id": "b271933d-1148-44eb-a221-3e0189e9c846",
   "metadata": {},
   "outputs": [
    {
     "data": {
      "text/plain": [
       "11"
      ]
     },
     "execution_count": 51,
     "metadata": {},
     "output_type": "execute_result"
    }
   ],
   "source": [
    "conjugacy_class.rows"
   ]
  },
  {
   "cell_type": "code",
   "execution_count": 52,
   "id": "39059e2b-a626-4283-8a98-019accd096c7",
   "metadata": {},
   "outputs": [
    {
     "data": {
      "text/plain": [
       "(2, 4, 2, 1, 2)"
      ]
     },
     "execution_count": 52,
     "metadata": {},
     "output_type": "execute_result"
    }
   ],
   "source": [
    "conjugacy_class.conjugacy"
   ]
  },
  {
   "cell_type": "code",
   "execution_count": 53,
   "id": "69ebf190-902b-43e4-be92-93867c75e09a",
   "metadata": {},
   "outputs": [
    {
     "data": {
      "text/plain": [
       "30"
      ]
     },
     "execution_count": 53,
     "metadata": {},
     "output_type": "execute_result"
    }
   ],
   "source": [
    "conjugacy_class.boxes"
   ]
  },
  {
   "cell_type": "code",
   "execution_count": 54,
   "id": "8f7bc462-f56f-4f86-bdb9-71bb067bc161",
   "metadata": {},
   "outputs": [
    {
     "name": "stdout",
     "output_type": "stream",
     "text": [
      "🎲 \n",
      "🎲 \n",
      "🎲 🎲 \n",
      "🎲 🎲 \n",
      "🎲 🎲 \n",
      "🎲 🎲 \n",
      "🎲 🎲 🎲 \n",
      "🎲 🎲 🎲 \n",
      "🎲 🎲 🎲 🎲 \n",
      "🎲 🎲 🎲 🎲 🎲 \n",
      "🎲 🎲 🎲 🎲 🎲 \n"
     ]
    }
   ],
   "source": [
    "conjugacy_class.draw_diagram()"
   ]
  },
  {
   "cell_type": "code",
   "execution_count": 55,
   "id": "b835f678-cd17-4762-b88a-22cd4885e839",
   "metadata": {},
   "outputs": [
    {
     "data": {
      "text/plain": [
       "(5, 5, 4, 3, 3, 2, 2, 2, 2, 1, 1)"
      ]
     },
     "execution_count": 55,
     "metadata": {},
     "output_type": "execute_result"
    }
   ],
   "source": [
    "conjugacy_class.conjugacy_partition()"
   ]
  },
  {
   "cell_type": "markdown",
   "id": "4a209ed1-3d65-4193-8603-0a0b8b9feaae",
   "metadata": {
    "jp-MarkdownHeadingCollapsed": true
   },
   "source": [
    "# Class: State"
   ]
  },
  {
   "cell_type": "markdown",
   "id": "b52b5c00-add6-45d3-9caa-090de86bfb03",
   "metadata": {},
   "source": [
    "In two dimensions, there is a isomorphism between the bosonic and fermionic Fock spaces known as the Fermion-Boson correspondence. The bosonic states are represented \n",
    "in terms of conjugacy classes $\\lambda = (1^{k_1} 2^{k_2}\\cdots)$, and the fermionic states $\\lambda = (\\lambda_1, \\lambda_2, \\dots, \\lambda_N)$ are represented in terms of partition states that we have discussed above. These states are not equivalent, but since the Fock space is decomposed in terms of the number of boxes, that we call **level**, therefore, we have an expansion of the form "
   ]
  },
  {
   "cell_type": "markdown",
   "id": "f0c2859d-19d8-40b7-894f-c8e38ef9ba1e",
   "metadata": {},
   "source": [
    "$\n",
    "\\tag{1}\n",
    "|1^{k_1} 2^{k_2}\\cdots\\rangle = \\sum_{\\lambda} C_{\\lambda} |\\lambda_1, \\lambda_2, \\dots, \\lambda_N\\rangle\\qquad \\left(n = \\sum_i\\lambda_i = \\sum_j j k_j\\right)\n",
    "$"
   ]
  },
  {
   "cell_type": "markdown",
   "id": "121a15bd-f04e-4cac-9155-56b93dd6c228",
   "metadata": {},
   "source": [
    "and the sum is over all partitions with $n$ boxes, and the coefficients above are written in terms of Schur polynomials. \n",
    "\n",
    "Therefore, this module consider a given level $n$, number of boxes, and build all possible bosonic and fermionic states. From the mathematical viewpoint, we determine the partitions \n",
    "of the integers $n$ and write these partitions in both forms $\\lambda = (1^{k_1} 2^{k_2}\\cdots) = (\\lambda_1, \\lambda_2, \\dots, \\lambda_N)$. \n",
    "\n",
    "*As before, we represent conjugacy classes as dictionaries and partitions as tuples.*"
   ]
  },
  {
   "cell_type": "markdown",
   "id": "4dc8c1ab-68d8-4c30-8e7a-9a682ef796de",
   "metadata": {},
   "source": [
    "Before we start, it is important to undertand that the empty state at level zero (no boxes) is the quantum vacuum, and is represented by the absence of bosonic or fermionic operators. It is represented as an empty tuple. "
   ]
  },
  {
   "cell_type": "code",
   "execution_count": 56,
   "id": "f2d4a1f3-ebde-43f3-9901-7c7ce9d00402",
   "metadata": {},
   "outputs": [],
   "source": [
    "level0 = sy.State(0)"
   ]
  },
  {
   "cell_type": "code",
   "execution_count": 57,
   "id": "0c9f3485-02db-4faf-b3dc-8c43ec1fc5fb",
   "metadata": {},
   "outputs": [
    {
     "data": {
      "text/plain": [
       "()"
      ]
     },
     "execution_count": 57,
     "metadata": {},
     "output_type": "execute_result"
    }
   ],
   "source": [
    "level0.partition_states()"
   ]
  },
  {
   "cell_type": "code",
   "execution_count": 58,
   "id": "f6cf46e2-f3b3-4360-ae09-f0c28bb411e1",
   "metadata": {},
   "outputs": [
    {
     "data": {
      "text/plain": [
       "()"
      ]
     },
     "execution_count": 58,
     "metadata": {},
     "output_type": "execute_result"
    }
   ],
   "source": [
    "level0.conjugacy_states()"
   ]
  },
  {
   "cell_type": "markdown",
   "id": "c8e28f26-4729-4f7e-a4c8-d0928f40fa92",
   "metadata": {
    "jp-MarkdownHeadingCollapsed": true
   },
   "source": [
    "## Conjugacy States"
   ]
  },
  {
   "cell_type": "code",
   "execution_count": 59,
   "id": "4a45ba1c-648f-44ad-9e11-5971b013c1a3",
   "metadata": {},
   "outputs": [],
   "source": [
    "state = sy.State(3)"
   ]
  },
  {
   "cell_type": "code",
   "execution_count": 60,
   "id": "db47848d-5d00-47ec-b43a-a07c7e5b262a",
   "metadata": {},
   "outputs": [
    {
     "data": {
      "text/plain": [
       "({1: 3, 2: 0, 3: 0}, {1: 1, 2: 1, 3: 0}, {1: 0, 2: 0, 3: 1})"
      ]
     },
     "execution_count": 60,
     "metadata": {},
     "output_type": "execute_result"
    }
   ],
   "source": [
    "state.conjugacy_states()"
   ]
  },
  {
   "cell_type": "code",
   "execution_count": 61,
   "id": "3b0be97d-ee16-4eb4-9602-fd14d0965102",
   "metadata": {},
   "outputs": [
    {
     "data": {
      "text/plain": [
       "((3, 0, 0), (1, 1, 0), (0, 0, 1))"
      ]
     },
     "execution_count": 61,
     "metadata": {},
     "output_type": "execute_result"
    }
   ],
   "source": [
    "# There is also a nonpublic method that returns these states as a list.\n",
    "state._conjugacy_states()"
   ]
  },
  {
   "cell_type": "markdown",
   "id": "e64740d7-cd25-42d3-9e85-f3816e475679",
   "metadata": {},
   "source": [
    "Now one can see that we can build the corresponding Young diagrams using the previous module. Of course, this method shines when we need to consider a high level state, say level 10. "
   ]
  },
  {
   "cell_type": "code",
   "execution_count": 65,
   "id": "141c4052-ec39-424d-aa51-090d2ac670d1",
   "metadata": {},
   "outputs": [],
   "source": [
    "state_level5 = sy.State(5)"
   ]
  },
  {
   "cell_type": "code",
   "execution_count": 66,
   "id": "c4a4cc9c-3fea-4d8e-bc90-87270a41724c",
   "metadata": {},
   "outputs": [
    {
     "data": {
      "text/plain": [
       "7"
      ]
     },
     "execution_count": 66,
     "metadata": {},
     "output_type": "execute_result"
    }
   ],
   "source": [
    "len(state_level5._conjugacy_states()) # There are 42 states, since there are 42 partitions of 10"
   ]
  },
  {
   "cell_type": "code",
   "execution_count": 67,
   "id": "6e09a137-b1a9-4558-89ea-be1dc0e8c103",
   "metadata": {},
   "outputs": [
    {
     "name": "stdout",
     "output_type": "stream",
     "text": [
      "--------------------------------------------------------------------------------\n",
      "Bosonic state 1: |{1: 5, 2: 0, 3: 0, 4: 0, 5: 0}>\n",
      "🎲 \n",
      "🎲 \n",
      "🎲 \n",
      "🎲 \n",
      "🎲 \n",
      "--------------------------------------------------------------------------------\n",
      "--------------------------------------------------------------------------------\n",
      "Bosonic state 2: |{1: 3, 2: 1, 3: 0, 4: 0, 5: 0}>\n",
      "🎲 \n",
      "🎲 \n",
      "🎲 \n",
      "🎲 🎲 \n",
      "--------------------------------------------------------------------------------\n",
      "--------------------------------------------------------------------------------\n",
      "Bosonic state 3: |{1: 2, 2: 0, 3: 1, 4: 0, 5: 0}>\n",
      "🎲 \n",
      "🎲 \n",
      "🎲 🎲 🎲 \n",
      "--------------------------------------------------------------------------------\n",
      "--------------------------------------------------------------------------------\n",
      "Bosonic state 4: |{1: 1, 2: 2, 3: 0, 4: 0, 5: 0}>\n",
      "🎲 \n",
      "🎲 🎲 \n",
      "🎲 🎲 \n",
      "--------------------------------------------------------------------------------\n",
      "--------------------------------------------------------------------------------\n",
      "Bosonic state 5: |{1: 1, 2: 0, 3: 0, 4: 1, 5: 0}>\n",
      "🎲 \n",
      "🎲 🎲 🎲 🎲 \n",
      "--------------------------------------------------------------------------------\n",
      "--------------------------------------------------------------------------------\n",
      "Bosonic state 6: |{1: 0, 2: 1, 3: 1, 4: 0, 5: 0}>\n",
      "🎲 🎲 \n",
      "🎲 🎲 🎲 \n",
      "--------------------------------------------------------------------------------\n",
      "--------------------------------------------------------------------------------\n",
      "Bosonic state 7: |{1: 0, 2: 0, 3: 0, 4: 0, 5: 1}>\n",
      "🎲 🎲 🎲 🎲 🎲 \n",
      "--------------------------------------------------------------------------------\n"
     ]
    }
   ],
   "source": [
    "for a in state_level10.conjugacy_states():\n",
    "    print(40*\"--\")\n",
    "    print(f\"Bosonic state {state_level10.conjugacy_states().index(a)+1}: |{a}>\")\n",
    "    sy.ConjugacyClass(a).draw_diagram()\n",
    "    print(40*\"--\")"
   ]
  },
  {
   "cell_type": "markdown",
   "id": "952d557e-d03a-436a-add5-88193e05b6b5",
   "metadata": {
    "jp-MarkdownHeadingCollapsed": true
   },
   "source": [
    "## Partition State"
   ]
  },
  {
   "cell_type": "markdown",
   "id": "7dcce60b-6f45-4de0-9afa-65bef035769f",
   "metadata": {},
   "source": [
    "Using the same examples, we can build the fermionic states. "
   ]
  },
  {
   "cell_type": "code",
   "execution_count": 68,
   "id": "d6491822-a42d-408a-9c58-f2b09ed728bd",
   "metadata": {},
   "outputs": [
    {
     "data": {
      "text/plain": [
       "7"
      ]
     },
     "execution_count": 68,
     "metadata": {},
     "output_type": "execute_result"
    }
   ],
   "source": [
    "len(state_level5.partition_states()) # We get the same 42 states but represented in terms of partitions"
   ]
  },
  {
   "cell_type": "code",
   "execution_count": 69,
   "id": "0d49be45-6213-4dcb-9d91-2b1219686f7c",
   "metadata": {
    "scrolled": true
   },
   "outputs": [
    {
     "name": "stdout",
     "output_type": "stream",
     "text": [
      "--------------------------------------------------------------------------------\n",
      "Fermionic representation 1: |(1, 1, 1, 1, 1)>\n",
      "🎲 \n",
      "🎲 \n",
      "🎲 \n",
      "🎲 \n",
      "🎲 \n",
      "--------------------------------------------------------------------------------\n",
      "--------------------------------------------------------------------------------\n",
      "Fermionic representation 2: |(2, 1, 1, 1, 0)>\n",
      "🎲 \n",
      "🎲 \n",
      "🎲 \n",
      "🎲 🎲 \n",
      "--------------------------------------------------------------------------------\n",
      "--------------------------------------------------------------------------------\n",
      "Fermionic representation 3: |(3, 1, 1, 0, 0)>\n",
      "🎲 \n",
      "🎲 \n",
      "🎲 🎲 🎲 \n",
      "--------------------------------------------------------------------------------\n",
      "--------------------------------------------------------------------------------\n",
      "Fermionic representation 4: |(2, 2, 1, 0, 0)>\n",
      "🎲 \n",
      "🎲 🎲 \n",
      "🎲 🎲 \n",
      "--------------------------------------------------------------------------------\n",
      "--------------------------------------------------------------------------------\n",
      "Fermionic representation 5: |(4, 1, 0, 0, 0)>\n",
      "🎲 \n",
      "🎲 🎲 🎲 🎲 \n",
      "--------------------------------------------------------------------------------\n",
      "--------------------------------------------------------------------------------\n",
      "Fermionic representation 6: |(3, 2, 0, 0, 0)>\n",
      "🎲 🎲 \n",
      "🎲 🎲 🎲 \n",
      "--------------------------------------------------------------------------------\n",
      "--------------------------------------------------------------------------------\n",
      "Fermionic representation 7: |(5, 0, 0, 0, 0)>\n",
      "🎲 🎲 🎲 🎲 🎲 \n",
      "--------------------------------------------------------------------------------\n"
     ]
    }
   ],
   "source": [
    "for a in state_level5.partition_states():\n",
    "    print(40*\"--\")\n",
    "    print(f\"Fermionic representation {state_level10.partition_states().index(a)+1}: |{a}>\")\n",
    "    sy.YoungDiagram(a).draw_diagram()\n",
    "    print(40*\"--\")"
   ]
  },
  {
   "cell_type": "markdown",
   "id": "b87899b9-285c-4fe5-a656-dbb0157b425f",
   "metadata": {
    "jp-MarkdownHeadingCollapsed": true
   },
   "source": [
    "## Characters"
   ]
  },
  {
   "cell_type": "markdown",
   "id": "0a4ef0c0-8254-4143-86cd-50688aa2e973",
   "metadata": {},
   "source": [
    "One useful function defined in the utils module is the character(young: YoungDiagram , conjugacy: ConjugacyClass), that as the name suggests, gives the character $$\\chi_{\\lambda}(k)$$"
   ]
  },
  {
   "cell_type": "code",
   "execution_count": 2,
   "id": "1bca99fa-e821-434b-92f3-74795775c09c",
   "metadata": {},
   "outputs": [
    {
     "data": {
      "text/latex": [
       "$\\displaystyle 1$"
      ],
      "text/plain": [
       "1"
      ]
     },
     "execution_count": 2,
     "metadata": {},
     "output_type": "execute_result"
    }
   ],
   "source": [
    "# For example. \n",
    "yg = sy.YoungDiagram((3,))\n",
    "cj = sy.ConjugacyClass({1: 3, 2: 0, 3: 0})\n",
    "ut.character(yg, cj)"
   ]
  },
  {
   "cell_type": "markdown",
   "id": "c37eaaa5-20c0-4d54-8054-f32f5da23161",
   "metadata": {},
   "source": [
    "The nice point about the State class is that we can build the character table for any given integer. "
   ]
  },
  {
   "cell_type": "code",
   "execution_count": 3,
   "id": "c0feca0a-eea7-4576-ab39-0166bfa9a3ce",
   "metadata": {},
   "outputs": [],
   "source": [
    "# Let's define the function character_table:\n",
    "def character_table(n):\n",
    "    '''\n",
    "    Gives the table of characters for the level n.\n",
    "    '''\n",
    "    chi = sp.Symbol(f'chi')\n",
    "\n",
    "    states = sy.State(n)\n",
    "    partitions = states.partition_states()\n",
    "    conjugacy = states.conjugacy_states()\n",
    "    \n",
    "    for a in partitions:\n",
    "        yg = sy.YoungDiagram(a)\n",
    "        display(Latex(r'$\\chi$'), yg.partition)\n",
    "        for b in conjugacy:\n",
    "            cj = sy.ConjugacyClass(b)\n",
    "            if ut.character(yg, cj) >= 0:\n",
    "                print(f\"{4*' '}{b}: {' '}{ut.character(yg, cj)}\")\n",
    "            else:\n",
    "                print(f\"{4*' '}{b}: {ut.character(yg, cj)}\")"
   ]
  },
  {
   "cell_type": "code",
   "execution_count": 4,
   "id": "f7e22c10-fd7c-40d1-9ac2-6ce9ec178ec2",
   "metadata": {},
   "outputs": [
    {
     "data": {
      "text/latex": [
       "$\\chi$"
      ],
      "text/plain": [
       "<IPython.core.display.Latex object>"
      ]
     },
     "metadata": {},
     "output_type": "display_data"
    },
    {
     "data": {
      "text/plain": [
       "(1, 1, 1)"
      ]
     },
     "metadata": {},
     "output_type": "display_data"
    },
    {
     "name": "stdout",
     "output_type": "stream",
     "text": [
      "    {1: 3, 2: 0, 3: 0}:  1\n",
      "    {1: 1, 2: 1, 3: 0}: -1\n",
      "    {1: 0, 2: 0, 3: 1}:  1\n"
     ]
    },
    {
     "data": {
      "text/latex": [
       "$\\chi$"
      ],
      "text/plain": [
       "<IPython.core.display.Latex object>"
      ]
     },
     "metadata": {},
     "output_type": "display_data"
    },
    {
     "data": {
      "text/plain": [
       "(2, 1, 0)"
      ]
     },
     "metadata": {},
     "output_type": "display_data"
    },
    {
     "name": "stdout",
     "output_type": "stream",
     "text": [
      "    {1: 3, 2: 0, 3: 0}:  2\n",
      "    {1: 1, 2: 1, 3: 0}:  0\n",
      "    {1: 0, 2: 0, 3: 1}: -1\n"
     ]
    },
    {
     "data": {
      "text/latex": [
       "$\\chi$"
      ],
      "text/plain": [
       "<IPython.core.display.Latex object>"
      ]
     },
     "metadata": {},
     "output_type": "display_data"
    },
    {
     "data": {
      "text/plain": [
       "(3, 0, 0)"
      ]
     },
     "metadata": {},
     "output_type": "display_data"
    },
    {
     "name": "stdout",
     "output_type": "stream",
     "text": [
      "    {1: 3, 2: 0, 3: 0}:  1\n",
      "    {1: 1, 2: 1, 3: 0}:  1\n",
      "    {1: 0, 2: 0, 3: 1}:  1\n"
     ]
    }
   ],
   "source": [
    "character_table(3)"
   ]
  },
  {
   "cell_type": "markdown",
   "id": "cbde8250-023c-40b4-8b02-027836fa23a1",
   "metadata": {
    "jp-MarkdownHeadingCollapsed": true
   },
   "source": [
    "# Class: HomogeneousPolynomial"
   ]
  },
  {
   "cell_type": "markdown",
   "id": "5a35f7d3-cdf5-4164-b529-6f45bd27cc76",
   "metadata": {},
   "source": [
    "Now we deal witht the Complete Homogeneous Symmetric Polynomials. The idea of this module is very straightforward, but it has some subtleties that we need to discuss. \n",
    "\n",
    "Let us first initialize the first 6 polynomials, zero included."
   ]
  },
  {
   "cell_type": "code",
   "execution_count": 2,
   "id": "19e2d5e2-251b-42fe-81fb-b20060b888ea",
   "metadata": {},
   "outputs": [],
   "source": [
    "n = 6\n",
    "homogeneous = [sy.HomogeneousPolynomial(i) for i in range(6)]"
   ]
  },
  {
   "cell_type": "markdown",
   "id": "06c294de-ddf1-4078-ac54-e8dd57f6c0c7",
   "metadata": {},
   "source": [
    "## Coordinates t as tuples"
   ]
  },
  {
   "cell_type": "markdown",
   "id": "b881e10d-8402-4707-897d-71e0b7d6f43f",
   "metadata": {},
   "source": [
    "We initialize the Miwa coordinates using the sympy definitions. It is a tuple. Observe that the polynomial of degree '$n$' depends on the coordinate $t_n$."
   ]
  },
  {
   "cell_type": "code",
   "execution_count": 3,
   "id": "c571d21b-9eda-4840-b475-b518f05d0866",
   "metadata": {},
   "outputs": [
    {
     "data": {
      "text/plain": [
       "(t1, t2, t3, t4, t5)"
      ]
     },
     "execution_count": 3,
     "metadata": {},
     "output_type": "execute_result"
    }
   ],
   "source": [
    "t = sp.symbols(f't1:{n}')\n",
    "t"
   ]
  },
  {
   "cell_type": "markdown",
   "id": "e406006d-6472-4f57-bb65-ef43c42d02ee",
   "metadata": {},
   "source": [
    "We can now expand the Complete Homogeneous Polynomials with the method explicit(). "
   ]
  },
  {
   "cell_type": "code",
   "execution_count": 4,
   "id": "37de2079-9f9f-4ad5-aa3c-6f88be644b9c",
   "metadata": {},
   "outputs": [
    {
     "data": {
      "text/plain": [
       "1"
      ]
     },
     "metadata": {},
     "output_type": "display_data"
    },
    {
     "name": "stdout",
     "output_type": "stream",
     "text": [
      "----------\n"
     ]
    },
    {
     "data": {
      "text/latex": [
       "$\\displaystyle t_{1}$"
      ],
      "text/plain": [
       "t1"
      ]
     },
     "metadata": {},
     "output_type": "display_data"
    },
    {
     "name": "stdout",
     "output_type": "stream",
     "text": [
      "----------\n"
     ]
    },
    {
     "data": {
      "text/latex": [
       "$\\displaystyle \\frac{t_{1}^{2}}{2} + t_{2}$"
      ],
      "text/plain": [
       "t1**2/2 + t2"
      ]
     },
     "metadata": {},
     "output_type": "display_data"
    },
    {
     "name": "stdout",
     "output_type": "stream",
     "text": [
      "----------\n"
     ]
    },
    {
     "data": {
      "text/latex": [
       "$\\displaystyle \\frac{t_{1}^{3}}{6} + t_{1} t_{2} + t_{3}$"
      ],
      "text/plain": [
       "t1**3/6 + t1*t2 + t3"
      ]
     },
     "metadata": {},
     "output_type": "display_data"
    },
    {
     "name": "stdout",
     "output_type": "stream",
     "text": [
      "----------\n"
     ]
    },
    {
     "data": {
      "text/latex": [
       "$\\displaystyle \\frac{t_{1}^{4}}{24} + \\frac{t_{1}^{2} t_{2}}{2} + t_{1} t_{3} + \\frac{t_{2}^{2}}{2} + t_{4}$"
      ],
      "text/plain": [
       "t1**4/24 + t1**2*t2/2 + t1*t3 + t2**2/2 + t4"
      ]
     },
     "metadata": {},
     "output_type": "display_data"
    },
    {
     "name": "stdout",
     "output_type": "stream",
     "text": [
      "----------\n"
     ]
    },
    {
     "data": {
      "text/latex": [
       "$\\displaystyle \\frac{t_{1}^{5}}{120} + \\frac{t_{1}^{3} t_{2}}{6} + \\frac{t_{1}^{2} t_{3}}{2} + \\frac{t_{1} t_{2}^{2}}{2} + t_{1} t_{4} + t_{2} t_{3} + t_{5}$"
      ],
      "text/plain": [
       "t1**5/120 + t1**3*t2/6 + t1**2*t3/2 + t1*t2**2/2 + t1*t4 + t2*t3 + t5"
      ]
     },
     "metadata": {},
     "output_type": "display_data"
    },
    {
     "name": "stdout",
     "output_type": "stream",
     "text": [
      "----------\n"
     ]
    }
   ],
   "source": [
    "for a in homogeneous:\n",
    "    display(a.explicit(t))\n",
    "    print(10*'-')"
   ]
  },
  {
   "cell_type": "markdown",
   "id": "0e342520-9fdc-4e5a-81e5-3be4114dc7cb",
   "metadata": {},
   "source": [
    "If we try to print the sixth homogeneous polynomial, we get an exception because we have not defined the coordinate $t_6$. "
   ]
  },
  {
   "cell_type": "code",
   "execution_count": 5,
   "id": "1919e048-5b71-477b-b38e-9a123f7dbbaf",
   "metadata": {},
   "outputs": [
    {
     "ename": "TypeError",
     "evalue": "The list t must have, at least, as many coordinates\n                as the level of the conjugacy class",
     "output_type": "error",
     "traceback": [
      "\u001b[0;31m---------------------------------------------------------------------------\u001b[0m",
      "\u001b[0;31mTypeError\u001b[0m                                 Traceback (most recent call last)",
      "Cell \u001b[0;32mIn[5], line 1\u001b[0m\n\u001b[0;32m----> 1\u001b[0m \u001b[43msy\u001b[49m\u001b[38;5;241;43m.\u001b[39;49m\u001b[43mHomogeneousPolynomial\u001b[49m\u001b[43m(\u001b[49m\u001b[38;5;241;43m6\u001b[39;49m\u001b[43m)\u001b[49m\u001b[38;5;241;43m.\u001b[39;49m\u001b[43mexplicit\u001b[49m\u001b[43m(\u001b[49m\u001b[43mt\u001b[49m\u001b[43m)\u001b[49m\n",
      "File \u001b[0;32m~/Documents/projects/work/pySymmetricPolynomials/src/symmpol/homogeneous.py:39\u001b[0m, in \u001b[0;36mHomogeneousPolynomial.explicit\u001b[0;34m(self, t, pol)\u001b[0m\n\u001b[1;32m     36\u001b[0m     t \u001b[38;5;241m=\u001b[39m \u001b[38;5;28mtuple\u001b[39m(t\u001b[38;5;241m.\u001b[39mvalues())\n\u001b[1;32m     38\u001b[0m \u001b[38;5;28;01mif\u001b[39;00m \u001b[38;5;28mlen\u001b[39m(t) \u001b[38;5;241m<\u001b[39m \u001b[38;5;28mself\u001b[39m\u001b[38;5;241m.\u001b[39m_level:\n\u001b[0;32m---> 39\u001b[0m     \u001b[38;5;28;01mraise\u001b[39;00m \u001b[38;5;167;01mTypeError\u001b[39;00m(\u001b[38;5;124m'''\u001b[39m\u001b[38;5;124mThe list t must have, at least, as many coordinates\u001b[39m\n\u001b[1;32m     40\u001b[0m \u001b[38;5;124m        as the level of the conjugacy class\u001b[39m\u001b[38;5;124m'''\u001b[39m)\n\u001b[1;32m     42\u001b[0m \u001b[38;5;28;01melse\u001b[39;00m:\n\u001b[1;32m     43\u001b[0m     \u001b[38;5;28;01mif\u001b[39;00m \u001b[38;5;28mself\u001b[39m\u001b[38;5;241m.\u001b[39m_level \u001b[38;5;241m<\u001b[39m \u001b[38;5;241m0\u001b[39m:\n",
      "\u001b[0;31mTypeError\u001b[0m: The list t must have, at least, as many coordinates\n                as the level of the conjugacy class"
     ]
    }
   ],
   "source": [
    "sy.HomogeneousPolynomial(6).explicit(t)"
   ]
  },
  {
   "cell_type": "markdown",
   "id": "3313fb1d-000d-40de-bb55-67ace4529558",
   "metadata": {},
   "source": [
    "## Coordinates t as dictionary"
   ]
  },
  {
   "cell_type": "markdown",
   "id": "020fc23d-80bf-4f3e-b9fb-70c7ec7ad232",
   "metadata": {},
   "source": [
    "The inconvenience of the miwa coordinates as a tuple is that the conventions are that the first coordinate is $t_1$ but since the tuples and lists start at $0$, is might be confusing to always manipulate expressions in with $t[n] = t_{n+1}$. So, it is better to use dictionaries as in the definition of the Miwa coordinates, where the keys become our indices. **The explict methods accepts the argument as a dictionary.** \n",
    "\n",
    "> t = dict(enumerate(sp.symbols(f't1:{n+1}'), 1))\n",
    "\n",
    "In the utils.py, we have a function *create_miwa(n)* that creates the appropriate dictionaries for us. In fact., it creates one additional coordinate. "
   ]
  },
  {
   "cell_type": "code",
   "execution_count": 3,
   "id": "677b11a2-ac07-4c0b-9b3c-1ea73f8af501",
   "metadata": {},
   "outputs": [],
   "source": [
    "t_dict = ut.create_miwa(n)"
   ]
  },
  {
   "cell_type": "code",
   "execution_count": 4,
   "id": "bf6b56aa-288e-4438-9f5a-d1630a18319f",
   "metadata": {},
   "outputs": [
    {
     "data": {
      "text/plain": [
       "{1: t1, 2: t2, 3: t3, 4: t4, 5: t5, 6: t6}"
      ]
     },
     "execution_count": 4,
     "metadata": {},
     "output_type": "execute_result"
    }
   ],
   "source": [
    "t_dict"
   ]
  },
  {
   "cell_type": "code",
   "execution_count": 8,
   "id": "8fff5c7c-2e93-44d0-a2e3-2625ea401a4d",
   "metadata": {},
   "outputs": [
    {
     "data": {
      "text/plain": [
       "1"
      ]
     },
     "metadata": {},
     "output_type": "display_data"
    },
    {
     "name": "stdout",
     "output_type": "stream",
     "text": [
      "----------\n"
     ]
    },
    {
     "data": {
      "text/latex": [
       "$\\displaystyle t_{1}$"
      ],
      "text/plain": [
       "t1"
      ]
     },
     "metadata": {},
     "output_type": "display_data"
    },
    {
     "name": "stdout",
     "output_type": "stream",
     "text": [
      "----------\n"
     ]
    },
    {
     "data": {
      "text/latex": [
       "$\\displaystyle \\frac{t_{1}^{2}}{2} + t_{2}$"
      ],
      "text/plain": [
       "t1**2/2 + t2"
      ]
     },
     "metadata": {},
     "output_type": "display_data"
    },
    {
     "name": "stdout",
     "output_type": "stream",
     "text": [
      "----------\n"
     ]
    },
    {
     "data": {
      "text/latex": [
       "$\\displaystyle \\frac{t_{1}^{3}}{6} + t_{1} t_{2} + t_{3}$"
      ],
      "text/plain": [
       "t1**3/6 + t1*t2 + t3"
      ]
     },
     "metadata": {},
     "output_type": "display_data"
    },
    {
     "name": "stdout",
     "output_type": "stream",
     "text": [
      "----------\n"
     ]
    },
    {
     "data": {
      "text/latex": [
       "$\\displaystyle \\frac{t_{1}^{4}}{24} + \\frac{t_{1}^{2} t_{2}}{2} + t_{1} t_{3} + \\frac{t_{2}^{2}}{2} + t_{4}$"
      ],
      "text/plain": [
       "t1**4/24 + t1**2*t2/2 + t1*t3 + t2**2/2 + t4"
      ]
     },
     "metadata": {},
     "output_type": "display_data"
    },
    {
     "name": "stdout",
     "output_type": "stream",
     "text": [
      "----------\n"
     ]
    },
    {
     "data": {
      "text/latex": [
       "$\\displaystyle \\frac{t_{1}^{5}}{120} + \\frac{t_{1}^{3} t_{2}}{6} + \\frac{t_{1}^{2} t_{3}}{2} + \\frac{t_{1} t_{2}^{2}}{2} + t_{1} t_{4} + t_{2} t_{3} + t_{5}$"
      ],
      "text/plain": [
       "t1**5/120 + t1**3*t2/6 + t1**2*t3/2 + t1*t2**2/2 + t1*t4 + t2*t3 + t5"
      ]
     },
     "metadata": {},
     "output_type": "display_data"
    },
    {
     "name": "stdout",
     "output_type": "stream",
     "text": [
      "----------\n"
     ]
    }
   ],
   "source": [
    "for a in homogeneous:\n",
    "    display(a.explicit(t_dict))\n",
    "    print(10*'-')"
   ]
  },
  {
   "cell_type": "markdown",
   "id": "b4b40c55-2cb9-463a-a5c4-c2d4eaeeea53",
   "metadata": {
    "jp-MarkdownHeadingCollapsed": true
   },
   "source": [
    "## Sympy Polynomials"
   ]
  },
  {
   "cell_type": "markdown",
   "id": "b192edf7-df17-403a-9871-f9509b872cb5",
   "metadata": {},
   "source": [
    "Sometimes, it might be useful to access all the Polynomials methods in sympy. \n",
    "The method accepts a boolean argument. Its default value is False, but if we pass the True argument, the explicit method will return a sympy polynomial. Using the explicit sympy expression also helps us with some internal symplifications that the crude answer does not give. "
   ]
  },
  {
   "cell_type": "code",
   "execution_count": 10,
   "id": "ca43891e-9265-41c3-bf96-c121e579e73b",
   "metadata": {},
   "outputs": [
    {
     "data": {
      "text/plain": [
       "1"
      ]
     },
     "metadata": {},
     "output_type": "display_data"
    },
    {
     "name": "stdout",
     "output_type": "stream",
     "text": [
      "----------\n"
     ]
    },
    {
     "data": {
      "text/latex": [
       "$\\displaystyle \\operatorname{Poly}{\\left( t_{1}, t_{1}, domain=\\mathbb{Q} \\right)}$"
      ],
      "text/plain": [
       "Poly(t1, t1, domain='QQ')"
      ]
     },
     "metadata": {},
     "output_type": "display_data"
    },
    {
     "name": "stdout",
     "output_type": "stream",
     "text": [
      "----------\n"
     ]
    },
    {
     "data": {
      "text/latex": [
       "$\\displaystyle \\operatorname{Poly}{\\left( \\frac{1}{2} t_{1}^{2} + t_{2}, t_{1}, t_{2}, domain=\\mathbb{Q} \\right)}$"
      ],
      "text/plain": [
       "Poly(1/2*t1**2 + t2, t1, t2, domain='QQ')"
      ]
     },
     "metadata": {},
     "output_type": "display_data"
    },
    {
     "name": "stdout",
     "output_type": "stream",
     "text": [
      "----------\n"
     ]
    },
    {
     "data": {
      "text/latex": [
       "$\\displaystyle \\operatorname{Poly}{\\left( \\frac{1}{6} t_{1}^{3} + t_{1}t_{2} + t_{3}, t_{1}, t_{2}, t_{3}, domain=\\mathbb{Q} \\right)}$"
      ],
      "text/plain": [
       "Poly(1/6*t1**3 + t1*t2 + t3, t1, t2, t3, domain='QQ')"
      ]
     },
     "metadata": {},
     "output_type": "display_data"
    },
    {
     "name": "stdout",
     "output_type": "stream",
     "text": [
      "----------\n"
     ]
    },
    {
     "data": {
      "text/latex": [
       "$\\displaystyle \\operatorname{Poly}{\\left( \\frac{1}{24} t_{1}^{4} + \\frac{1}{2} t_{1}^{2}t_{2} + t_{1}t_{3} + \\frac{1}{2} t_{2}^{2} + t_{4}, t_{1}, t_{2}, t_{3}, t_{4}, domain=\\mathbb{Q} \\right)}$"
      ],
      "text/plain": [
       "Poly(1/24*t1**4 + 1/2*t1**2*t2 + t1*t3 + 1/2*t2**2 + t4, t1, t2, t3, t4, domain='QQ')"
      ]
     },
     "metadata": {},
     "output_type": "display_data"
    },
    {
     "name": "stdout",
     "output_type": "stream",
     "text": [
      "----------\n"
     ]
    },
    {
     "data": {
      "text/latex": [
       "$\\displaystyle \\operatorname{Poly}{\\left( \\frac{1}{120} t_{1}^{5} + \\frac{1}{6} t_{1}^{3}t_{2} + \\frac{1}{2} t_{1}^{2}t_{3} + \\frac{1}{2} t_{1}t_{2}^{2} + t_{1}t_{4} + t_{2}t_{3} + t_{5}, t_{1}, t_{2}, t_{3}, t_{4}, t_{5}, domain=\\mathbb{Q} \\right)}$"
      ],
      "text/plain": [
       "Poly(1/120*t1**5 + 1/6*t1**3*t2 + 1/2*t1**2*t3 + 1/2*t1*t2**2 + t1*t4 + t2*t3 + t5, t1, t2, t3, t4, t5, domain='QQ')"
      ]
     },
     "metadata": {},
     "output_type": "display_data"
    },
    {
     "name": "stdout",
     "output_type": "stream",
     "text": [
      "----------\n"
     ]
    }
   ],
   "source": [
    "for a in homogeneous:\n",
    "    display(a.explicit(t_dict, True))\n",
    "    print(10*'-')"
   ]
  },
  {
   "cell_type": "markdown",
   "id": "4bb89615-33fb-4b36-89a3-13bf73ab9e26",
   "metadata": {},
   "source": [
    "## x-Coordinates"
   ]
  },
  {
   "cell_type": "markdown",
   "id": "d50791ae-e73d-42c7-b6e0-44feeaa1e999",
   "metadata": {},
   "source": [
    "Another important aspect is to consider the homogeneous polynomials in the x-coordinates. Given the coordinates $x = (x_1, \\dots, x_m)$, the Miwa coordinates are\n",
    "$$ \n",
    "t_p = \\frac{1}{p} \\sum_{j=1}^n x_j^p\\ ; \\qquad p \\geq 1 \n",
    "$$\n",
    "(another reason to use the Miwa coordinates as a dictionary). Therefore, one should also want to express the Homogeneous Polynomials in these coordinates. One easy way to accomplish this is with the numpy arrays, \n",
    "for example, suppose that m=3, $\\vec{x} = (x_1, x_2, x_3)$, then"
   ]
  },
  {
   "cell_type": "code",
   "execution_count": 43,
   "id": "ba3d1dd7-d66e-443c-8783-749cc2fc6b39",
   "metadata": {},
   "outputs": [],
   "source": [
    "m = 3\n",
    "x = np.array(sp.symbols(f'x1:{m+1}'))"
   ]
  },
  {
   "cell_type": "code",
   "execution_count": 44,
   "id": "226b3ec4-f05f-41d4-9c39-be2d6d8c5dfe",
   "metadata": {},
   "outputs": [
    {
     "data": {
      "text/plain": [
       "array([x1, x2, x3], dtype=object)"
      ]
     },
     "execution_count": 44,
     "metadata": {},
     "output_type": "execute_result"
    }
   ],
   "source": [
    "x"
   ]
  },
  {
   "cell_type": "markdown",
   "id": "c5df341c-61c7-4b49-b061-7ee16ea566ff",
   "metadata": {},
   "source": [
    "We can now define the t as a comprehension"
   ]
  },
  {
   "cell_type": "code",
   "execution_count": 45,
   "id": "2ebb54c8-92a1-4770-9a7c-e1de7eaa3a21",
   "metadata": {},
   "outputs": [],
   "source": [
    "t = {j: sum(x**j)/j for j in range(1, n)}"
   ]
  },
  {
   "cell_type": "code",
   "execution_count": 46,
   "id": "4f37451c-0261-4ff0-b3c0-1d9d7780b1a0",
   "metadata": {},
   "outputs": [
    {
     "data": {
      "text/plain": [
       "1"
      ]
     },
     "metadata": {},
     "output_type": "display_data"
    },
    {
     "name": "stdout",
     "output_type": "stream",
     "text": [
      "----------\n"
     ]
    },
    {
     "data": {
      "text/latex": [
       "$\\displaystyle \\operatorname{Poly}{\\left( x_{1} + x_{2} + x_{3}, x_{1}, x_{2}, x_{3}, domain=\\mathbb{Q} \\right)}$"
      ],
      "text/plain": [
       "Poly(x1 + x2 + x3, x1, x2, x3, domain='QQ')"
      ]
     },
     "metadata": {},
     "output_type": "display_data"
    },
    {
     "name": "stdout",
     "output_type": "stream",
     "text": [
      "----------\n"
     ]
    },
    {
     "data": {
      "text/latex": [
       "$\\displaystyle \\operatorname{Poly}{\\left( x_{1}^{2} + x_{1}x_{2} + x_{1}x_{3} + x_{2}^{2} + x_{2}x_{3} + x_{3}^{2}, x_{1}, x_{2}, x_{3}, domain=\\mathbb{Q} \\right)}$"
      ],
      "text/plain": [
       "Poly(x1**2 + x1*x2 + x1*x3 + x2**2 + x2*x3 + x3**2, x1, x2, x3, domain='QQ')"
      ]
     },
     "metadata": {},
     "output_type": "display_data"
    },
    {
     "name": "stdout",
     "output_type": "stream",
     "text": [
      "----------\n"
     ]
    },
    {
     "data": {
      "text/latex": [
       "$\\displaystyle \\operatorname{Poly}{\\left( x_{1}^{3} + x_{1}^{2}x_{2} + x_{1}^{2}x_{3} + x_{1}x_{2}^{2} + x_{1}x_{2}x_{3} + x_{1}x_{3}^{2} + x_{2}^{3} + x_{2}^{2}x_{3} + x_{2}x_{3}^{2} + x_{3}^{3}, x_{1}, x_{2}, x_{3}, domain=\\mathbb{Q} \\right)}$"
      ],
      "text/plain": [
       "Poly(x1**3 + x1**2*x2 + x1**2*x3 + x1*x2**2 + x1*x2*x3 + x1*x3**2 + x2**3 + x2**2*x3 + x2*x3**2 + x3**3, x1, x2, x3, domain='QQ')"
      ]
     },
     "metadata": {},
     "output_type": "display_data"
    },
    {
     "name": "stdout",
     "output_type": "stream",
     "text": [
      "----------\n"
     ]
    },
    {
     "data": {
      "text/latex": [
       "$\\displaystyle \\operatorname{Poly}{\\left( x_{1}^{4} + x_{1}^{3}x_{2} + x_{1}^{3}x_{3} + x_{1}^{2}x_{2}^{2} + x_{1}^{2}x_{2}x_{3} + x_{1}^{2}x_{3}^{2} + x_{1}x_{2}^{3} + x_{1}x_{2}^{2}x_{3} + x_{1}x_{2}x_{3}^{2} + x_{1}x_{3}^{3} + x_{2}^{4} + x_{2}^{3}x_{3} + x_{2}^{2}x_{3}^{2} + x_{2}x_{3}^{3} + x_{3}^{4}, x_{1}, x_{2}, x_{3}, domain=\\mathbb{Q} \\right)}$"
      ],
      "text/plain": [
       "Poly(x1**4 + x1**3*x2 + x1**3*x3 + x1**2*x2**2 + x1**2*x2*x3 + x1**2*x3**2 + x1*x2**3 + x1*x2**2*x3 + x1*x2*x3**2 + x1*x3**3 + x2**4 + x2**3*x3 + x2**2*x3**2 + x2*x3**3 + x3**4, x1, x2, x3, domain='QQ')"
      ]
     },
     "metadata": {},
     "output_type": "display_data"
    },
    {
     "name": "stdout",
     "output_type": "stream",
     "text": [
      "----------\n"
     ]
    },
    {
     "data": {
      "text/latex": [
       "$\\displaystyle \\operatorname{Poly}{\\left( x_{1}^{5} + x_{1}^{4}x_{2} + x_{1}^{4}x_{3} + x_{1}^{3}x_{2}^{2} + x_{1}^{3}x_{2}x_{3} + x_{1}^{3}x_{3}^{2} + x_{1}^{2}x_{2}^{3} + x_{1}^{2}x_{2}^{2}x_{3} + x_{1}^{2}x_{2}x_{3}^{2} + x_{1}^{2}x_{3}^{3} + x_{1}x_{2}^{4} + x_{1}x_{2}^{3}x_{3} + x_{1}x_{2}^{2}x_{3}^{2} + x_{1}x_{2}x_{3}^{3} + x_{1}x_{3}^{4} + x_{2}^{5} + x_{2}^{4}x_{3} + x_{2}^{3}x_{3}^{2} + x_{2}^{2}x_{3}^{3} + x_{2}x_{3}^{4} + x_{3}^{5}, x_{1}, x_{2}, x_{3}, domain=\\mathbb{Q} \\right)}$"
      ],
      "text/plain": [
       "Poly(x1**5 + x1**4*x2 + x1**4*x3 + x1**3*x2**2 + x1**3*x2*x3 + x1**3*x3**2 + x1**2*x2**3 + x1**2*x2**2*x3 + x1**2*x2*x3**2 + x1**2*x3**3 + x1*x2**4 + x1*x2**3*x3 + x1*x2**2*x3**2 + x1*x2*x3**3 + x1*x3**4 + x2**5 + x2**4*x3 + x2**3*x3**2 + x2**2*x3**3 + x2*x3**4 + x3**5, x1, x2, x3, domain='QQ')"
      ]
     },
     "metadata": {},
     "output_type": "display_data"
    },
    {
     "name": "stdout",
     "output_type": "stream",
     "text": [
      "----------\n"
     ]
    }
   ],
   "source": [
    "for a in homogeneous:\n",
    "    display(a.explicit(t, True))\n",
    "    print(10*'-')"
   ]
  },
  {
   "cell_type": "markdown",
   "id": "95d3d32a-5764-4f8b-af9f-b137986bb080",
   "metadata": {},
   "source": [
    "In the *utils.py*, we have a function that creates the x coordinate fox us. It receives 2 arguments, n and m defined above, where the second has default m=1."
   ]
  },
  {
   "cell_type": "code",
   "execution_count": 10,
   "id": "7bf8575e-bf26-4956-a0c7-3e4e9ca30efd",
   "metadata": {},
   "outputs": [],
   "source": [
    "tt = ut.create_x_coord(n, 3)"
   ]
  },
  {
   "cell_type": "code",
   "execution_count": 12,
   "id": "ee30e0d7-8b17-4b3e-a43a-85de5e17ca26",
   "metadata": {},
   "outputs": [
    {
     "data": {
      "text/plain": [
       "1"
      ]
     },
     "metadata": {},
     "output_type": "display_data"
    },
    {
     "name": "stdout",
     "output_type": "stream",
     "text": [
      "----------\n"
     ]
    },
    {
     "data": {
      "text/latex": [
       "$\\displaystyle \\operatorname{Poly}{\\left( x_{1} + x_{2} + x_{3}, x_{1}, x_{2}, x_{3}, domain=\\mathbb{Q} \\right)}$"
      ],
      "text/plain": [
       "Poly(x1 + x2 + x3, x1, x2, x3, domain='QQ')"
      ]
     },
     "metadata": {},
     "output_type": "display_data"
    },
    {
     "name": "stdout",
     "output_type": "stream",
     "text": [
      "----------\n"
     ]
    },
    {
     "data": {
      "text/latex": [
       "$\\displaystyle \\operatorname{Poly}{\\left( x_{1}^{2} + x_{1}x_{2} + x_{1}x_{3} + x_{2}^{2} + x_{2}x_{3} + x_{3}^{2}, x_{1}, x_{2}, x_{3}, domain=\\mathbb{Q} \\right)}$"
      ],
      "text/plain": [
       "Poly(x1**2 + x1*x2 + x1*x3 + x2**2 + x2*x3 + x3**2, x1, x2, x3, domain='QQ')"
      ]
     },
     "metadata": {},
     "output_type": "display_data"
    },
    {
     "name": "stdout",
     "output_type": "stream",
     "text": [
      "----------\n"
     ]
    },
    {
     "data": {
      "text/latex": [
       "$\\displaystyle \\operatorname{Poly}{\\left( x_{1}^{3} + x_{1}^{2}x_{2} + x_{1}^{2}x_{3} + x_{1}x_{2}^{2} + x_{1}x_{2}x_{3} + x_{1}x_{3}^{2} + x_{2}^{3} + x_{2}^{2}x_{3} + x_{2}x_{3}^{2} + x_{3}^{3}, x_{1}, x_{2}, x_{3}, domain=\\mathbb{Q} \\right)}$"
      ],
      "text/plain": [
       "Poly(x1**3 + x1**2*x2 + x1**2*x3 + x1*x2**2 + x1*x2*x3 + x1*x3**2 + x2**3 + x2**2*x3 + x2*x3**2 + x3**3, x1, x2, x3, domain='QQ')"
      ]
     },
     "metadata": {},
     "output_type": "display_data"
    },
    {
     "name": "stdout",
     "output_type": "stream",
     "text": [
      "----------\n"
     ]
    },
    {
     "data": {
      "text/latex": [
       "$\\displaystyle \\operatorname{Poly}{\\left( x_{1}^{4} + x_{1}^{3}x_{2} + x_{1}^{3}x_{3} + x_{1}^{2}x_{2}^{2} + x_{1}^{2}x_{2}x_{3} + x_{1}^{2}x_{3}^{2} + x_{1}x_{2}^{3} + x_{1}x_{2}^{2}x_{3} + x_{1}x_{2}x_{3}^{2} + x_{1}x_{3}^{3} + x_{2}^{4} + x_{2}^{3}x_{3} + x_{2}^{2}x_{3}^{2} + x_{2}x_{3}^{3} + x_{3}^{4}, x_{1}, x_{2}, x_{3}, domain=\\mathbb{Q} \\right)}$"
      ],
      "text/plain": [
       "Poly(x1**4 + x1**3*x2 + x1**3*x3 + x1**2*x2**2 + x1**2*x2*x3 + x1**2*x3**2 + x1*x2**3 + x1*x2**2*x3 + x1*x2*x3**2 + x1*x3**3 + x2**4 + x2**3*x3 + x2**2*x3**2 + x2*x3**3 + x3**4, x1, x2, x3, domain='QQ')"
      ]
     },
     "metadata": {},
     "output_type": "display_data"
    },
    {
     "name": "stdout",
     "output_type": "stream",
     "text": [
      "----------\n"
     ]
    },
    {
     "data": {
      "text/latex": [
       "$\\displaystyle \\operatorname{Poly}{\\left( x_{1}^{5} + x_{1}^{4}x_{2} + x_{1}^{4}x_{3} + x_{1}^{3}x_{2}^{2} + x_{1}^{3}x_{2}x_{3} + x_{1}^{3}x_{3}^{2} + x_{1}^{2}x_{2}^{3} + x_{1}^{2}x_{2}^{2}x_{3} + x_{1}^{2}x_{2}x_{3}^{2} + x_{1}^{2}x_{3}^{3} + x_{1}x_{2}^{4} + x_{1}x_{2}^{3}x_{3} + x_{1}x_{2}^{2}x_{3}^{2} + x_{1}x_{2}x_{3}^{3} + x_{1}x_{3}^{4} + x_{2}^{5} + x_{2}^{4}x_{3} + x_{2}^{3}x_{3}^{2} + x_{2}^{2}x_{3}^{3} + x_{2}x_{3}^{4} + x_{3}^{5}, x_{1}, x_{2}, x_{3}, domain=\\mathbb{Q} \\right)}$"
      ],
      "text/plain": [
       "Poly(x1**5 + x1**4*x2 + x1**4*x3 + x1**3*x2**2 + x1**3*x2*x3 + x1**3*x3**2 + x1**2*x2**3 + x1**2*x2**2*x3 + x1**2*x2*x3**2 + x1**2*x3**3 + x1*x2**4 + x1*x2**3*x3 + x1*x2**2*x3**2 + x1*x2*x3**3 + x1*x3**4 + x2**5 + x2**4*x3 + x2**3*x3**2 + x2**2*x3**3 + x2*x3**4 + x3**5, x1, x2, x3, domain='QQ')"
      ]
     },
     "metadata": {},
     "output_type": "display_data"
    },
    {
     "name": "stdout",
     "output_type": "stream",
     "text": [
      "----------\n"
     ]
    }
   ],
   "source": [
    "for a in homogeneous:\n",
    "    display(a.explicit(tt, True))\n",
    "    print(10*'-')"
   ]
  },
  {
   "cell_type": "markdown",
   "id": "90a71178-785d-4c3e-9473-124af0efed36",
   "metadata": {
    "jp-MarkdownHeadingCollapsed": true
   },
   "source": [
    "# Class: ElementaryPolynomial"
   ]
  },
  {
   "cell_type": "markdown",
   "id": "62b75b77-86bb-44a5-b5de-4aee7af0e956",
   "metadata": {},
   "source": [
    "As expected, everything we said about the Complete Homogeneous Polynomials is also true for the Elementary Symmetric Polynomials. "
   ]
  },
  {
   "cell_type": "code",
   "execution_count": 16,
   "id": "986e5454-cdf3-4fc8-a460-fc689a7b9ec0",
   "metadata": {},
   "outputs": [],
   "source": [
    "n = 6\n",
    "elementary = [sy.ElementaryPolynomial(i) for i in range(6)]\n",
    "t_dict = ut.create_miwa(n)"
   ]
  },
  {
   "cell_type": "code",
   "execution_count": 17,
   "id": "83773944-9cca-4210-a01c-3ecc4e456239",
   "metadata": {},
   "outputs": [
    {
     "data": {
      "text/plain": [
       "1"
      ]
     },
     "metadata": {},
     "output_type": "display_data"
    },
    {
     "name": "stdout",
     "output_type": "stream",
     "text": [
      "----------\n"
     ]
    },
    {
     "data": {
      "text/latex": [
       "$\\displaystyle t_{1}$"
      ],
      "text/plain": [
       "t1"
      ]
     },
     "metadata": {},
     "output_type": "display_data"
    },
    {
     "name": "stdout",
     "output_type": "stream",
     "text": [
      "----------\n"
     ]
    },
    {
     "data": {
      "text/latex": [
       "$\\displaystyle \\frac{t_{1}^{2}}{2} - t_{2}$"
      ],
      "text/plain": [
       "t1**2/2 - t2"
      ]
     },
     "metadata": {},
     "output_type": "display_data"
    },
    {
     "name": "stdout",
     "output_type": "stream",
     "text": [
      "----------\n"
     ]
    },
    {
     "data": {
      "text/latex": [
       "$\\displaystyle \\frac{t_{1}^{3}}{6} - t_{1} t_{2} + t_{3}$"
      ],
      "text/plain": [
       "t1**3/6 - t1*t2 + t3"
      ]
     },
     "metadata": {},
     "output_type": "display_data"
    },
    {
     "name": "stdout",
     "output_type": "stream",
     "text": [
      "----------\n"
     ]
    },
    {
     "data": {
      "text/latex": [
       "$\\displaystyle \\frac{t_{1}^{4}}{24} - \\frac{t_{1}^{2} t_{2}}{2} + t_{1} t_{3} + \\frac{t_{2}^{2}}{2} - t_{4}$"
      ],
      "text/plain": [
       "t1**4/24 - t1**2*t2/2 + t1*t3 + t2**2/2 - t4"
      ]
     },
     "metadata": {},
     "output_type": "display_data"
    },
    {
     "name": "stdout",
     "output_type": "stream",
     "text": [
      "----------\n"
     ]
    },
    {
     "data": {
      "text/latex": [
       "$\\displaystyle \\frac{t_{1}^{5}}{120} - \\frac{t_{1}^{3} t_{2}}{6} + \\frac{t_{1}^{2} t_{3}}{2} + \\frac{t_{1} t_{2}^{2}}{2} - t_{1} t_{4} - t_{2} t_{3} + t_{5}$"
      ],
      "text/plain": [
       "t1**5/120 - t1**3*t2/6 + t1**2*t3/2 + t1*t2**2/2 - t1*t4 - t2*t3 + t5"
      ]
     },
     "metadata": {},
     "output_type": "display_data"
    },
    {
     "name": "stdout",
     "output_type": "stream",
     "text": [
      "----------\n"
     ]
    }
   ],
   "source": [
    "for a in elementary:\n",
    "    display(a.explicit(t_dict))\n",
    "    print(10*'-')"
   ]
  },
  {
   "cell_type": "code",
   "execution_count": 18,
   "id": "3ceb5ea1-61a1-4d0e-a83f-7f8443546b14",
   "metadata": {},
   "outputs": [
    {
     "data": {
      "text/plain": [
       "1"
      ]
     },
     "metadata": {},
     "output_type": "display_data"
    },
    {
     "name": "stdout",
     "output_type": "stream",
     "text": [
      "----------\n"
     ]
    },
    {
     "data": {
      "text/latex": [
       "$\\displaystyle \\operatorname{Poly}{\\left( t_{1}, t_{1}, domain=\\mathbb{Q} \\right)}$"
      ],
      "text/plain": [
       "Poly(t1, t1, domain='QQ')"
      ]
     },
     "metadata": {},
     "output_type": "display_data"
    },
    {
     "name": "stdout",
     "output_type": "stream",
     "text": [
      "----------\n"
     ]
    },
    {
     "data": {
      "text/latex": [
       "$\\displaystyle \\operatorname{Poly}{\\left( \\frac{1}{2} t_{1}^{2} - t_{2}, t_{1}, t_{2}, domain=\\mathbb{Q} \\right)}$"
      ],
      "text/plain": [
       "Poly(1/2*t1**2 - t2, t1, t2, domain='QQ')"
      ]
     },
     "metadata": {},
     "output_type": "display_data"
    },
    {
     "name": "stdout",
     "output_type": "stream",
     "text": [
      "----------\n"
     ]
    },
    {
     "data": {
      "text/latex": [
       "$\\displaystyle \\operatorname{Poly}{\\left( \\frac{1}{6} t_{1}^{3} - t_{1}t_{2} + t_{3}, t_{1}, t_{2}, t_{3}, domain=\\mathbb{Q} \\right)}$"
      ],
      "text/plain": [
       "Poly(1/6*t1**3 - t1*t2 + t3, t1, t2, t3, domain='QQ')"
      ]
     },
     "metadata": {},
     "output_type": "display_data"
    },
    {
     "name": "stdout",
     "output_type": "stream",
     "text": [
      "----------\n"
     ]
    },
    {
     "data": {
      "text/latex": [
       "$\\displaystyle \\operatorname{Poly}{\\left( \\frac{1}{24} t_{1}^{4} -  \\frac{1}{2} t_{1}^{2}t_{2} + t_{1}t_{3} + \\frac{1}{2} t_{2}^{2} - t_{4}, t_{1}, t_{2}, t_{3}, t_{4}, domain=\\mathbb{Q} \\right)}$"
      ],
      "text/plain": [
       "Poly(1/24*t1**4 - 1/2*t1**2*t2 + t1*t3 + 1/2*t2**2 - t4, t1, t2, t3, t4, domain='QQ')"
      ]
     },
     "metadata": {},
     "output_type": "display_data"
    },
    {
     "name": "stdout",
     "output_type": "stream",
     "text": [
      "----------\n"
     ]
    },
    {
     "data": {
      "text/latex": [
       "$\\displaystyle \\operatorname{Poly}{\\left( \\frac{1}{120} t_{1}^{5} -  \\frac{1}{6} t_{1}^{3}t_{2} + \\frac{1}{2} t_{1}^{2}t_{3} + \\frac{1}{2} t_{1}t_{2}^{2} - t_{1}t_{4} - t_{2}t_{3} + t_{5}, t_{1}, t_{2}, t_{3}, t_{4}, t_{5}, domain=\\mathbb{Q} \\right)}$"
      ],
      "text/plain": [
       "Poly(1/120*t1**5 - 1/6*t1**3*t2 + 1/2*t1**2*t3 + 1/2*t1*t2**2 - t1*t4 - t2*t3 + t5, t1, t2, t3, t4, t5, domain='QQ')"
      ]
     },
     "metadata": {},
     "output_type": "display_data"
    },
    {
     "name": "stdout",
     "output_type": "stream",
     "text": [
      "----------\n"
     ]
    }
   ],
   "source": [
    "for a in elementary:\n",
    "    display(a.explicit(t_dict, True))\n",
    "    print(10*'-')"
   ]
  },
  {
   "cell_type": "code",
   "execution_count": 19,
   "id": "f81f9dc4-57b1-454a-825f-086ce6d2512b",
   "metadata": {},
   "outputs": [
    {
     "data": {
      "text/plain": [
       "1"
      ]
     },
     "metadata": {},
     "output_type": "display_data"
    },
    {
     "name": "stdout",
     "output_type": "stream",
     "text": [
      "----------\n"
     ]
    },
    {
     "data": {
      "text/latex": [
       "$\\displaystyle \\operatorname{Poly}{\\left( x_{1} + x_{2} + x_{3} + x_{4} + x_{5}, x_{1}, x_{2}, x_{3}, x_{4}, x_{5}, domain=\\mathbb{Q} \\right)}$"
      ],
      "text/plain": [
       "Poly(x1 + x2 + x3 + x4 + x5, x1, x2, x3, x4, x5, domain='QQ')"
      ]
     },
     "metadata": {},
     "output_type": "display_data"
    },
    {
     "name": "stdout",
     "output_type": "stream",
     "text": [
      "----------\n"
     ]
    },
    {
     "data": {
      "text/latex": [
       "$\\displaystyle \\operatorname{Poly}{\\left( x_{1}x_{2} + x_{1}x_{3} + x_{1}x_{4} + x_{1}x_{5} + x_{2}x_{3} + x_{2}x_{4} + x_{2}x_{5} + x_{3}x_{4} + x_{3}x_{5} + x_{4}x_{5}, x_{1}, x_{2}, x_{3}, x_{4}, x_{5}, domain=\\mathbb{Q} \\right)}$"
      ],
      "text/plain": [
       "Poly(x1*x2 + x1*x3 + x1*x4 + x1*x5 + x2*x3 + x2*x4 + x2*x5 + x3*x4 + x3*x5 + x4*x5, x1, x2, x3, x4, x5, domain='QQ')"
      ]
     },
     "metadata": {},
     "output_type": "display_data"
    },
    {
     "name": "stdout",
     "output_type": "stream",
     "text": [
      "----------\n"
     ]
    },
    {
     "data": {
      "text/latex": [
       "$\\displaystyle \\operatorname{Poly}{\\left( x_{1}x_{2}x_{3} + x_{1}x_{2}x_{4} + x_{1}x_{2}x_{5} + x_{1}x_{3}x_{4} + x_{1}x_{3}x_{5} + x_{1}x_{4}x_{5} + x_{2}x_{3}x_{4} + x_{2}x_{3}x_{5} + x_{2}x_{4}x_{5} + x_{3}x_{4}x_{5}, x_{1}, x_{2}, x_{3}, x_{4}, x_{5}, domain=\\mathbb{Q} \\right)}$"
      ],
      "text/plain": [
       "Poly(x1*x2*x3 + x1*x2*x4 + x1*x2*x5 + x1*x3*x4 + x1*x3*x5 + x1*x4*x5 + x2*x3*x4 + x2*x3*x5 + x2*x4*x5 + x3*x4*x5, x1, x2, x3, x4, x5, domain='QQ')"
      ]
     },
     "metadata": {},
     "output_type": "display_data"
    },
    {
     "name": "stdout",
     "output_type": "stream",
     "text": [
      "----------\n"
     ]
    },
    {
     "data": {
      "text/latex": [
       "$\\displaystyle \\operatorname{Poly}{\\left( x_{1}x_{2}x_{3}x_{4} + x_{1}x_{2}x_{3}x_{5} + x_{1}x_{2}x_{4}x_{5} + x_{1}x_{3}x_{4}x_{5} + x_{2}x_{3}x_{4}x_{5}, x_{1}, x_{2}, x_{3}, x_{4}, x_{5}, domain=\\mathbb{Q} \\right)}$"
      ],
      "text/plain": [
       "Poly(x1*x2*x3*x4 + x1*x2*x3*x5 + x1*x2*x4*x5 + x1*x3*x4*x5 + x2*x3*x4*x5, x1, x2, x3, x4, x5, domain='QQ')"
      ]
     },
     "metadata": {},
     "output_type": "display_data"
    },
    {
     "name": "stdout",
     "output_type": "stream",
     "text": [
      "----------\n"
     ]
    },
    {
     "data": {
      "text/latex": [
       "$\\displaystyle \\operatorname{Poly}{\\left( x_{1}x_{2}x_{3}x_{4}x_{5}, x_{1}, x_{2}, x_{3}, x_{4}, x_{5}, domain=\\mathbb{Q} \\right)}$"
      ],
      "text/plain": [
       "Poly(x1*x2*x3*x4*x5, x1, x2, x3, x4, x5, domain='QQ')"
      ]
     },
     "metadata": {},
     "output_type": "display_data"
    },
    {
     "name": "stdout",
     "output_type": "stream",
     "text": [
      "----------\n"
     ]
    }
   ],
   "source": [
    "tt = ut.create_x_coord(n, 5) # Here I write x = (x1,x2, x3, x4, x5)\n",
    "for a in elementary:\n",
    "    display(a.explicit(tt, True))\n",
    "    print(10*'-')"
   ]
  },
  {
   "cell_type": "markdown",
   "id": "3482ee01-708a-4dd2-b26b-4ba1b3569afa",
   "metadata": {},
   "source": [
    "# Class: SchurPolynomial"
   ]
  },
  {
   "cell_type": "markdown",
   "id": "b19f1c9c-cf4f-4014-ac05-03f305d54a72",
   "metadata": {},
   "source": [
    "Let us now consider the Schur polynomials. We can initialize the SchurPolynomials class as: sy.SchurPolynomial(young: YoungDiagram)"
   ]
  },
  {
   "cell_type": "code",
   "execution_count": 2,
   "id": "17beb838-69ba-479c-bf43-94e4731c740e",
   "metadata": {},
   "outputs": [],
   "source": [
    "par = (3, 2, 1)\n",
    "yg = sy.YoungDiagram(par)\n",
    "sch = sy.SchurPolynomial(yg)"
   ]
  },
  {
   "cell_type": "code",
   "execution_count": 10,
   "id": "a2183371-8ae9-4790-8ea6-5d76d018b271",
   "metadata": {},
   "outputs": [],
   "source": [
    "t = ut.create_miwa(yg.boxes)\n",
    "tt = tuple(t.values())"
   ]
  },
  {
   "cell_type": "code",
   "execution_count": 11,
   "id": "f5777e25-abe9-480c-9be3-98d7f1d786d8",
   "metadata": {},
   "outputs": [
    {
     "data": {
      "text/plain": [
       "{1: t1, 2: t2, 3: t3, 4: t4, 5: t5, 6: t6}"
      ]
     },
     "execution_count": 11,
     "metadata": {},
     "output_type": "execute_result"
    }
   ],
   "source": [
    "t"
   ]
  },
  {
   "cell_type": "code",
   "execution_count": 12,
   "id": "bca9309b-bf71-40a6-8af9-2b347baf2a04",
   "metadata": {},
   "outputs": [
    {
     "data": {
      "text/plain": [
       "(t1, t2, t3, t4, t5, t6)"
      ]
     },
     "execution_count": 12,
     "metadata": {},
     "output_type": "execute_result"
    }
   ],
   "source": [
    "tt"
   ]
  },
  {
   "cell_type": "markdown",
   "id": "8107424a-02b5-48fb-b9c2-e7d5f7f2c88a",
   "metadata": {},
   "source": [
    "To get the explicit expression for the polynomial, one can use the method .explicit(t). As before, it accepts tuples and dictionaries. "
   ]
  },
  {
   "cell_type": "code",
   "execution_count": 15,
   "id": "4cdcd70f-795b-4593-a57c-52f71ddb9f96",
   "metadata": {},
   "outputs": [
    {
     "data": {
      "text/latex": [
       "$\\displaystyle \\frac{t_{1}^{6}}{45} - \\frac{t_{1}^{3} t_{3}}{3} + t_{1} t_{5} - t_{3}^{2}$"
      ],
      "text/plain": [
       "t1**6/45 - t1**3*t3/3 + t1*t5 - t3**2"
      ]
     },
     "execution_count": 15,
     "metadata": {},
     "output_type": "execute_result"
    }
   ],
   "source": [
    "sch.explicit(t)"
   ]
  },
  {
   "cell_type": "code",
   "execution_count": 16,
   "id": "29a1c38b-cf5f-4ec1-8b5f-b692274a5b46",
   "metadata": {},
   "outputs": [
    {
     "data": {
      "text/latex": [
       "$\\displaystyle \\frac{t_{1}^{6}}{45} - \\frac{t_{1}^{3} t_{3}}{3} + t_{1} t_{5} - t_{3}^{2}$"
      ],
      "text/plain": [
       "t1**6/45 - t1**3*t3/3 + t1*t5 - t3**2"
      ]
     },
     "execution_count": 16,
     "metadata": {},
     "output_type": "execute_result"
    }
   ],
   "source": [
    "sch.explicit(tt)"
   ]
  },
  {
   "cell_type": "markdown",
   "id": "13c0cfd7-c260-48f6-b411-df27174092f3",
   "metadata": {},
   "source": [
    "As before, one can get the sympy polynomials as"
   ]
  },
  {
   "cell_type": "code",
   "execution_count": 17,
   "id": "670ea9bb-9b4c-4990-b97c-9a6386eebb4e",
   "metadata": {
    "scrolled": true
   },
   "outputs": [
    {
     "data": {
      "text/latex": [
       "$\\displaystyle \\operatorname{Poly}{\\left( \\frac{1}{45} t_{1}^{6} -  \\frac{1}{3} t_{1}^{3}t_{3} + t_{1}t_{5} - t_{3}^{2}, t_{1}, t_{3}, t_{5}, domain=\\mathbb{Q} \\right)}$"
      ],
      "text/plain": [
       "Poly(1/45*t1**6 - 1/3*t1**3*t3 + t1*t5 - t3**2, t1, t3, t5, domain='QQ')"
      ]
     },
     "execution_count": 17,
     "metadata": {},
     "output_type": "execute_result"
    }
   ],
   "source": [
    "sch.explicit(t, True)"
   ]
  },
  {
   "cell_type": "markdown",
   "id": "0a87ec7d-8082-4e29-b2f0-799db71db1da",
   "metadata": {},
   "source": [
    "One can express the Schur polynomials in terms of the coordinates x:"
   ]
  },
  {
   "cell_type": "code",
   "execution_count": 29,
   "id": "1b230804-2361-47fd-b725-ddc79844c59d",
   "metadata": {},
   "outputs": [
    {
     "data": {
      "text/plain": [
       "(x1 + x2 + x3,\n",
       " x1**2/2 + x2**2/2 + x3**2/2,\n",
       " x1**3/3 + x2**3/3 + x3**3/3,\n",
       " x1**4/4 + x2**4/4 + x3**4/4,\n",
       " x1**5/5 + x2**5/5 + x3**5/5,\n",
       " x1**6/6 + x2**6/6 + x3**6/6)"
      ]
     },
     "execution_count": 29,
     "metadata": {},
     "output_type": "execute_result"
    }
   ],
   "source": [
    "#Suppose we have x = (x1, x2, x3, ..., xm), m = 3 is the minimum for the partition (3,2,1)\n",
    "tx = ut.tx_power_sum(yg.boxes, 3)\n",
    "tx"
   ]
  },
  {
   "cell_type": "code",
   "execution_count": 28,
   "id": "8644bb23-4085-4d73-98b8-1110f0549882",
   "metadata": {},
   "outputs": [
    {
     "data": {
      "text/latex": [
       "$\\displaystyle x_{1}^{3} x_{2}^{2} x_{3} + x_{1}^{3} x_{2} x_{3}^{2} + x_{1}^{2} x_{2}^{3} x_{3} + 2 x_{1}^{2} x_{2}^{2} x_{3}^{2} + x_{1}^{2} x_{2} x_{3}^{3} + x_{1} x_{2}^{3} x_{3}^{2} + x_{1} x_{2}^{2} x_{3}^{3}$"
      ],
      "text/plain": [
       "x1**3*x2**2*x3 + x1**3*x2*x3**2 + x1**2*x2**3*x3 + 2*x1**2*x2**2*x3**2 + x1**2*x2*x3**3 + x1*x2**3*x3**2 + x1*x2**2*x3**3"
      ]
     },
     "execution_count": 28,
     "metadata": {},
     "output_type": "execute_result"
    }
   ],
   "source": [
    "sch.explicit(tx)"
   ]
  },
  {
   "cell_type": "code",
   "execution_count": 100,
   "id": "22b7ecb9-c4e5-4ba3-baaa-085c539c4bc9",
   "metadata": {},
   "outputs": [],
   "source": [
    "# A big Schur Polynomial\n",
    "n = 10\n",
    "states = sy.State(n).partition_states()"
   ]
  },
  {
   "cell_type": "code",
   "execution_count": 101,
   "id": "195bf8a4-1a26-4c37-bbe0-51248594451c",
   "metadata": {},
   "outputs": [
    {
     "data": {
      "text/plain": [
       "(2, 2, 1, 1, 1, 1, 1, 1, 0, 0)"
      ]
     },
     "execution_count": 101,
     "metadata": {},
     "output_type": "execute_result"
    }
   ],
   "source": [
    "# Let us consider the state[3]\n",
    "states[3]"
   ]
  },
  {
   "cell_type": "code",
   "execution_count": 102,
   "id": "cb6c281c-b611-4fc4-8638-edc8e813438e",
   "metadata": {},
   "outputs": [],
   "source": [
    "yg = sy.YoungDiagram(states[3])"
   ]
  },
  {
   "cell_type": "code",
   "execution_count": 103,
   "id": "2d497024-f9f5-47c7-a70b-3123a9ab370f",
   "metadata": {},
   "outputs": [],
   "source": [
    "t = ut.create_miwa(n)"
   ]
  },
  {
   "cell_type": "code",
   "execution_count": 104,
   "id": "729a6d9b-224c-4d04-bacb-22d4144f8485",
   "metadata": {},
   "outputs": [],
   "source": [
    "sch = sy.SchurPolynomial(yg)"
   ]
  },
  {
   "cell_type": "code",
   "execution_count": 105,
   "id": "5419f991-5f58-4f7c-bcde-18f5a556e503",
   "metadata": {},
   "outputs": [],
   "source": [
    "schur10 = sch.explicit(t)"
   ]
  },
  {
   "cell_type": "code",
   "execution_count": 106,
   "id": "f1bcfc61-cb5d-4749-903b-2983caa72ae4",
   "metadata": {},
   "outputs": [
    {
     "data": {
      "text/latex": [
       "$\\displaystyle \\frac{t_{1}^{10}}{103680} - \\frac{t_{1}^{8} t_{2}}{1920} + \\frac{t_{1}^{7} t_{3}}{360} + \\frac{11 t_{1}^{6} t_{2}^{2}}{1440} - \\frac{t_{1}^{6} t_{4}}{80} - \\frac{t_{1}^{5} t_{2} t_{3}}{20} + \\frac{t_{1}^{5} t_{5}}{24} - \\frac{5 t_{1}^{4} t_{2}^{3}}{144} + \\frac{t_{1}^{4} t_{2} t_{4}}{8} + \\frac{t_{1}^{4} t_{3}^{2}}{24} - \\frac{t_{1}^{4} t_{6}}{12} + \\frac{t_{1}^{3} t_{2}^{2} t_{3}}{6} - \\frac{t_{1}^{3} t_{2} t_{5}}{6} + \\frac{t_{1}^{2} t_{2}^{4}}{16} - \\frac{t_{1}^{2} t_{2}^{2} t_{4}}{4} - \\frac{t_{1}^{2} t_{3} t_{5}}{2} - \\frac{t_{1}^{2} t_{4}^{2}}{4} + \\frac{t_{1}^{2} t_{8}}{2} - \\frac{t_{1} t_{2}^{3} t_{3}}{3} + \\frac{t_{1} t_{2}^{2} t_{5}}{2} - \\frac{t_{1} t_{3}^{3}}{6} + t_{1} t_{3} t_{6} + t_{1} t_{4} t_{5} - t_{1} t_{9} - \\frac{t_{2}^{5}}{24} + \\frac{t_{2}^{3} t_{4}}{2} + \\frac{t_{2}^{2} t_{3}^{2}}{2} - t_{2}^{2} t_{6} - t_{2} t_{3} t_{5} - \\frac{t_{2} t_{4}^{2}}{2} + t_{2} t_{8}$"
      ],
      "text/plain": [
       "t1**10/103680 - t1**8*t2/1920 + t1**7*t3/360 + 11*t1**6*t2**2/1440 - t1**6*t4/80 - t1**5*t2*t3/20 + t1**5*t5/24 - 5*t1**4*t2**3/144 + t1**4*t2*t4/8 + t1**4*t3**2/24 - t1**4*t6/12 + t1**3*t2**2*t3/6 - t1**3*t2*t5/6 + t1**2*t2**4/16 - t1**2*t2**2*t4/4 - t1**2*t3*t5/2 - t1**2*t4**2/4 + t1**2*t8/2 - t1*t2**3*t3/3 + t1*t2**2*t5/2 - t1*t3**3/6 + t1*t3*t6 + t1*t4*t5 - t1*t9 - t2**5/24 + t2**3*t4/2 + t2**2*t3**2/2 - t2**2*t6 - t2*t3*t5 - t2*t4**2/2 + t2*t8"
      ]
     },
     "execution_count": 106,
     "metadata": {},
     "output_type": "execute_result"
    }
   ],
   "source": [
    "schur10"
   ]
  },
  {
   "cell_type": "markdown",
   "id": "e9bbd5c4-74d4-456e-97c9-5cb8892478a1",
   "metadata": {},
   "source": [
    "## Generate Schur por a given level n"
   ]
  },
  {
   "cell_type": "markdown",
   "id": "72accd15-c0e4-44f5-88d4-a2cbedb69d63",
   "metadata": {},
   "source": [
    "One can easily generate all Schur polynomials for a given level n as follows:"
   ]
  },
  {
   "cell_type": "code",
   "execution_count": 58,
   "id": "1cac3167-a513-4ba8-b5ae-9f1157aee008",
   "metadata": {},
   "outputs": [],
   "source": [
    "def list_schur(n):\n",
    "    states = sy.State(n).partition_states()\n",
    "    for a in states:\n",
    "        yg = sy.YoungDiagram(a)\n",
    "        sch = sy.SchurPolynomial(yg)\n",
    "        t = ut.create_miwa(yg.boxes)\n",
    "        display(f'Partition:  {a}') \n",
    "        display(sch.explicit(t))"
   ]
  },
  {
   "cell_type": "code",
   "execution_count": 62,
   "id": "40dadfb6-d93f-4b74-9744-7b23298b483f",
   "metadata": {},
   "outputs": [
    {
     "data": {
      "text/plain": [
       "'Partition:  (1,)'"
      ]
     },
     "metadata": {},
     "output_type": "display_data"
    },
    {
     "data": {
      "text/latex": [
       "$\\displaystyle t_{1}$"
      ],
      "text/plain": [
       "t1"
      ]
     },
     "metadata": {},
     "output_type": "display_data"
    }
   ],
   "source": [
    "list_schur(1)"
   ]
  },
  {
   "cell_type": "code",
   "execution_count": 63,
   "id": "d4cc15a4-3e79-449c-bd9b-e2ec7688284c",
   "metadata": {},
   "outputs": [
    {
     "data": {
      "text/plain": [
       "'Partition:  (1, 1)'"
      ]
     },
     "metadata": {},
     "output_type": "display_data"
    },
    {
     "data": {
      "text/latex": [
       "$\\displaystyle \\frac{t_{1}^{2}}{2} - t_{2}$"
      ],
      "text/plain": [
       "t1**2/2 - t2"
      ]
     },
     "metadata": {},
     "output_type": "display_data"
    },
    {
     "data": {
      "text/plain": [
       "'Partition:  (2, 0)'"
      ]
     },
     "metadata": {},
     "output_type": "display_data"
    },
    {
     "data": {
      "text/latex": [
       "$\\displaystyle \\frac{t_{1}^{2}}{2} + t_{2}$"
      ],
      "text/plain": [
       "t1**2/2 + t2"
      ]
     },
     "metadata": {},
     "output_type": "display_data"
    }
   ],
   "source": [
    "list_schur(2)"
   ]
  },
  {
   "cell_type": "code",
   "execution_count": 64,
   "id": "1dac4c16-7a2d-4d3b-95c6-807a96da7890",
   "metadata": {},
   "outputs": [
    {
     "data": {
      "text/plain": [
       "'Partition:  (1, 1, 1)'"
      ]
     },
     "metadata": {},
     "output_type": "display_data"
    },
    {
     "data": {
      "text/latex": [
       "$\\displaystyle \\frac{t_{1}^{3}}{6} - t_{1} t_{2} + t_{3}$"
      ],
      "text/plain": [
       "t1**3/6 - t1*t2 + t3"
      ]
     },
     "metadata": {},
     "output_type": "display_data"
    },
    {
     "data": {
      "text/plain": [
       "'Partition:  (2, 1, 0)'"
      ]
     },
     "metadata": {},
     "output_type": "display_data"
    },
    {
     "data": {
      "text/latex": [
       "$\\displaystyle \\frac{t_{1}^{3}}{3} - t_{3}$"
      ],
      "text/plain": [
       "t1**3/3 - t3"
      ]
     },
     "metadata": {},
     "output_type": "display_data"
    },
    {
     "data": {
      "text/plain": [
       "'Partition:  (3, 0, 0)'"
      ]
     },
     "metadata": {},
     "output_type": "display_data"
    },
    {
     "data": {
      "text/latex": [
       "$\\displaystyle \\frac{t_{1}^{3}}{6} + t_{1} t_{2} + t_{3}$"
      ],
      "text/plain": [
       "t1**3/6 + t1*t2 + t3"
      ]
     },
     "metadata": {},
     "output_type": "display_data"
    }
   ],
   "source": [
    "list_schur(3)"
   ]
  },
  {
   "cell_type": "code",
   "execution_count": 65,
   "id": "4a051185-5157-40d9-bcc5-d6b1ea7e4df0",
   "metadata": {},
   "outputs": [
    {
     "data": {
      "text/plain": [
       "'Partition:  (1, 1, 1, 1)'"
      ]
     },
     "metadata": {},
     "output_type": "display_data"
    },
    {
     "data": {
      "text/latex": [
       "$\\displaystyle \\frac{t_{1}^{4}}{24} - \\frac{t_{1}^{2} t_{2}}{2} + t_{1} t_{3} + \\frac{t_{2}^{2}}{2} - t_{4}$"
      ],
      "text/plain": [
       "t1**4/24 - t1**2*t2/2 + t1*t3 + t2**2/2 - t4"
      ]
     },
     "metadata": {},
     "output_type": "display_data"
    },
    {
     "data": {
      "text/plain": [
       "'Partition:  (2, 1, 1, 0)'"
      ]
     },
     "metadata": {},
     "output_type": "display_data"
    },
    {
     "data": {
      "text/latex": [
       "$\\displaystyle \\frac{t_{1}^{4}}{8} - \\frac{t_{1}^{2} t_{2}}{2} - \\frac{t_{2}^{2}}{2} + t_{4}$"
      ],
      "text/plain": [
       "t1**4/8 - t1**2*t2/2 - t2**2/2 + t4"
      ]
     },
     "metadata": {},
     "output_type": "display_data"
    },
    {
     "data": {
      "text/plain": [
       "'Partition:  (3, 1, 0, 0)'"
      ]
     },
     "metadata": {},
     "output_type": "display_data"
    },
    {
     "data": {
      "text/latex": [
       "$\\displaystyle \\frac{t_{1}^{4}}{8} + \\frac{t_{1}^{2} t_{2}}{2} - \\frac{t_{2}^{2}}{2} - t_{4}$"
      ],
      "text/plain": [
       "t1**4/8 + t1**2*t2/2 - t2**2/2 - t4"
      ]
     },
     "metadata": {},
     "output_type": "display_data"
    },
    {
     "data": {
      "text/plain": [
       "'Partition:  (2, 2, 0, 0)'"
      ]
     },
     "metadata": {},
     "output_type": "display_data"
    },
    {
     "data": {
      "text/latex": [
       "$\\displaystyle \\frac{t_{1}^{4}}{12} - t_{1} t_{3} + t_{2}^{2}$"
      ],
      "text/plain": [
       "t1**4/12 - t1*t3 + t2**2"
      ]
     },
     "metadata": {},
     "output_type": "display_data"
    },
    {
     "data": {
      "text/plain": [
       "'Partition:  (4, 0, 0, 0)'"
      ]
     },
     "metadata": {},
     "output_type": "display_data"
    },
    {
     "data": {
      "text/latex": [
       "$\\displaystyle \\frac{t_{1}^{4}}{24} + \\frac{t_{1}^{2} t_{2}}{2} + t_{1} t_{3} + \\frac{t_{2}^{2}}{2} + t_{4}$"
      ],
      "text/plain": [
       "t1**4/24 + t1**2*t2/2 + t1*t3 + t2**2/2 + t4"
      ]
     },
     "metadata": {},
     "output_type": "display_data"
    }
   ],
   "source": [
    "list_schur(4)"
   ]
  },
  {
   "cell_type": "markdown",
   "id": "3322af3f-634e-4a24-8193-da2266313516",
   "metadata": {},
   "source": [
    "## Skew-Schur Polynomials"
   ]
  },
  {
   "cell_type": "markdown",
   "id": "67b219dc-79f0-4d54-b612-57b6cf8ee396",
   "metadata": {},
   "source": [
    "In order to define the Schur polynomials, we need to consider a secong Young diagram $\\mu$ that is contained in $\\lambda$, we write $\\mu \\subseteq \\lambda$. We can use the method constains(mu) to test the subset relation between the partitions. "
   ]
  },
  {
   "cell_type": "code",
   "execution_count": 2,
   "id": "5ae22176-fd89-4d90-bf85-042fbb62d895",
   "metadata": {},
   "outputs": [],
   "source": [
    "yg1 = sy.YoungDiagram((4,3,2))\n",
    "yg2 = sy.YoungDiagram((3,2,1))\n",
    "yg3 = sy.YoungDiagram((5,3,2))"
   ]
  },
  {
   "cell_type": "code",
   "execution_count": 3,
   "id": "8e64f7a9-c1e9-4789-862e-8fc1ad2a08d1",
   "metadata": {},
   "outputs": [
    {
     "data": {
      "text/plain": [
       "True"
      ]
     },
     "execution_count": 3,
     "metadata": {},
     "output_type": "execute_result"
    }
   ],
   "source": [
    "yg1.contains(yg2)"
   ]
  },
  {
   "cell_type": "code",
   "execution_count": 4,
   "id": "9478c964-5a69-4bbd-92b8-3af7c9372d6b",
   "metadata": {},
   "outputs": [
    {
     "data": {
      "text/plain": [
       "False"
      ]
     },
     "execution_count": 4,
     "metadata": {},
     "output_type": "execute_result"
    }
   ],
   "source": [
    "yg2.contains(yg1)"
   ]
  },
  {
   "cell_type": "code",
   "execution_count": 5,
   "id": "75a6caba-3df1-4e06-9b6c-a360e77cf09a",
   "metadata": {},
   "outputs": [
    {
     "data": {
      "text/plain": [
       "True"
      ]
     },
     "execution_count": 5,
     "metadata": {},
     "output_type": "execute_result"
    }
   ],
   "source": [
    "yg3.contains(yg1)"
   ]
  },
  {
   "cell_type": "code",
   "execution_count": 6,
   "id": "ad249ced-b0f5-4ecd-9c9e-ef6a9a8a1e3d",
   "metadata": {},
   "outputs": [
    {
     "data": {
      "text/plain": [
       "True"
      ]
     },
     "execution_count": 6,
     "metadata": {},
     "output_type": "execute_result"
    }
   ],
   "source": [
    "yg3.contains(yg2)"
   ]
  },
  {
   "cell_type": "markdown",
   "id": "0cadfca1-e10d-46ab-8631-76d3f4751d1f",
   "metadata": {},
   "source": [
    "Let us find some skew Schur polynomials."
   ]
  },
  {
   "cell_type": "code",
   "execution_count": 7,
   "id": "cd038456-ddff-4f6a-a97f-201f9ceb5834",
   "metadata": {},
   "outputs": [],
   "source": [
    "t = ut.create_miwa(yg3.boxes)"
   ]
  },
  {
   "cell_type": "code",
   "execution_count": 8,
   "id": "5268e2e3-624e-4569-a573-f622bbdc51a2",
   "metadata": {},
   "outputs": [],
   "source": [
    "sch = sy.SchurPolynomial(yg3)"
   ]
  },
  {
   "cell_type": "code",
   "execution_count": 9,
   "id": "402afd9f-b147-4255-9f1d-791e38629248",
   "metadata": {},
   "outputs": [
    {
     "data": {
      "text/latex": [
       "$\\displaystyle t_{1}$"
      ],
      "text/plain": [
       "t1"
      ]
     },
     "execution_count": 9,
     "metadata": {},
     "output_type": "execute_result"
    }
   ],
   "source": [
    "sch.skew_schur(t, yg1)"
   ]
  },
  {
   "cell_type": "code",
   "execution_count": 10,
   "id": "6ceb4b3f-035c-4370-9f33-284f3227546b",
   "metadata": {},
   "outputs": [
    {
     "data": {
      "text/latex": [
       "$\\displaystyle \\frac{t_{1}^{4}}{2} + t_{1}^{2} t_{2}$"
      ],
      "text/plain": [
       "t1**4/2 + t1**2*t2"
      ]
     },
     "execution_count": 10,
     "metadata": {},
     "output_type": "execute_result"
    }
   ],
   "source": [
    "sch.skew_schur(t, yg2)"
   ]
  },
  {
   "cell_type": "markdown",
   "id": "63c72e40-ec88-4945-8d78-08270360dd28",
   "metadata": {},
   "source": [
    "And if we leave the second argument empty, we recover the orginary Schur polynomials."
   ]
  },
  {
   "cell_type": "code",
   "execution_count": 12,
   "id": "01b32bf5-500d-4239-85b7-d2fc51961c19",
   "metadata": {},
   "outputs": [
    {
     "data": {
      "text/latex": [
       "$\\displaystyle \\frac{t_{1}^{10}}{8064} + \\frac{t_{1}^{8} t_{2}}{576} - \\frac{t_{1}^{7} t_{3}}{336} + \\frac{t_{1}^{6} t_{2}^{2}}{144} - \\frac{t_{1}^{6} t_{4}}{72} - \\frac{t_{1}^{5} t_{2} t_{3}}{24} + \\frac{t_{1}^{4} t_{2}^{3}}{24} - \\frac{t_{1}^{4} t_{2} t_{4}}{12} - \\frac{t_{1}^{4} t_{3}^{2}}{16} + \\frac{t_{1}^{4} t_{6}}{8} + \\frac{t_{1}^{3} t_{2}^{2} t_{3}}{12} - \\frac{t_{1}^{3} t_{3} t_{4}}{6} + \\frac{t_{1}^{3} t_{7}}{3} + \\frac{t_{1}^{2} t_{2}^{4}}{24} - \\frac{t_{1}^{2} t_{2}^{2} t_{4}}{2} + \\frac{t_{1}^{2} t_{2} t_{3}^{2}}{4} - \\frac{t_{1}^{2} t_{2} t_{6}}{2} - \\frac{t_{1}^{2} t_{4}^{2}}{2} + \\frac{t_{1} t_{2}^{3} t_{3}}{2} + t_{1} t_{2} t_{3} t_{4} - \\frac{t_{2}^{5}}{12} - \\frac{t_{2}^{3} t_{4}}{3} + \\frac{t_{2}^{2} t_{3}^{2}}{4} - \\frac{t_{2}^{2} t_{6}}{2} + t_{2} t_{4}^{2} - \\frac{t_{3}^{2} t_{4}}{2} - t_{3} t_{7} + t_{4} t_{6}$"
      ],
      "text/plain": [
       "t1**10/8064 + t1**8*t2/576 - t1**7*t3/336 + t1**6*t2**2/144 - t1**6*t4/72 - t1**5*t2*t3/24 + t1**4*t2**3/24 - t1**4*t2*t4/12 - t1**4*t3**2/16 + t1**4*t6/8 + t1**3*t2**2*t3/12 - t1**3*t3*t4/6 + t1**3*t7/3 + t1**2*t2**4/24 - t1**2*t2**2*t4/2 + t1**2*t2*t3**2/4 - t1**2*t2*t6/2 - t1**2*t4**2/2 + t1*t2**3*t3/2 + t1*t2*t3*t4 - t2**5/12 - t2**3*t4/3 + t2**2*t3**2/4 - t2**2*t6/2 + t2*t4**2 - t3**2*t4/2 - t3*t7 + t4*t6"
      ]
     },
     "execution_count": 12,
     "metadata": {},
     "output_type": "execute_result"
    }
   ],
   "source": [
    "sch.skew_schur(t)"
   ]
  },
  {
   "cell_type": "code",
   "execution_count": 13,
   "id": "d3302a51-6a34-439e-8eac-009e4168ba84",
   "metadata": {},
   "outputs": [
    {
     "data": {
      "text/latex": [
       "$\\displaystyle 0$"
      ],
      "text/plain": [
       "0"
      ]
     },
     "execution_count": 13,
     "metadata": {},
     "output_type": "execute_result"
    }
   ],
   "source": [
    "sch.skew_schur(t) - sch.explicit(t) "
   ]
  },
  {
   "cell_type": "markdown",
   "id": "889f7383-2fc1-4fe1-8aeb-943ef6e7683f",
   "metadata": {},
   "source": [
    "Finally, we also have"
   ]
  },
  {
   "cell_type": "code",
   "execution_count": 16,
   "id": "e73020a9-5f45-4730-88be-de461743bfff",
   "metadata": {},
   "outputs": [
    {
     "data": {
      "text/latex": [
       "$\\displaystyle \\operatorname{Poly}{\\left( \\frac{1}{2} t_{1}^{4} + t_{1}^{2}t_{2}, t_{1}, t_{2}, domain=\\mathbb{Q} \\right)}$"
      ],
      "text/plain": [
       "Poly(1/2*t1**4 + t1**2*t2, t1, t2, domain='QQ')"
      ]
     },
     "execution_count": 16,
     "metadata": {},
     "output_type": "execute_result"
    }
   ],
   "source": [
    "sch.skew_schur(t, yg2, True)"
   ]
  }
 ],
 "metadata": {
  "kernelspec": {
   "display_name": "Python 3 (ipykernel)",
   "language": "python",
   "name": "python3"
  },
  "language_info": {
   "codemirror_mode": {
    "name": "ipython",
    "version": 3
   },
   "file_extension": ".py",
   "mimetype": "text/x-python",
   "name": "python",
   "nbconvert_exporter": "python",
   "pygments_lexer": "ipython3",
   "version": "3.12.2"
  }
 },
 "nbformat": 4,
 "nbformat_minor": 5
}
