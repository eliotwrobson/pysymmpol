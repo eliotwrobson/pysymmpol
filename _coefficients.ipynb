{
 "cells": [
  {
   "cell_type": "code",
   "execution_count": 1,
   "id": "d473e990-5f3c-467e-aa7e-0db04111ce88",
   "metadata": {},
   "outputs": [],
   "source": [
    "from sympy import *\n",
    "from sympy.combinatorics.partitions import IntegerPartition\n",
    "import numpy as np\n",
    "from itertools import *\n",
    "\n",
    "# https://docs.sympy.org/latest/modules/polys/reference.html\n",
    "# https://github.com/stla/jackpy/tree/main"
   ]
  },
  {
   "cell_type": "markdown",
   "id": "18548800-5215-48df-bf63-d4d95fdd9a5a",
   "metadata": {
    "jp-MarkdownHeadingCollapsed": true
   },
   "source": [
    "# Partitions*"
   ]
  },
  {
   "cell_type": "code",
   "execution_count": 2,
   "id": "ed76e4db-ed35-42b4-8ed1-ef3bc072b032",
   "metadata": {},
   "outputs": [],
   "source": [
    "# Given the bosonic state k, we can write the bosonic partition as \n",
    "# defined in decreasing order\n",
    "def bosonicPart(k):\n",
    "    '''This snippet converts the characteristic class notation to \n",
    "    the Young diagram notation.'''\n",
    "    partition = np.array([])\n",
    "    for i in range(len(k)):\n",
    "        row = list(np.repeat(i+1, k[i]))\n",
    "        partition = np.concatenate((partition, row), axis=0)\n",
    "    partition = -np.sort(-partition, axis=0) # This line sorts the numpy array in decreasing order. \n",
    "    return list(partition)\n",
    "\n",
    "def number_boxes(k):\n",
    "    box = 0 \n",
    "    for j in range(len(k)):\n",
    "        box += (j+1)*k[j]\n",
    "    if box != int(sum(bosonicPart(k))): \n",
    "        # Here I test to see if everything is consistent\n",
    "        return print(\"This method does not work!\")\n",
    "    return box\n",
    "\n",
    "def number_rows(k):\n",
    "    rows = sum(k)\n",
    "    if rows != int(len(bosonicPart(k))): \n",
    "        # Here I test to see if everything is consistent\n",
    "        return print(\"This method does not work!\")\n",
    "    return rows\n",
    "\n",
    "def number_columns(k):\n",
    "    return int(bosonicPart(k)[0])\n",
    "    \n",
    "\n",
    "def transpose_young_diagram(partition):\n",
    "    '''Here we find the transposed Young diagram. \n",
    "    In order to avoind confusion, here we enter \n",
    "    the Young diagram as a partition of the integer\n",
    "    I explain the code with the partition [3,2].'''\n",
    "        \n",
    "    # Number of rows in the original diagram\n",
    "    num_rows = len(partition)\n",
    "\n",
    "    '''Here we have a List to represent the transposed diagram. \n",
    "    It must have partition[0] rows. \n",
    "    Then, for [3,2] we create the list [0,0,0]'''\n",
    "    #transposed_diagram = [0] * max(partition)\n",
    "    transposed_diagram = [0] * partition[0]\n",
    "\n",
    "    '''We now build the transposed diagram. We basically fill in \n",
    "    the list defined above. For the list [0,0,0]. The code works as follows:\n",
    "    round 01: (i, row_length) = (0,3) => j =0,1,2. \n",
    "               j = 0 transporsed_diagram[0] = 1\n",
    "               j = 1 transposed_diagram[1] = 1\n",
    "               j = 2 transposed diagram[2] = 1\n",
    "    and now we have transposed_diagram = [1,1,1]\n",
    "    round 02 (i, row_length) = (1, 2) => j =0,1\n",
    "               j = 0 transposed_diagram[0] = 2\n",
    "               j = 1 transposed_diagram[0] = 2\n",
    "    and now we have transposed_diagram = [2,2,1]'''\n",
    "    for i, row_length in enumerate(partition):\n",
    "        for j in range(row_length):\n",
    "            transposed_diagram[j] += 1\n",
    "\n",
    "    return transposed_diagram\n",
    "\n",
    "def transpose_young_diagram_SYMPY(partition):\n",
    "    '''Sympy has this implemented as well. It might be \n",
    "    interesting to use some of these definitions.''' \n",
    "    a = IntegerPartition(partition)\n",
    "    return a.conjugate\n",
    "\n",
    "def number_diagonal(partition): \n",
    "    '''In order to calculate the number of boxes in the \n",
    "    diagonal, I will represent the Young diagram as a \n",
    "    partition[0] x len(partition) matrix filled with 1 and 0. \n",
    "    After that, I sum over the diagonal.'''\n",
    "    rows = len(partition)\n",
    "    columns = partition[0]\n",
    "    matrix = np.zeros((rows, columns))\n",
    "    diagonal = 0\n",
    "    for row in range(rows):\n",
    "        for column in range(partition[row]):\n",
    "            matrix[row][column] = 1\n",
    "    return int(np.trace(matrix))\n",
    "\n",
    "def frobenius_coordinates(partition):\n",
    "    '''Now I want to find the Frobenius Coordinates \n",
    "    for a given partition.'''\n",
    "    transpose = transpose_young_diagram(partition)\n",
    "    diagonal_boxes = number_diagonal(partition)\n",
    "    FrobCoor = []\n",
    "    for i in range(diagonal_boxes):\n",
    "        # The minus comes from the fact that python lists start at 0 and not 1\n",
    "        FrobCoor.append([partition[i] - i - Rational(1,2), -(transpose[i] - i - Rational(1,2))])\n",
    "    return FrobCoor"
   ]
  },
  {
   "cell_type": "markdown",
   "id": "513f4004-3537-486a-a3a2-c3906f0fe04e",
   "metadata": {
    "jp-MarkdownHeadingCollapsed": true
   },
   "source": [
    "# Complete Symmetric Homogeneous Polynomials*"
   ]
  },
  {
   "cell_type": "code",
   "execution_count": 5,
   "id": "88b38341-6665-4941-bd58-bf25731e3b7a",
   "metadata": {},
   "outputs": [],
   "source": [
    "# Miwa coordinates\n",
    "t1, t2, t3, t4, t5, t6, t7, t8, t9, t10, t11, t12 = symbols('t1, t2, t3, t4, t5, t6, t7, t8, t9, t10, t11, t12')\n",
    "t = np.array([t1, t2, t3, t4, t5, t6, t7, t8, t9, t10, t11, t12])\n",
    "\n",
    "# Vector k\n",
    "k1, k2, k3, k4, k5, k6, k7, k8, k9, k10, k11, k12 = symbols('k1, k2, k3, k4, k5, k6, k7, k8, k9, k10, k11, k12')\n",
    "k_vec = np.array([k1, k2, k3, k4, k5, k6, k7, k8, k9, k10, k11, k12])"
   ]
  },
  {
   "cell_type": "code",
   "execution_count": 6,
   "id": "36500dc3-6df2-4f1d-9fa9-ead896dd16f0",
   "metadata": {},
   "outputs": [],
   "source": [
    "def level(vector):\n",
    "    '''This function gives the level of the vector k, \n",
    "    that is, the number given by sum_i i k_i for a given bosonic \n",
    "    state k = (k_1, k_2, ...)'''\n",
    "    r = len(vector)\n",
    "    su = 0\n",
    "    for i in range(r):\n",
    "        su += (i+1)*vector[i]\n",
    "    return su\n",
    "\n",
    "def accel_asc(n):\n",
    "    '''This is a fast algorithm to generate integer partitions. \n",
    "    The author of this beauty is Jerome Kelleher and he argues that it is the \n",
    "    fasted algorithm in the market to do this job, see here \n",
    "    https://jeromekelleher.net/category/combinatorics.html'''\n",
    "    a = [0 for i in range(n + 1)]\n",
    "    k = 1\n",
    "    y = n - 1\n",
    "    while k != 0:\n",
    "        x = a[k - 1] + 1\n",
    "        k -= 1\n",
    "        while 2 * x <= y:\n",
    "            a[k] = x\n",
    "            y -= x\n",
    "            k += 1\n",
    "        l = k + 1\n",
    "        while x <= y:\n",
    "            a[k] = x\n",
    "            a[l] = y\n",
    "            yield a[:k + 2]\n",
    "            x += 1\n",
    "            y -= 1\n",
    "        a[k] = x + y\n",
    "        y = x + y - 1\n",
    "        yield a[:k + 1]\n",
    "\n",
    "def bosonic_states(lev):\n",
    "    '''Given a level n, this function gives the \n",
    "    vector k (the characteristic class) that belong to this subspace.'''\n",
    "\n",
    "    vectors_k = [] # Here I create a list to save the tuples\n",
    "    #my_tuple = () # Here I create a tuple to capture the vectors k \n",
    "    if lev < 0 or lev > 12:\n",
    "        raise ValueError(\"Level must be greater than zero smaller than 13\")\n",
    "        \n",
    "    #states = np.zeros(lev)\n",
    "    #states[0] = lev\n",
    "\n",
    "    #for my_tuple in product(tuple(range(lev+1)), repeat = lev):\n",
    "    #    states = np.zeros(lev)\n",
    "    #    states[0] = lev\n",
    "    #    if level(my_tuple) == level(states):\n",
    "            #print(my_tuple)\n",
    "    for a in accel_asc(lev):\n",
    "        vec = [0]*lev\n",
    "        for i in range(len(a)):\n",
    "            vec[a[i]-1] += 1\n",
    "            if level(vec) == lev:\n",
    "                vectors_k.append(vec)\n",
    "\n",
    "    return vectors_k\n",
    "\n",
    "def bosonic_states_partition(lev):\n",
    "    '''Given a level n, this function gives the \n",
    "    partitions that belong to this subspace.'''\n",
    "\n",
    "    partitions = [] # Here I create a list to save the tuples\n",
    "    if lev < 0 or lev > 12:\n",
    "        raise ValueError(\"Level must be greater than zero smaller than 13\")\n",
    "\n",
    "    for a in accel_asc(lev):\n",
    "        vec = [0]*lev\n",
    "        for i in range(len(a)):\n",
    "            vec[i] += a[i]\n",
    "        vec.sort(reverse=True)\n",
    "        partitions.append(vec)\n",
    "            \n",
    "    return partitions\n",
    "\n",
    "def mono(vector):\n",
    "    '''This function gives the monomials in the \n",
    "    definition of the complete symmetric polynomials'''\n",
    "    pro = 1\n",
    "    for n in range(len(vector)):\n",
    "        pro *= Rational(1, factorial(vector[n])) * t[n]**(vector[n])\n",
    "    return pro\n",
    "\n",
    "def comp_sym_polynomials(lev):\n",
    "    '''This function gives the complete symmetric polynomials'''\n",
    "    if lev < 0:\n",
    "        return 0\n",
    "    \n",
    "    elif lev == 0:\n",
    "        return 1\n",
    "    else:\n",
    "        # first of all, given the level above, we need to find the vectors k\n",
    "        vectors_k = bosonic_states(lev) # This is a list of vectors\n",
    "        h_poly = 0\n",
    " \n",
    "        for vector in vectors_k:\n",
    "            h_poly += mono(vector)\n",
    "        return h_poly"
   ]
  },
  {
   "cell_type": "code",
   "execution_count": 42,
   "id": "127d820e-0954-4504-83fc-ed6710e48e68",
   "metadata": {},
   "outputs": [
    {
     "data": {
      "text/plain": [
       "[[2, 0], [0, 1]]"
      ]
     },
     "execution_count": 42,
     "metadata": {},
     "output_type": "execute_result"
    }
   ],
   "source": [
    "bosonic_states(2)"
   ]
  },
  {
   "cell_type": "markdown",
   "id": "4c3dd73c-3bd0-4fa8-be5a-81cb663a4162",
   "metadata": {
    "jp-MarkdownHeadingCollapsed": true
   },
   "source": [
    "# Frobenius Character Formula"
   ]
  },
  {
   "cell_type": "code",
   "execution_count": null,
   "id": "1e61c1a0-ee03-427c-b86c-afb3943093dc",
   "metadata": {},
   "outputs": [],
   "source": [
    "# Auxiliary coordinates\n",
    "x1, x2, x3, x4, x5, x6, x7, x8, x9, x10, x11, x12 = symbols('x1, x2, x3, x4, x5, x6, x7, x8, x9, x10, x11, x12')\n",
    "x = np.array([x1, x2, x3, x4, x5, x6, x7, x8, x9, x10, x11, x12])"
   ]
  },
  {
   "cell_type": "code",
   "execution_count": null,
   "id": "90d6e144-7439-4b2b-820a-806af38cb31b",
   "metadata": {},
   "outputs": [],
   "source": [
    "def VandPol(partition):\n",
    "    '''Here I want to calculate the Vandermonde polynomia. \n",
    "    Try to keep the number of rows of the partition \n",
    "    smalled than 12'''\n",
    "    m = len(partition) # number of rows\n",
    "    van = 1\n",
    "    for i in range(m):\n",
    "        for j in range(m):\n",
    "            if i < j:\n",
    "                van *= (x[i] - x[j])\n",
    "    return van\n",
    "\n",
    "def NewFactor(j, partition):\n",
    "    '''In order to calculate the Newton polynomial, we need the factor\n",
    "    P_j(\\vec{x}). The partition gives the number of rows.'''\n",
    "    m = len(partition) # number of rows\n",
    "    xj = x**j\n",
    "    newton_factor = 0\n",
    "    for j in range(m):\n",
    "        newton_factor += xj[j]\n",
    "    return newton_factor\n",
    "    \n",
    "def Newton(k, partition):\n",
    "    '''Calculation of the Newton polynomials themselves.'''\n",
    "    m = len(partition) # number of rows\n",
    "    r = len(k)\n",
    "    Newt = 1\n",
    "    for j in range(r):\n",
    "        Newt *= NewFactor(j+1, partition)**(k[j])\n",
    "    return Newt\n",
    "\n",
    "def Characters(k, partition):\n",
    "    l = []\n",
    "    m = len(partition)\n",
    "    power = 1 # this is the coefficient in x I need to extract\n",
    "    for i in range(m):\n",
    "        l.append(partition[i] + m - i -1) # the minus comes from the fact that python lists start at 0\n",
    "    for j in range(len(l)):\n",
    "        power *= x[j]**l[j]\n",
    "    polynomial = poly(VandPol(partition)*Newton(k, partition))\n",
    "    coeff = polynomial.coeff_monomial(power)\n",
    "    return coeff"
   ]
  },
  {
   "cell_type": "markdown",
   "id": "aca692a4-5ddf-46f2-aa8d-3259b77c4fe4",
   "metadata": {
    "jp-MarkdownHeadingCollapsed": true
   },
   "source": [
    "# Schur Polynomials"
   ]
  },
  {
   "cell_type": "code",
   "execution_count": 7,
   "id": "cc3091af-7352-4772-9982-bd9d95846fb6",
   "metadata": {},
   "outputs": [],
   "source": [
    "def schur(partition):\n",
    "    '''Here we calculate the Schur polynomial in \n",
    "    terms of Miwa coordinates using the determinant formula.'''\n",
    "    if partition[0] == 0:\n",
    "        return 1\n",
    "    else:\n",
    "        l = len(partition) # length = number of rows in the partition\n",
    "        H = matrix = zeros(l, l)\n",
    "        for (n,m) in product(tuple(range(l)), repeat = 2):\n",
    "            H[n,m] = comp_sym_polynomials( partition[n] - n + m)\n",
    "        return H.det()"
   ]
  },
  {
   "cell_type": "code",
   "execution_count": 8,
   "id": "38f4e7df-8068-4483-91d0-008a18e9db0a",
   "metadata": {},
   "outputs": [],
   "source": [
    "def schurCh(partition):\n",
    "    '''Here we calculate the Schur polynomial in \n",
    "    terms of Miwa coordinates using the characters.'''\n",
    "    \n",
    "    lev = sum(partition)\n",
    "\n",
    "    if lev == 0:\n",
    "        return 1\n",
    "    else:\n",
    "        schur = 0\n",
    "        vectors = bosonic_states(lev)\n",
    "        for vector in vectors:\n",
    "            schur += mono(vector) * Characters(vector, partition)\n",
    "        return schur"
   ]
  },
  {
   "cell_type": "code",
   "execution_count": 10,
   "id": "b24c3599-1939-4d3b-ad8e-bc38d76c4d14",
   "metadata": {},
   "outputs": [
    {
     "data": {
      "text/latex": [
       "$\\displaystyle 0$"
      ],
      "text/plain": [
       "0"
      ]
     },
     "execution_count": 10,
     "metadata": {},
     "output_type": "execute_result"
    }
   ],
   "source": [
    "# teste to see if the definitions are equal\n",
    "part = (4,3,2)\n",
    "schur(part) - schurCh(part)"
   ]
  },
  {
   "cell_type": "code",
   "execution_count": 11,
   "id": "607b67f0-802a-465b-a0f2-0a99476b4c55",
   "metadata": {},
   "outputs": [
    {
     "data": {
      "text/latex": [
       "$\\displaystyle \\frac{t_{1}^{5}}{24} + \\frac{t_{1}^{3} t_{2}}{6} - \\frac{t_{1}^{2} t_{3}}{2} + \\frac{t_{1} t_{2}^{2}}{2} - t_{1} t_{4} + t_{2} t_{3}$"
      ],
      "text/plain": [
       "t1**5/24 + t1**3*t2/6 - t1**2*t3/2 + t1*t2**2/2 - t1*t4 + t2*t3"
      ]
     },
     "execution_count": 11,
     "metadata": {},
     "output_type": "execute_result"
    }
   ],
   "source": [
    "schur([3,2])"
   ]
  },
  {
   "cell_type": "markdown",
   "id": "5689d356-9ffa-4bfb-8154-8cc3355e1b4f",
   "metadata": {
    "jp-MarkdownHeadingCollapsed": true
   },
   "source": [
    "# Skew Schur Polynomials"
   ]
  },
  {
   "cell_type": "code",
   "execution_count": 9,
   "id": "a58c39ff-dcdf-493e-a19c-6a2ceea7790c",
   "metadata": {},
   "outputs": [],
   "source": [
    "def skewSchur(partition1, partition2):\n",
    "    '''Here we calculate the Skew Schur polynomials in \n",
    "    terms of Miwa coordinates using the determinant formula.'''\n",
    "    if len(partition1) != len(partition2):\n",
    "        raise ValueError(\"Please, write both partitions in the same form: [l1, ... , lm]\")\n",
    "    elif partition1[0] == 0 and partition2[0] == 0:\n",
    "        return 1\n",
    "    else:\n",
    "        l = len(partition1) # length = number of rows in the partition\n",
    "        H = matrix = zeros(l, l)\n",
    "        for (n,m) in product(tuple(range(l)), repeat = 2):\n",
    "            H[n,m] = comp_sym_polynomials(partition1[n] - partition2[m] - n + m)\n",
    "        return H.det()\n",
    "\n",
    "def interlaced(partition1, partition2):\n",
    "    '''Check if two partitions are interlaced.'''\n",
    "    n = len(partition1)-1\n",
    "    count = 0\n",
    "    for index in range(n):\n",
    "        if partition1[index] >= partition2[index] and partition2[index] >= partition1[index+1]:\n",
    "            count += 1\n",
    "    return n == count"
   ]
  },
  {
   "cell_type": "code",
   "execution_count": 13,
   "id": "646c39c1-db02-4073-ace4-13ec111348dc",
   "metadata": {
    "scrolled": true
   },
   "outputs": [
    {
     "data": {
      "text/latex": [
       "$\\displaystyle \\frac{t_{1}^{6}}{45} - \\frac{t_{1}^{3} t_{3}}{3} + t_{1} t_{5} - t_{3}^{2}$"
      ],
      "text/plain": [
       "t1**6/45 - t1**3*t3/3 + t1*t5 - t3**2"
      ]
     },
     "execution_count": 13,
     "metadata": {},
     "output_type": "execute_result"
    }
   ],
   "source": [
    "skewSchur([3,2,1], [0,0,0])"
   ]
  },
  {
   "cell_type": "code",
   "execution_count": 35,
   "id": "1ed0c981-f814-472b-9d0a-28dc8425f8b3",
   "metadata": {
    "scrolled": true
   },
   "outputs": [
    {
     "data": {
      "text/latex": [
       "$\\displaystyle 0$"
      ],
      "text/plain": [
       "0"
      ]
     },
     "execution_count": 35,
     "metadata": {},
     "output_type": "execute_result"
    }
   ],
   "source": [
    "skewSchur([2,1], [0,0]) - schur([2,1])"
   ]
  },
  {
   "cell_type": "code",
   "execution_count": 105,
   "id": "5b7c0433-ff54-4be1-a90d-0127f21b3570",
   "metadata": {},
   "outputs": [],
   "source": [
    "part1 = [2,1,0] \n",
    "part2 = [1,0,0]"
   ]
  },
  {
   "cell_type": "code",
   "execution_count": 106,
   "id": "d28a5b9a-f9d3-4023-a0ba-cc8a83827709",
   "metadata": {},
   "outputs": [
    {
     "data": {
      "text/plain": [
       "True"
      ]
     },
     "execution_count": 106,
     "metadata": {},
     "output_type": "execute_result"
    }
   ],
   "source": [
    "interlaced(part1, part2)"
   ]
  }
 ],
 "metadata": {
  "kernelspec": {
   "display_name": "Python 3 (ipykernel)",
   "language": "python",
   "name": "python3"
  },
  "language_info": {
   "codemirror_mode": {
    "name": "ipython",
    "version": 3
   },
   "file_extension": ".py",
   "mimetype": "text/x-python",
   "name": "python",
   "nbconvert_exporter": "python",
   "pygments_lexer": "ipython3",
   "version": "3.12.2"
  }
 },
 "nbformat": 4,
 "nbformat_minor": 5
}
