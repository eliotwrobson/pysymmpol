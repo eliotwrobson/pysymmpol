{
 "cells": [
  {
   "cell_type": "code",
   "execution_count": 1,
   "id": "ecca1305-b80f-4e29-8f16-23571fdc9cfd",
   "metadata": {},
   "outputs": [],
   "source": [
    "import sympy as sp\n",
    "import numpy as np\n",
    "from src.young.young import YoungDiagram\n",
    "from src.young.conjugacy import ConjugacyClass"
   ]
  },
  {
   "cell_type": "markdown",
   "id": "352b6b39-16f8-49aa-b28b-800975b651f9",
   "metadata": {},
   "source": [
    "# Introduction"
   ]
  },
  {
   "cell_type": "markdown",
   "id": "93ce6813-32d0-4157-84c2-1b6b370b479f",
   "metadata": {},
   "source": [
    "This notebook explains the main functionalities of the pyHallLittlewood package. "
   ]
  },
  {
   "cell_type": "markdown",
   "id": "537e1fd1-a216-4b9c-87d7-31c7f23c2816",
   "metadata": {},
   "source": [
    "# Young Diagrams"
   ]
  },
  {
   "cell_type": "markdown",
   "id": "a63408c5-2fc0-47e7-a908-138f5bea510e",
   "metadata": {},
   "source": [
    "This module describes the creation and manipulation of young diagrams in two forms. \n",
    "\n",
    "1) The first is the usual definition in a partition form, with the usual notation $\\lambda = (\\lambda_1, \\lambda_2, \\dots, \\lambda_N)$\n",
    "with $\\lambda_{i+1} \\leq \\lambda_i$ for any $i \\in [1, N-1]$.\n",
    "2) We also define Young diagrams in the conjugacy class notation, where $\\lambda = (1^{k_1} 2^{k_2}\\cdots)$.\n",
    "\n",
    "In the subsections below, we describe how to initialize and work with these classes. "
   ]
  },
  {
   "cell_type": "markdown",
   "id": "a036c5ed-81ce-4a3c-bf45-6f75435a0c86",
   "metadata": {
    "jp-MarkdownHeadingCollapsed": true
   },
   "source": [
    "## Class: YoungDiagram"
   ]
  },
  {
   "cell_type": "markdown",
   "id": "24643168-1ce6-401f-ba0b-ec55039b8e66",
   "metadata": {
    "jp-MarkdownHeadingCollapsed": true
   },
   "source": [
    "We initialize the Young diagrams with the class **YoungDiagram(partition: tuple)**. \n",
    "The partition must be tuple in the standard monotonic decreasing form, otherwise \n",
    "it will raise a 'NonStandardError'. Of course, the user can remove this error with some simple \n",
    "list methods to reorder the list, but I do not recommend this approach because this error \n",
    "might be useful when we use this to study symmetric polynomials. Moreover, we \n",
    "should pass a tuple as argument since it is imutable and we do not want the user doing silly things, \n",
    "such as bringing the partition to a nonstandard form after the initialization. "
   ]
  },
  {
   "cell_type": "code",
   "execution_count": 5,
   "id": "beda8753-50cd-4d32-a324-0b49198654ea",
   "metadata": {},
   "outputs": [
    {
     "ename": "TypeError",
     "evalue": "Argument must be a tuple, and you passed a <class 'list'>",
     "output_type": "error",
     "traceback": [
      "\u001b[0;31m---------------------------------------------------------------------------\u001b[0m",
      "\u001b[0;31mTypeError\u001b[0m                                 Traceback (most recent call last)",
      "Cell \u001b[0;32mIn[5], line 2\u001b[0m\n\u001b[1;32m      1\u001b[0m \u001b[38;5;66;03m# FAIL: Initialize the Young diagram as a list\u001b[39;00m\n\u001b[0;32m----> 2\u001b[0m lambda1 \u001b[38;5;241m=\u001b[39m \u001b[43mYoungDiagram\u001b[49m\u001b[43m(\u001b[49m\u001b[43m[\u001b[49m\u001b[38;5;241;43m4\u001b[39;49m\u001b[43m,\u001b[49m\u001b[38;5;241;43m3\u001b[39;49m\u001b[43m,\u001b[49m\u001b[38;5;241;43m3\u001b[39;49m\u001b[43m]\u001b[49m\u001b[43m)\u001b[49m\n",
      "File \u001b[0;32m<string>:4\u001b[0m, in \u001b[0;36m__init__\u001b[0;34m(self, _partition)\u001b[0m\n",
      "File \u001b[0;32m~/Documents/projects/work/pySymmetricPolynomials/src/young/young.py:38\u001b[0m, in \u001b[0;36mYoungDiagram.__post_init__\u001b[0;34m(self)\u001b[0m\n\u001b[1;32m     36\u001b[0m \u001b[38;5;66;03m# Validate _partition as a tuple\u001b[39;00m\n\u001b[1;32m     37\u001b[0m \u001b[38;5;28;01mif\u001b[39;00m \u001b[38;5;129;01mnot\u001b[39;00m \u001b[38;5;28misinstance\u001b[39m(\u001b[38;5;28mself\u001b[39m\u001b[38;5;241m.\u001b[39mpartition, \u001b[38;5;28mtuple\u001b[39m):\n\u001b[0;32m---> 38\u001b[0m     \u001b[38;5;28;01mraise\u001b[39;00m \u001b[38;5;167;01mTypeError\u001b[39;00m(\u001b[38;5;124mf\u001b[39m\u001b[38;5;124m\"\u001b[39m\u001b[38;5;124mArgument must be a tuple, and you passed a \u001b[39m\u001b[38;5;132;01m{\u001b[39;00m\u001b[38;5;28mtype\u001b[39m(\u001b[38;5;28mself\u001b[39m\u001b[38;5;241m.\u001b[39m_partition)\u001b[38;5;132;01m}\u001b[39;00m\u001b[38;5;124m\"\u001b[39m)\n\u001b[1;32m     40\u001b[0m \u001b[38;5;66;03m# Validade if the partition is a monotonic decreasing sequence. \u001b[39;00m\n\u001b[1;32m     41\u001b[0m par \u001b[38;5;241m=\u001b[39m \u001b[38;5;28mself\u001b[39m\u001b[38;5;241m.\u001b[39m_partition\n",
      "\u001b[0;31mTypeError\u001b[0m: Argument must be a tuple, and you passed a <class 'list'>"
     ]
    }
   ],
   "source": [
    "# FAIL: Initialize the Young diagram as a list\n",
    "lambda1 = YoungDiagram([4,3,3])"
   ]
  },
  {
   "cell_type": "code",
   "execution_count": 6,
   "id": "b91711d0-178a-43a9-a83f-baad053d3595",
   "metadata": {},
   "outputs": [
    {
     "ename": "NonStandardError",
     "evalue": "Argument must be a monotonic decreasing sequence.",
     "output_type": "error",
     "traceback": [
      "\u001b[0;31m---------------------------------------------------------------------------\u001b[0m",
      "\u001b[0;31mNonStandardError\u001b[0m                          Traceback (most recent call last)",
      "Cell \u001b[0;32mIn[6], line 2\u001b[0m\n\u001b[1;32m      1\u001b[0m \u001b[38;5;66;03m# FAIL: Initialize the Young diagram in a nonstandard form:\u001b[39;00m\n\u001b[0;32m----> 2\u001b[0m lambda1 \u001b[38;5;241m=\u001b[39m \u001b[43mYoungDiagram\u001b[49m\u001b[43m(\u001b[49m\u001b[43m(\u001b[49m\u001b[38;5;241;43m10\u001b[39;49m\u001b[43m,\u001b[49m\u001b[38;5;241;43m9\u001b[39;49m\u001b[43m,\u001b[49m\u001b[38;5;241;43m8\u001b[39;49m\u001b[43m,\u001b[49m\u001b[38;5;241;43m8\u001b[39;49m\u001b[43m,\u001b[49m\u001b[38;5;241;43m8\u001b[39;49m\u001b[43m,\u001b[49m\u001b[38;5;241;43m8\u001b[39;49m\u001b[43m,\u001b[49m\u001b[38;5;241;43m8\u001b[39;49m\u001b[43m,\u001b[49m\u001b[38;5;241;43m5\u001b[39;49m\u001b[43m,\u001b[49m\u001b[38;5;241;43m7\u001b[39;49m\u001b[43m,\u001b[49m\u001b[38;5;241;43m6\u001b[39;49m\u001b[43m,\u001b[49m\u001b[38;5;241;43m5\u001b[39;49m\u001b[43m,\u001b[49m\u001b[38;5;241;43m4\u001b[39;49m\u001b[43m,\u001b[49m\u001b[38;5;241;43m3\u001b[39;49m\u001b[43m,\u001b[49m\u001b[38;5;241;43m2\u001b[39;49m\u001b[43m,\u001b[49m\u001b[38;5;241;43m1\u001b[39;49m\u001b[43m)\u001b[49m\u001b[43m)\u001b[49m\n",
      "File \u001b[0;32m<string>:4\u001b[0m, in \u001b[0;36m__init__\u001b[0;34m(self, _partition)\u001b[0m\n",
      "File \u001b[0;32m~/Documents/projects/work/pySymmetricPolynomials/src/young/young.py:46\u001b[0m, in \u001b[0;36mYoungDiagram.__post_init__\u001b[0;34m(self)\u001b[0m\n\u001b[1;32m     43\u001b[0m \u001b[38;5;66;03m#A = all([self._partition[i+1] <= self._partition[i] for i in range(len(self._partition) -1)])\u001b[39;00m\n\u001b[1;32m     45\u001b[0m \u001b[38;5;28;01mif\u001b[39;00m \u001b[38;5;129;01mnot\u001b[39;00m A:\n\u001b[0;32m---> 46\u001b[0m     \u001b[38;5;28;01mraise\u001b[39;00m NonStandardError(\u001b[38;5;124m\"\u001b[39m\u001b[38;5;124mArgument must be a monotonic decreasing sequence.\u001b[39m\u001b[38;5;124m\"\u001b[39m)\n",
      "\u001b[0;31mNonStandardError\u001b[0m: Argument must be a monotonic decreasing sequence."
     ]
    }
   ],
   "source": [
    "# FAIL: Initialize the Young diagram in a nonstandard form:\n",
    "lambda1 = YoungDiagram((10,9,8,8,8,8,8,5,7,6,5,4,3,2,1))"
   ]
  },
  {
   "cell_type": "code",
   "execution_count": 7,
   "id": "2d020659-b250-4908-b6ef-9c8fe1b67f07",
   "metadata": {},
   "outputs": [],
   "source": [
    "# Correct initialization. Let us create some Young diagrams to use as examples in the text. \n",
    "lambda1 = YoungDiagram((4, 3, 3, 2))\n",
    "lambda2 = YoungDiagram((3, 3, 2))\n",
    "mu1 = YoungDiagram((5, 5, 4, 3, 3, 3, 2, 2, 1, 1))\n",
    "mu2 = YoungDiagram((5, 5, 3, 3, 3, 2, 2, 1, 1))\n",
    "nu1 = YoungDiagram((3,))\n",
    "nu2 = YoungDiagram((1,))"
   ]
  },
  {
   "cell_type": "code",
   "execution_count": 8,
   "id": "a81157a8-c866-4785-9d6f-8d46965bd1f4",
   "metadata": {},
   "outputs": [
    {
     "data": {
      "text/plain": [
       "YoungDiagram(_partition=(4, 3, 3, 2))"
      ]
     },
     "execution_count": 8,
     "metadata": {},
     "output_type": "execute_result"
    }
   ],
   "source": [
    "lambda1"
   ]
  },
  {
   "cell_type": "code",
   "execution_count": 9,
   "id": "3a092c52-4554-445d-b319-6d1682ae7727",
   "metadata": {},
   "outputs": [
    {
     "data": {
      "text/plain": [
       "YoungDiagram(_partition=(5, 5, 3, 3, 3, 2, 2, 1, 1))"
      ]
     },
     "execution_count": 9,
     "metadata": {},
     "output_type": "execute_result"
    }
   ],
   "source": [
    "mu2"
   ]
  },
  {
   "cell_type": "markdown",
   "id": "212fc5bb-3f4c-4086-a739-4f02a2c93206",
   "metadata": {},
   "source": [
    "### Properties"
   ]
  },
  {
   "cell_type": "markdown",
   "id": "ecf76732-bb18-4fec-a8dd-4482493fa2e7",
   "metadata": {},
   "source": [
    "#### Diagram"
   ]
  },
  {
   "cell_type": "markdown",
   "id": "50b9ae3f-c3ab-4896-8907-38ab3c70afe0",
   "metadata": {},
   "source": [
    "The graphical representation can be obtained from the getter .diagram"
   ]
  },
  {
   "cell_type": "code",
   "execution_count": 10,
   "id": "f20a9bd7-a61e-4aef-8ce0-5d24c095cad5",
   "metadata": {},
   "outputs": [
    {
     "name": "stdout",
     "output_type": "stream",
     "text": [
      "🎲 🎲 \n",
      "🎲 🎲 🎲 \n",
      "🎲 🎲 🎲 \n",
      "🎲 🎲 🎲 🎲 \n"
     ]
    }
   ],
   "source": [
    "lambda1.draw_diagram()"
   ]
  },
  {
   "cell_type": "code",
   "execution_count": 8,
   "id": "30e0f532-4fd5-446b-a052-711a4aa77ef2",
   "metadata": {},
   "outputs": [
    {
     "name": "stdout",
     "output_type": "stream",
     "text": [
      "🎲 🎲 \n",
      "🎲 🎲 🎲 \n",
      "🎲 🎲 🎲 \n"
     ]
    }
   ],
   "source": [
    "lambda2.draw_diagram()"
   ]
  },
  {
   "cell_type": "markdown",
   "id": "10d4be91-5165-48fa-a04d-6f7a5fe8b195",
   "metadata": {},
   "source": [
    "#### Getters"
   ]
  },
  {
   "cell_type": "markdown",
   "id": "6a4eb535-8caa-40b1-8fef-2949ed44daee",
   "metadata": {},
   "source": [
    "The Young diagrams the following getters:\n",
    "1) partition\n",
    "2) rows\n",
    "3) columns\n",
    "4) boxes"
   ]
  },
  {
   "cell_type": "code",
   "execution_count": 9,
   "id": "92b41d3e-cc70-4d92-af1d-a213987dff96",
   "metadata": {},
   "outputs": [
    {
     "data": {
      "text/plain": [
       "(4, 3, 3, 2)"
      ]
     },
     "execution_count": 9,
     "metadata": {},
     "output_type": "execute_result"
    }
   ],
   "source": [
    "lambda1.partition # returns the partition as a list or a tuple."
   ]
  },
  {
   "cell_type": "code",
   "execution_count": 10,
   "id": "6a8a980c-bfa6-4c87-a91e-36295fcd4d77",
   "metadata": {},
   "outputs": [
    {
     "data": {
      "text/plain": [
       "4"
      ]
     },
     "execution_count": 10,
     "metadata": {},
     "output_type": "execute_result"
    }
   ],
   "source": [
    "lambda1.rows # returns the number of rows"
   ]
  },
  {
   "cell_type": "code",
   "execution_count": 11,
   "id": "2544a409-ab5a-4427-b662-18f59541c24d",
   "metadata": {},
   "outputs": [
    {
     "data": {
      "text/plain": [
       "4"
      ]
     },
     "execution_count": 11,
     "metadata": {},
     "output_type": "execute_result"
    }
   ],
   "source": [
    "lambda1.columns # returns the number of columns"
   ]
  },
  {
   "cell_type": "code",
   "execution_count": 12,
   "id": "c6596be2-fb37-4a62-9eee-203b5a987232",
   "metadata": {},
   "outputs": [
    {
     "data": {
      "text/plain": [
       "12"
      ]
     },
     "execution_count": 12,
     "metadata": {},
     "output_type": "execute_result"
    }
   ],
   "source": [
    "lambda1.boxes # returns the number of boxes "
   ]
  },
  {
   "cell_type": "markdown",
   "id": "73af6ae9-314e-4447-a6bb-a527110e899c",
   "metadata": {},
   "source": [
    "### Methods"
   ]
  },
  {
   "cell_type": "markdown",
   "id": "86c50202-aeb3-4d51-a7f8-8fb21169fc3f",
   "metadata": {},
   "source": [
    "#### Count diagonal"
   ]
  },
  {
   "cell_type": "markdown",
   "id": "75465c6d-0954-4d9b-9000-ec687f728086",
   "metadata": {},
   "source": [
    "This method counts the number of boxes in the diagonal of the Young diagram"
   ]
  },
  {
   "cell_type": "code",
   "execution_count": 13,
   "id": "d806e026-d226-4b74-abf6-95e1cb684a3b",
   "metadata": {},
   "outputs": [
    {
     "data": {
      "text/plain": [
       "3"
      ]
     },
     "execution_count": 13,
     "metadata": {},
     "output_type": "execute_result"
    }
   ],
   "source": [
    "lambda1.count_diagonal() # Retturns the number of boxes in the diagonal"
   ]
  },
  {
   "cell_type": "markdown",
   "id": "4a0b0d52-369a-4492-875b-d321aebdd440",
   "metadata": {},
   "source": [
    "#### Frobenius Coordinates"
   ]
  },
  {
   "cell_type": "markdown",
   "id": "6adb1c76-1f9a-4564-9b40-06ebd8776871",
   "metadata": {},
   "source": [
    "From these methods and properties, we have also find the Frobenius coordinates for a given partition."
   ]
  },
  {
   "cell_type": "code",
   "execution_count": 14,
   "id": "7676b414-012b-4ef8-84eb-5e3484ba0380",
   "metadata": {},
   "outputs": [
    {
     "data": {
      "text/plain": [
       "[[5/2, -5/2], [3/2, -3/2]]"
      ]
     },
     "execution_count": 14,
     "metadata": {},
     "output_type": "execute_result"
    }
   ],
   "source": [
    "lambda2.frobenius_coordinates()"
   ]
  },
  {
   "cell_type": "code",
   "execution_count": 15,
   "id": "4c33ad9e-a6f9-4f49-9ce9-b8683b19bee0",
   "metadata": {},
   "outputs": [
    {
     "data": {
      "text/plain": [
       "[[9/2, -19/2], [7/2, -13/2], [3/2, -7/2]]"
      ]
     },
     "execution_count": 15,
     "metadata": {},
     "output_type": "execute_result"
    }
   ],
   "source": [
    "mu1.frobenius_coordinates()"
   ]
  },
  {
   "cell_type": "code",
   "execution_count": 16,
   "id": "d6716fc4-f8d0-4c9d-847c-aa9152ee6421",
   "metadata": {},
   "outputs": [
    {
     "data": {
      "text/plain": [
       "[[9/2, -17/2], [7/2, -11/2], [1/2, -5/2]]"
      ]
     },
     "execution_count": 16,
     "metadata": {},
     "output_type": "execute_result"
    }
   ],
   "source": [
    "mu2.frobenius_coordinates()"
   ]
  },
  {
   "cell_type": "code",
   "execution_count": 17,
   "id": "a5f23a0d-7249-4745-9aff-030d6743ce81",
   "metadata": {},
   "outputs": [
    {
     "data": {
      "text/plain": [
       "[[5/2, -1/2]]"
      ]
     },
     "execution_count": 17,
     "metadata": {},
     "output_type": "execute_result"
    }
   ],
   "source": [
    "nu1.frobenius_coordinates()"
   ]
  },
  {
   "cell_type": "code",
   "execution_count": 18,
   "id": "fe2173fa-9fb3-4294-9a07-b8ed197d5b4c",
   "metadata": {},
   "outputs": [
    {
     "data": {
      "text/plain": [
       "[[1/2, -1/2]]"
      ]
     },
     "execution_count": 18,
     "metadata": {},
     "output_type": "execute_result"
    }
   ],
   "source": [
    "nu2.frobenius_coordinates()"
   ]
  },
  {
   "cell_type": "markdown",
   "id": "c842c527-a192-4418-a927-9f14e8004910",
   "metadata": {},
   "source": [
    "#### Transposed Young Diagram"
   ]
  },
  {
   "cell_type": "markdown",
   "id": "b3bc7ee4-0f59-43ff-b0c3-c95ba56d9da5",
   "metadata": {},
   "source": [
    "The method transpose, as the name suggests,returns the transposed (or conjugate) Young diagram as a new object."
   ]
  },
  {
   "cell_type": "code",
   "execution_count": 19,
   "id": "d48ba9e3-78f4-4504-a2e1-4eda8aa5911e",
   "metadata": {},
   "outputs": [],
   "source": [
    "lambda1_T = lambda1.transpose()"
   ]
  },
  {
   "cell_type": "code",
   "execution_count": 20,
   "id": "84b12901-b19e-4649-99c4-599871e95efa",
   "metadata": {},
   "outputs": [
    {
     "data": {
      "text/plain": [
       "(4, 4, 3, 1)"
      ]
     },
     "execution_count": 20,
     "metadata": {},
     "output_type": "execute_result"
    }
   ],
   "source": [
    "lambda1_T.partition"
   ]
  },
  {
   "cell_type": "code",
   "execution_count": 21,
   "id": "215df2e3-997d-4603-a48e-df9878aec32e",
   "metadata": {},
   "outputs": [
    {
     "data": {
      "text/plain": [
       "YoungDiagram(_partition=(4, 4, 3, 1))"
      ]
     },
     "execution_count": 21,
     "metadata": {},
     "output_type": "execute_result"
    }
   ],
   "source": [
    "lambda1_T"
   ]
  },
  {
   "cell_type": "code",
   "execution_count": 22,
   "id": "43311419-7566-44c6-995d-27e4f3199228",
   "metadata": {},
   "outputs": [
    {
     "data": {
      "text/plain": [
       "4"
      ]
     },
     "execution_count": 22,
     "metadata": {},
     "output_type": "execute_result"
    }
   ],
   "source": [
    "lambda1_T.rows"
   ]
  },
  {
   "cell_type": "code",
   "execution_count": 23,
   "id": "311d5675-cf9c-4afe-936c-74b858337a28",
   "metadata": {},
   "outputs": [
    {
     "data": {
      "text/plain": [
       "4"
      ]
     },
     "execution_count": 23,
     "metadata": {},
     "output_type": "execute_result"
    }
   ],
   "source": [
    "lambda1_T.columns"
   ]
  },
  {
   "cell_type": "code",
   "execution_count": 24,
   "id": "ef11af95-5475-4c06-bd9f-2b3fbb48bf18",
   "metadata": {},
   "outputs": [
    {
     "data": {
      "text/plain": [
       "12"
      ]
     },
     "execution_count": 24,
     "metadata": {},
     "output_type": "execute_result"
    }
   ],
   "source": [
    "lambda1_T.boxes"
   ]
  },
  {
   "cell_type": "markdown",
   "id": "a115cb48-634c-461e-beea-927e32976009",
   "metadata": {},
   "source": [
    "#### Conjugacy Partition"
   ]
  },
  {
   "cell_type": "markdown",
   "id": "0df1caab-e911-4d8d-94fc-d95382e03b3b",
   "metadata": {},
   "source": [
    "It is also useful to represent the partitions in terms of its conjugacy class. For example, \n",
    "we know that: $\\lambda_1 = (4, 3, 2) = (2^1 3^1 2^1)$ and $\\mu_1 = (5, 5, 4, 3, 3, 3, 2, 2, 1, 1) = (1^2 2^2 3^3 4^1 5^2)$. \n",
    "\n",
    "We can get these representations from the method .conjugacy_partition. For a generic partition $\\lambda = (\\lambda_1, \\lambda_2, \\dots, \\lambda_N)$\n",
    "we have $\\lambda = (1^{k_1} 2^{k_2}\\cdots)$. In order to avoid confusion with the partition notation, this method returns a dictinary $(1: k_1, 2: k_2, 3: k_3, \\dots)$. In our examples, we have $\\lambda_1 = \\{1: 0, 2: 1, 3: 1, 4: 1\\}$ and $\\mu_1 = \\{1: 2, 2: 2, 3: 3, 4: 1, 5: 2\\}$."
   ]
  },
  {
   "cell_type": "code",
   "execution_count": 25,
   "id": "528d516e-e7a2-464d-bcbf-edee363b2b4c",
   "metadata": {},
   "outputs": [
    {
     "data": {
      "text/plain": [
       "{1: 0, 2: 1, 3: 2, 4: 1}"
      ]
     },
     "execution_count": 25,
     "metadata": {},
     "output_type": "execute_result"
    }
   ],
   "source": [
    "lambda1.conjugacy_partition()"
   ]
  },
  {
   "cell_type": "code",
   "execution_count": 26,
   "id": "88fb2271-06b3-46ce-9df5-860c20287700",
   "metadata": {},
   "outputs": [
    {
     "data": {
      "text/plain": [
       "{1: 2, 2: 2, 3: 3, 4: 1, 5: 2}"
      ]
     },
     "execution_count": 26,
     "metadata": {},
     "output_type": "execute_result"
    }
   ],
   "source": [
    "mu1.conjugacy_partition()"
   ]
  },
  {
   "cell_type": "markdown",
   "id": "ecff9bd6-540b-48cc-ad9c-b6a5dc465b94",
   "metadata": {},
   "source": [
    "#### Interlaces"
   ]
  },
  {
   "cell_type": "markdown",
   "id": "5cbe797e-1423-44d6-a998-dd68124f799b",
   "metadata": {},
   "source": [
    "Finally, given two Young diagrams, say $\\lambda$ and $\\mu$, the interlaces method, lambda.interlaces(mu), checks if the partition lambda interlaced \n",
    "the partition mu. "
   ]
  },
  {
   "cell_type": "markdown",
   "id": "9e8df1c8-48de-4604-bcf9-b7b6b039c361",
   "metadata": {},
   "source": [
    "1. partitions $\\lambda_1$ and $\\lambda_2$"
   ]
  },
  {
   "cell_type": "code",
   "execution_count": 27,
   "id": "9682730c-3cf3-4ddb-b194-f58b1dff650d",
   "metadata": {},
   "outputs": [
    {
     "name": "stdout",
     "output_type": "stream",
     "text": [
      "🎲 🎲 \n",
      "🎲 🎲 🎲 \n",
      "🎲 🎲 🎲 \n",
      "🎲 🎲 🎲 🎲 \n"
     ]
    }
   ],
   "source": [
    "lambda1.draw_diagram()"
   ]
  },
  {
   "cell_type": "code",
   "execution_count": 28,
   "id": "a03b0982-c787-40d7-97ef-1be6af02fc81",
   "metadata": {},
   "outputs": [
    {
     "name": "stdout",
     "output_type": "stream",
     "text": [
      "🎲 🎲 \n",
      "🎲 🎲 🎲 \n",
      "🎲 🎲 🎲 \n"
     ]
    }
   ],
   "source": [
    "lambda2.draw_diagram()"
   ]
  },
  {
   "cell_type": "code",
   "execution_count": 29,
   "id": "3ae630e4-22b7-4bc0-94e0-add64161226f",
   "metadata": {},
   "outputs": [
    {
     "data": {
      "text/plain": [
       "True"
      ]
     },
     "execution_count": 29,
     "metadata": {},
     "output_type": "execute_result"
    }
   ],
   "source": [
    "lambda1.interlaces(lambda2) # partition lambda1 interlaces lambda2"
   ]
  },
  {
   "cell_type": "code",
   "execution_count": 30,
   "id": "88789109-380b-43a7-8a84-9f778eeef76b",
   "metadata": {},
   "outputs": [
    {
     "data": {
      "text/plain": [
       "False"
      ]
     },
     "execution_count": 30,
     "metadata": {},
     "output_type": "execute_result"
    }
   ],
   "source": [
    "lambda2.interlaces(lambda1) # the converse is not true"
   ]
  },
  {
   "cell_type": "markdown",
   "id": "5ed8b251-7a1c-4610-8ca1-1fa38b13d5f3",
   "metadata": {},
   "source": [
    "2. partitions $\\lambda_1$ and $\\mu_1$"
   ]
  },
  {
   "cell_type": "code",
   "execution_count": 31,
   "id": "1a8bd737-9089-46be-a792-50269940c799",
   "metadata": {
    "scrolled": true
   },
   "outputs": [
    {
     "name": "stdout",
     "output_type": "stream",
     "text": [
      "🎲 \n",
      "🎲 \n",
      "🎲 🎲 \n",
      "🎲 🎲 \n",
      "🎲 🎲 🎲 \n",
      "🎲 🎲 🎲 \n",
      "🎲 🎲 🎲 \n",
      "🎲 🎲 🎲 🎲 \n",
      "🎲 🎲 🎲 🎲 🎲 \n",
      "🎲 🎲 🎲 🎲 🎲 \n"
     ]
    }
   ],
   "source": [
    "mu1.draw_diagram()"
   ]
  },
  {
   "cell_type": "code",
   "execution_count": 32,
   "id": "ea3e58b0-985a-4574-8e0a-192d9ca41c00",
   "metadata": {},
   "outputs": [
    {
     "data": {
      "text/plain": [
       "False"
      ]
     },
     "execution_count": 32,
     "metadata": {},
     "output_type": "execute_result"
    }
   ],
   "source": [
    "lambda1.interlaces(mu1)"
   ]
  },
  {
   "cell_type": "code",
   "execution_count": 33,
   "id": "a78edf95-66e5-485a-bf03-7dd50da9baf6",
   "metadata": {},
   "outputs": [
    {
     "data": {
      "text/plain": [
       "False"
      ]
     },
     "execution_count": 33,
     "metadata": {},
     "output_type": "execute_result"
    }
   ],
   "source": [
    "mu1.interlaces(lambda1)"
   ]
  },
  {
   "cell_type": "markdown",
   "id": "4cf9ceea-a495-4864-8b33-b19cf24b59d7",
   "metadata": {},
   "source": [
    "3. partitions $\\mu_1$ and $\\mu_2$"
   ]
  },
  {
   "cell_type": "code",
   "execution_count": 34,
   "id": "113370ea-2f0e-470a-b322-78def8914da7",
   "metadata": {},
   "outputs": [
    {
     "name": "stdout",
     "output_type": "stream",
     "text": [
      "🎲 \n",
      "🎲 \n",
      "🎲 🎲 \n",
      "🎲 🎲 \n",
      "🎲 🎲 🎲 \n",
      "🎲 🎲 🎲 \n",
      "🎲 🎲 🎲 \n",
      "🎲 🎲 🎲 🎲 🎲 \n",
      "🎲 🎲 🎲 🎲 🎲 \n"
     ]
    }
   ],
   "source": [
    "mu2.draw_diagram()"
   ]
  },
  {
   "cell_type": "code",
   "execution_count": 35,
   "id": "8228aff8-0f57-4abc-be2a-d6bc61b0daa7",
   "metadata": {},
   "outputs": [
    {
     "data": {
      "text/plain": [
       "True"
      ]
     },
     "execution_count": 35,
     "metadata": {},
     "output_type": "execute_result"
    }
   ],
   "source": [
    "mu1.interlaces(mu2)"
   ]
  },
  {
   "cell_type": "code",
   "execution_count": 36,
   "id": "87082fd7-f187-47ac-9b4b-069072ce4366",
   "metadata": {},
   "outputs": [
    {
     "data": {
      "text/plain": [
       "False"
      ]
     },
     "execution_count": 36,
     "metadata": {},
     "output_type": "execute_result"
    }
   ],
   "source": [
    "mu2.interlaces(mu1)"
   ]
  },
  {
   "cell_type": "markdown",
   "id": "5fe3480a-63bf-46a2-a91c-896b3dc6bfd9",
   "metadata": {},
   "source": [
    "4. Other two partitions"
   ]
  },
  {
   "cell_type": "code",
   "execution_count": 37,
   "id": "f851be65-9c00-4dcd-a86b-ea896bd99b66",
   "metadata": {},
   "outputs": [],
   "source": [
    "a = YoungDiagram((5,5,5,4,3,2))\n",
    "b = YoungDiagram((5,5,4,3,3,1))"
   ]
  },
  {
   "cell_type": "code",
   "execution_count": 38,
   "id": "e79cd947-6497-4b3a-a9e9-e33a3fa8cd2e",
   "metadata": {},
   "outputs": [
    {
     "data": {
      "text/plain": [
       "True"
      ]
     },
     "execution_count": 38,
     "metadata": {},
     "output_type": "execute_result"
    }
   ],
   "source": [
    "a.interlaces(b)"
   ]
  },
  {
   "cell_type": "markdown",
   "id": "b0271a42-7cc0-476a-8088-640c672c53f1",
   "metadata": {},
   "source": [
    "Given a partition $\\lambda = (\\lambda_1, \\lambda_2, \\dots, \\lambda_N)$, one can generate all interlaces diagrams with a simple script that we will discuss \n",
    "after describing the module States in this package. "
   ]
  },
  {
   "cell_type": "markdown",
   "id": "57fee7f7-5b23-45cd-a859-8d74ea4695de",
   "metadata": {},
   "source": [
    "## Class: ConjugacyClass"
   ]
  },
  {
   "cell_type": "markdown",
   "id": "47d79ef1-1e12-4ff1-a459-20e5ccba0a5b",
   "metadata": {
    "jp-MarkdownHeadingCollapsed": true
   },
   "source": [
    "We initialize the ConjugacyClass class with **ConjugacyClass(conjugacy_class: dict)**. \n",
    "In order to avoind confusion with the YoungDiagram case, we enter a dictionary to be more \n",
    "explicit about what we are defining. \n",
    "\n",
    "Otherwise, we would face problems like this: Consider the partition (3,2,1). Its conjugacy class \n",
    "vector is (1:1 ,2:1 ,3:1). If we omit the keys, one could interprets it as the partition (1,1,1).\n",
    "In fact, the partition (1,1,1) is represented as the conjugacy class (1:3), and the conjugacy class \n",
    "(3,2,1) is the partition (3,2,2,1,1,1). So, in order to avoid this type of problem, we represent \n",
    "the conjugacy classes as explicitly as possible, and the best way to accomplish this is with \n",
    "dictionaries. "
   ]
  },
  {
   "cell_type": "code",
   "execution_count": 2,
   "id": "6f297133-c325-4c6d-bab2-c5772fd619ba",
   "metadata": {},
   "outputs": [],
   "source": [
    "# An effective way to initialize the class in the correct form\n",
    "vector1 = dict(enumerate((2,4,1),1))"
   ]
  },
  {
   "cell_type": "code",
   "execution_count": 3,
   "id": "1a145932-aaff-4c23-a1f0-cb04645668ec",
   "metadata": {},
   "outputs": [],
   "source": [
    "conjugacy_class = ConjugacyClass(vector1)"
   ]
  },
  {
   "cell_type": "code",
   "execution_count": 4,
   "id": "8e3966d1-3dac-438e-8569-4d21a9d28b30",
   "metadata": {},
   "outputs": [
    {
     "data": {
      "text/plain": [
       "[1, 2, 3]"
      ]
     },
     "execution_count": 4,
     "metadata": {},
     "output_type": "execute_result"
    }
   ],
   "source": [
    "list(vector1.keys())"
   ]
  },
  {
   "cell_type": "code",
   "execution_count": 5,
   "id": "46eb657a-8fcd-4c7c-b5e2-d34d66ae41f3",
   "metadata": {},
   "outputs": [
    {
     "data": {
      "text/plain": [
       "3"
      ]
     },
     "execution_count": 5,
     "metadata": {},
     "output_type": "execute_result"
    }
   ],
   "source": [
    "conjugacy_class.columns"
   ]
  },
  {
   "cell_type": "code",
   "execution_count": 6,
   "id": "b271933d-1148-44eb-a221-3e0189e9c846",
   "metadata": {},
   "outputs": [
    {
     "data": {
      "text/plain": [
       "7"
      ]
     },
     "execution_count": 6,
     "metadata": {},
     "output_type": "execute_result"
    }
   ],
   "source": [
    "conjugacy_class.rows"
   ]
  },
  {
   "cell_type": "code",
   "execution_count": 7,
   "id": "39059e2b-a626-4283-8a98-019accd096c7",
   "metadata": {},
   "outputs": [
    {
     "data": {
      "text/plain": [
       "(2, 4, 1)"
      ]
     },
     "execution_count": 7,
     "metadata": {},
     "output_type": "execute_result"
    }
   ],
   "source": [
    "conjugacy_class.conjugacy"
   ]
  },
  {
   "cell_type": "code",
   "execution_count": 8,
   "id": "69ebf190-902b-43e4-be92-93867c75e09a",
   "metadata": {},
   "outputs": [
    {
     "data": {
      "text/plain": [
       "13"
      ]
     },
     "execution_count": 8,
     "metadata": {},
     "output_type": "execute_result"
    }
   ],
   "source": [
    "conjugacy_class.boxes"
   ]
  },
  {
   "cell_type": "code",
   "execution_count": 9,
   "id": "8f7bc462-f56f-4f86-bdb9-71bb067bc161",
   "metadata": {},
   "outputs": [
    {
     "name": "stdout",
     "output_type": "stream",
     "text": [
      "🎲 \n",
      "🎲 \n",
      "🎲 🎲 \n",
      "🎲 🎲 \n",
      "🎲 🎲 \n",
      "🎲 🎲 \n",
      "🎲 🎲 🎲 \n"
     ]
    }
   ],
   "source": [
    "conjugacy_class.draw_diagram()"
   ]
  },
  {
   "cell_type": "code",
   "execution_count": 10,
   "id": "b835f678-cd17-4762-b88a-22cd4885e839",
   "metadata": {},
   "outputs": [
    {
     "data": {
      "text/plain": [
       "(3, 2, 2, 2, 2, 1, 1)"
      ]
     },
     "execution_count": 10,
     "metadata": {},
     "output_type": "execute_result"
    }
   ],
   "source": [
    "conjugacy_class.conjugacy_partition()"
   ]
  },
  {
   "cell_type": "code",
   "execution_count": null,
   "id": "fa70c41e-fb3a-4619-a391-9a49e88dcbd9",
   "metadata": {},
   "outputs": [],
   "source": []
  }
 ],
 "metadata": {
  "kernelspec": {
   "display_name": "Python 3 (ipykernel)",
   "language": "python",
   "name": "python3"
  },
  "language_info": {
   "codemirror_mode": {
    "name": "ipython",
    "version": 3
   },
   "file_extension": ".py",
   "mimetype": "text/x-python",
   "name": "python",
   "nbconvert_exporter": "python",
   "pygments_lexer": "ipython3",
   "version": "3.12.2"
  }
 },
 "nbformat": 4,
 "nbformat_minor": 5
}
