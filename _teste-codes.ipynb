{
 "cells": [
  {
   "cell_type": "code",
   "execution_count": 1,
   "id": "460a84b9-0b62-42bd-a79f-d8b994555ea0",
   "metadata": {},
   "outputs": [],
   "source": [
    "import sympy as sp\n",
    "from sympy.combinatorics import Permutation\n",
    "from sympy.utilities.iterables import generate_bell\n",
    "from itertools import permutations, product\n",
    "import numpy as np\n",
    "from polynomials.states import State\n",
    "from polynomials.young import YoungDiagram, ConjugacyClass\n",
    "from polynomials.symmetric import HomogeneousPolynomial, ElementaryPolynomial\n",
    "from polynomials.schur import SchurPolynomial\n",
    "from polynomials.hall import HallLittlewood"
   ]
  },
  {
   "cell_type": "markdown",
   "id": "8926fcb2-3671-485f-bf39-390138e3735f",
   "metadata": {
    "jp-MarkdownHeadingCollapsed": true
   },
   "source": [
    "# Young Diagrams"
   ]
  },
  {
   "cell_type": "code",
   "execution_count": 57,
   "id": "4c3fb5d3-bc71-4df3-9d3f-80fd156764ed",
   "metadata": {},
   "outputs": [],
   "source": [
    "K = ConjugacyClass([3,1,2])"
   ]
  },
  {
   "cell_type": "code",
   "execution_count": 58,
   "id": "3888d04a-7ab5-4567-908d-f18ecc1312a0",
   "metadata": {},
   "outputs": [],
   "source": [
    "k = K.conjugacy"
   ]
  },
  {
   "cell_type": "code",
   "execution_count": 59,
   "id": "8ca8b9e4-555c-422d-9f30-892dcbb3ab02",
   "metadata": {},
   "outputs": [
    {
     "name": "stdout",
     "output_type": "stream",
     "text": [
      "🎲 \n",
      "🎲 \n",
      "🎲 \n",
      "🎲 🎲 \n",
      "🎲 🎲 🎲 \n",
      "🎲 🎲 🎲 \n"
     ]
    }
   ],
   "source": [
    "K.diagram"
   ]
  },
  {
   "cell_type": "code",
   "execution_count": 60,
   "id": "260bb152-3fc3-4f93-ab63-11c67a185f3a",
   "metadata": {},
   "outputs": [],
   "source": [
    "L = K.conjugacy_partition()"
   ]
  },
  {
   "cell_type": "code",
   "execution_count": 62,
   "id": "3f0c2d14-5892-4165-a1b6-6ff12fd78eb2",
   "metadata": {},
   "outputs": [
    {
     "data": {
      "text/plain": [
       "[3, 3, 2, 1, 1, 1]"
      ]
     },
     "execution_count": 62,
     "metadata": {},
     "output_type": "execute_result"
    }
   ],
   "source": [
    "L"
   ]
  },
  {
   "cell_type": "code",
   "execution_count": 14,
   "id": "8cfb6b4d-5b79-4b99-89fc-7f46a771212c",
   "metadata": {},
   "outputs": [],
   "source": [
    "A = YoungDiagram(K.conjugacy_partition())"
   ]
  },
  {
   "cell_type": "code",
   "execution_count": 18,
   "id": "d9db9d6c-7ba4-4dc9-9a5c-008d381ce9f3",
   "metadata": {},
   "outputs": [
    {
     "name": "stdout",
     "output_type": "stream",
     "text": [
      "🎲 \n",
      "🎲 \n",
      "🎲 \n",
      "🎲 🎲 \n",
      "🎲 🎲 🎲 \n",
      "🎲 🎲 🎲 \n"
     ]
    }
   ],
   "source": [
    "A.diagram"
   ]
  },
  {
   "cell_type": "code",
   "execution_count": 40,
   "id": "8cbfe31e-9baa-491a-be65-4d5f059e5deb",
   "metadata": {},
   "outputs": [
    {
     "data": {
      "text/latex": [
       "$\\displaystyle \\left(1 - Q\\right)^{3} \\cdot \\left(1 - Q^{2}\\right) \\left(1 - Q^{3}\\right)^{2}$"
      ],
      "text/plain": [
       "(1 - Q)**3*(1 - Q**2)*(1 - Q**3)**2"
      ]
     },
     "execution_count": 40,
     "metadata": {},
     "output_type": "execute_result"
    }
   ],
   "source": [
    "prod1 = 1\n",
    "for j in range(len(k)):\n",
    "    prod1 *= (1 - Q**(j+1))** k[j]\n",
    "prod1"
   ]
  },
  {
   "cell_type": "code",
   "execution_count": 41,
   "id": "4b8c65f0-6d1a-4f0b-91ad-d96d06cc8d90",
   "metadata": {},
   "outputs": [
    {
     "data": {
      "text/latex": [
       "$\\displaystyle \\left(1 - Q\\right)^{3} \\cdot \\left(1 - Q^{2}\\right) \\left(1 - Q^{3}\\right)^{2}$"
      ],
      "text/plain": [
       "(1 - Q)**3*(1 - Q**2)*(1 - Q**3)**2"
      ]
     },
     "execution_count": 41,
     "metadata": {},
     "output_type": "execute_result"
    }
   ],
   "source": [
    "prod2 = 1\n",
    "for j in range(len(L)):\n",
    "    prod2 *= (1 - Q**(L[j]))\n",
    "prod2"
   ]
  },
  {
   "cell_type": "code",
   "execution_count": 29,
   "id": "6c3d69fd-a081-4bb2-948d-3502608b85ba",
   "metadata": {},
   "outputs": [
    {
     "data": {
      "text/plain": [
       "True"
      ]
     },
     "execution_count": 29,
     "metadata": {},
     "output_type": "execute_result"
    }
   ],
   "source": [
    "prod1 == prod2"
   ]
  },
  {
   "cell_type": "code",
   "execution_count": 66,
   "id": "011e9a8d-7917-4b00-8d91-ca866f359190",
   "metadata": {},
   "outputs": [
    {
     "data": {
      "text/latex": [
       "$\\displaystyle \\left(1 - Q^{2}\\right)^{6}$"
      ],
      "text/plain": [
       "(1 - Q**2)**6"
      ]
     },
     "execution_count": 66,
     "metadata": {},
     "output_type": "execute_result"
    }
   ],
   "source": [
    "prod3 = 1\n",
    "i = 1\n",
    "while i <= max(L):\n",
    "    p = L.count(i)\n",
    "    if p > 0:\n",
    "        for j in range(1,p+1):\n",
    "            prod3 *= (1 - Q**j)\n",
    "    i += 1\n",
    "prod3"
   ]
  },
  {
   "cell_type": "code",
   "execution_count": 68,
   "id": "a22dc7eb-2321-4f8c-8e6a-572c24a76222",
   "metadata": {},
   "outputs": [
    {
     "data": {
      "text/plain": [
       "[1]"
      ]
     },
     "execution_count": 68,
     "metadata": {},
     "output_type": "execute_result"
    }
   ],
   "source": [
    "list(range(1,2))"
   ]
  },
  {
   "cell_type": "code",
   "execution_count": 55,
   "id": "5adaa8bf-2abd-4971-9762-240d7081336a",
   "metadata": {},
   "outputs": [
    {
     "data": {
      "text/plain": [
       "False"
      ]
     },
     "execution_count": 55,
     "metadata": {},
     "output_type": "execute_result"
    }
   ],
   "source": [
    "prod1 == prod3"
   ]
  },
  {
   "cell_type": "code",
   "execution_count": 65,
   "id": "372d6bbf-59de-4414-96f8-9955cfd7e49e",
   "metadata": {},
   "outputs": [
    {
     "data": {
      "text/plain": [
       "2"
      ]
     },
     "execution_count": 65,
     "metadata": {},
     "output_type": "execute_result"
    }
   ],
   "source": [
    "L.count(3)"
   ]
  },
  {
   "cell_type": "markdown",
   "id": "ae7db87f-6e57-44a4-830b-d087824328a0",
   "metadata": {
    "jp-MarkdownHeadingCollapsed": true
   },
   "source": [
    "# States"
   ]
  },
  {
   "cell_type": "code",
   "execution_count": 5,
   "id": "acccbd9f-2b96-4b76-aee0-eb1409a3407b",
   "metadata": {},
   "outputs": [],
   "source": [
    "A = State(4)"
   ]
  },
  {
   "cell_type": "code",
   "execution_count": 6,
   "id": "5a215b9b-eae6-4a71-b0d6-1806f917ac56",
   "metadata": {},
   "outputs": [],
   "source": [
    "Partition = A.partition_states"
   ]
  },
  {
   "cell_type": "code",
   "execution_count": 7,
   "id": "4eca17c1-3488-42d7-84a5-42b2ae749a2e",
   "metadata": {},
   "outputs": [
    {
     "data": {
      "text/plain": [
       "[[1, 1, 1, 1], [2, 1, 1, 0], [3, 1, 0, 0], [2, 2, 0, 0], [4, 0, 0, 0]]"
      ]
     },
     "execution_count": 7,
     "metadata": {},
     "output_type": "execute_result"
    }
   ],
   "source": [
    "Partition"
   ]
  },
  {
   "cell_type": "code",
   "execution_count": 5,
   "id": "abc10034-bfd5-4b63-ab24-dcdf2006a0ab",
   "metadata": {},
   "outputs": [],
   "source": [
    "Conjugacy = A.conjugacy_states"
   ]
  },
  {
   "cell_type": "code",
   "execution_count": 6,
   "id": "126c6261-cea7-4c29-8f75-c3c6d561b36a",
   "metadata": {},
   "outputs": [
    {
     "data": {
      "text/plain": [
       "[[5, 0, 0, 0, 0],\n",
       " [3, 1, 0, 0, 0],\n",
       " [2, 0, 1, 0, 0],\n",
       " [1, 2, 0, 0, 0],\n",
       " [1, 0, 0, 1, 0],\n",
       " [0, 1, 1, 0, 0],\n",
       " [0, 0, 0, 0, 1]]"
      ]
     },
     "execution_count": 6,
     "metadata": {},
     "output_type": "execute_result"
    }
   ],
   "source": [
    "Conjugacy"
   ]
  },
  {
   "cell_type": "code",
   "execution_count": 7,
   "id": "aabc6657-0700-42f3-a797-a9b2f40c2dd2",
   "metadata": {},
   "outputs": [
    {
     "name": "stdout",
     "output_type": "stream",
     "text": [
      "🎲 \n",
      "🎲 \n",
      "🎲 \n",
      "🎲 \n",
      "🎲 \n",
      "\n",
      "🎲 \n",
      "🎲 \n",
      "🎲 \n",
      "🎲 🎲 \n",
      "\n",
      "\n",
      "🎲 \n",
      "🎲 \n",
      "🎲 🎲 🎲 \n",
      "\n",
      "\n",
      "🎲 \n",
      "🎲 🎲 \n",
      "🎲 🎲 \n",
      "\n",
      "\n",
      "\n",
      "🎲 \n",
      "🎲 🎲 🎲 🎲 \n",
      "\n",
      "\n",
      "\n",
      "🎲 🎲 \n",
      "🎲 🎲 🎲 \n",
      "\n",
      "\n",
      "\n",
      "\n",
      "🎲 🎲 🎲 🎲 🎲 \n"
     ]
    }
   ],
   "source": [
    "for a in Partition:\n",
    "    young = YoungDiagram(a)\n",
    "    young.diagram"
   ]
  },
  {
   "cell_type": "code",
   "execution_count": 8,
   "id": "fbbba36b-c8b4-4267-b4f3-ef89a41b8102",
   "metadata": {},
   "outputs": [
    {
     "name": "stdout",
     "output_type": "stream",
     "text": [
      "🎲 \n",
      "🎲 \n",
      "🎲 \n",
      "🎲 \n",
      "🎲 \n",
      " \n",
      "🎲 \n",
      "🎲 \n",
      "🎲 \n",
      "🎲 🎲 \n",
      " \n",
      "🎲 \n",
      "🎲 \n",
      "🎲 🎲 🎲 \n",
      " \n",
      "🎲 \n",
      "🎲 🎲 \n",
      "🎲 🎲 \n",
      " \n",
      "🎲 \n",
      "🎲 🎲 🎲 🎲 \n",
      " \n",
      "🎲 🎲 \n",
      "🎲 🎲 🎲 \n",
      " \n",
      "🎲 🎲 🎲 🎲 🎲 \n",
      " \n"
     ]
    }
   ],
   "source": [
    "for a in Conjugacy:\n",
    "    conjugacy = ConjugacyClass(a)\n",
    "    conjugacy.diagram\n",
    "    print(\" \")"
   ]
  },
  {
   "cell_type": "code",
   "execution_count": 9,
   "id": "2496d2d2-c1c8-48bf-87e0-264fc669c981",
   "metadata": {},
   "outputs": [
    {
     "data": {
      "text/plain": [
       "5"
      ]
     },
     "execution_count": 9,
     "metadata": {},
     "output_type": "execute_result"
    }
   ],
   "source": [
    "A.level"
   ]
  },
  {
   "cell_type": "markdown",
   "id": "20a7d150-ab36-4896-8a35-3a161564268a",
   "metadata": {
    "jp-MarkdownHeadingCollapsed": true
   },
   "source": [
    "# Complete Homogeneous and Elementary Symmetric Polynomials"
   ]
  },
  {
   "cell_type": "code",
   "execution_count": 27,
   "id": "237090a3-e417-44dc-829f-c6af2a42e3b3",
   "metadata": {},
   "outputs": [],
   "source": [
    "t = list(sp.symbols('t1:{}'.format(10)))"
   ]
  },
  {
   "cell_type": "code",
   "execution_count": 6,
   "id": "0077d103-92ab-470e-9afd-4fe9410460df",
   "metadata": {},
   "outputs": [],
   "source": [
    "x = np.array(sp.symbols('x1:{}'.format(5)))"
   ]
  },
  {
   "cell_type": "code",
   "execution_count": 7,
   "id": "5760706c-04aa-416b-b1d5-bf7548c866f2",
   "metadata": {},
   "outputs": [
    {
     "data": {
      "text/latex": [
       "$\\displaystyle x_{1}^{2} + x_{2}^{2} + x_{3}^{2} + x_{4}^{2}$"
      ],
      "text/plain": [
       "x1**2 + x2**2 + x3**2 + x4**2"
      ]
     },
     "execution_count": 7,
     "metadata": {},
     "output_type": "execute_result"
    }
   ],
   "source": [
    "sum(x**2)"
   ]
  },
  {
   "cell_type": "code",
   "execution_count": 8,
   "id": "ba3b75a0-53be-4d90-8a2b-db37d8592a15",
   "metadata": {},
   "outputs": [],
   "source": [
    "t = [sum(x**(j+1))/(j+1) for j in range(len(x))]"
   ]
  },
  {
   "cell_type": "code",
   "execution_count": 9,
   "id": "058f413e-ab0c-437b-af1b-393d71e303fa",
   "metadata": {},
   "outputs": [
    {
     "data": {
      "text/plain": [
       "[x1 + x2 + x3 + x4,\n",
       " x1**2/2 + x2**2/2 + x3**2/2 + x4**2/2,\n",
       " x1**3/3 + x2**3/3 + x3**3/3 + x4**3/3,\n",
       " x1**4/4 + x2**4/4 + x3**4/4 + x4**4/4]"
      ]
     },
     "execution_count": 9,
     "metadata": {},
     "output_type": "execute_result"
    }
   ],
   "source": [
    "t"
   ]
  },
  {
   "cell_type": "code",
   "execution_count": 10,
   "id": "06bc5cf5-15b3-4730-bcf3-0019179514e9",
   "metadata": {},
   "outputs": [],
   "source": [
    "n = 3"
   ]
  },
  {
   "cell_type": "code",
   "execution_count": 11,
   "id": "2f50a4b1-27c7-4a7e-80f7-1a673e6dc11e",
   "metadata": {},
   "outputs": [],
   "source": [
    "H = HomogeneousPolynomial(n)\n",
    "E = ElementaryPolynomial(n)"
   ]
  },
  {
   "cell_type": "code",
   "execution_count": 12,
   "id": "c184e68a-d2f3-45bb-99ad-9cd7a192ad78",
   "metadata": {},
   "outputs": [
    {
     "data": {
      "text/latex": [
       "$\\displaystyle x_{1}^{3} + x_{1}^{2} x_{2} + x_{1}^{2} x_{3} + x_{1}^{2} x_{4} + x_{1} x_{2}^{2} + x_{1} x_{2} x_{3} + x_{1} x_{2} x_{4} + x_{1} x_{3}^{2} + x_{1} x_{3} x_{4} + x_{1} x_{4}^{2} + x_{2}^{3} + x_{2}^{2} x_{3} + x_{2}^{2} x_{4} + x_{2} x_{3}^{2} + x_{2} x_{3} x_{4} + x_{2} x_{4}^{2} + x_{3}^{3} + x_{3}^{2} x_{4} + x_{3} x_{4}^{2} + x_{4}^{3}$"
      ],
      "text/plain": [
       "x1**3 + x1**2*x2 + x1**2*x3 + x1**2*x4 + x1*x2**2 + x1*x2*x3 + x1*x2*x4 + x1*x3**2 + x1*x3*x4 + x1*x4**2 + x2**3 + x2**2*x3 + x2**2*x4 + x2*x3**2 + x2*x3*x4 + x2*x4**2 + x3**3 + x3**2*x4 + x3*x4**2 + x4**3"
      ]
     },
     "execution_count": 12,
     "metadata": {},
     "output_type": "execute_result"
    }
   ],
   "source": [
    "(H.expand(t)).expand().simplify()"
   ]
  },
  {
   "cell_type": "code",
   "execution_count": 13,
   "id": "1e687d59-c3c4-4070-9488-a34174fa410f",
   "metadata": {},
   "outputs": [
    {
     "data": {
      "text/latex": [
       "$\\displaystyle x_{1} x_{2} x_{3} + x_{1} x_{2} x_{4} + x_{1} x_{3} x_{4} + x_{2} x_{3} x_{4}$"
      ],
      "text/plain": [
       "x1*x2*x3 + x1*x2*x4 + x1*x3*x4 + x2*x3*x4"
      ]
     },
     "execution_count": 13,
     "metadata": {},
     "output_type": "execute_result"
    }
   ],
   "source": [
    "E.expand(t).expand()"
   ]
  },
  {
   "cell_type": "markdown",
   "id": "021f61dc-dfae-48de-a7d6-de250f5ff83f",
   "metadata": {
    "jp-MarkdownHeadingCollapsed": true
   },
   "source": [
    "# Schur"
   ]
  },
  {
   "cell_type": "code",
   "execution_count": 2,
   "id": "de830c64-a8f0-420c-b95b-df4dafde36bd",
   "metadata": {},
   "outputs": [],
   "source": [
    "young = YoungDiagram([4])\n",
    "other_young =  YoungDiagram([1])"
   ]
  },
  {
   "cell_type": "code",
   "execution_count": 3,
   "id": "55bfe5dd-94ec-45d1-88f2-3c9b97d3e7e2",
   "metadata": {},
   "outputs": [],
   "source": [
    "Sc = SchurPolynomial(young)"
   ]
  },
  {
   "cell_type": "code",
   "execution_count": 4,
   "id": "7ca7ba2c-9f6e-4fcd-bd18-39032e63414f",
   "metadata": {},
   "outputs": [
    {
     "data": {
      "text/latex": [
       "$\\displaystyle \\frac{t_{1}^{4}}{24} + \\frac{t_{1}^{2} t_{2}}{2} + t_{1} t_{3} + \\frac{t_{2}^{2}}{2} + t_{4}$"
      ],
      "text/plain": [
       "t1**4/24 + t1**2*t2/2 + t1*t3 + t2**2/2 + t4"
      ]
     },
     "execution_count": 4,
     "metadata": {},
     "output_type": "execute_result"
    }
   ],
   "source": [
    "Sc.schur()"
   ]
  },
  {
   "cell_type": "code",
   "execution_count": 7,
   "id": "153afd3b-562e-49a4-ab35-a5bfc0d53012",
   "metadata": {},
   "outputs": [
    {
     "data": {
      "text/latex": [
       "$\\displaystyle x_{1}^{4} + x_{1}^{3} x_{2} + x_{1}^{2} x_{2}^{2} + x_{1} x_{2}^{3} + x_{2}^{4}$"
      ],
      "text/plain": [
       "x1**4 + x1**3*x2 + x1**2*x2**2 + x1*x2**3 + x2**4"
      ]
     },
     "execution_count": 7,
     "metadata": {},
     "output_type": "execute_result"
    }
   ],
   "source": [
    "Sc.xschur(2)"
   ]
  },
  {
   "cell_type": "code",
   "execution_count": 8,
   "id": "c1e9398c-500b-4f9d-b569-608dc79aed13",
   "metadata": {},
   "outputs": [
    {
     "data": {
      "text/plain": [
       "True"
      ]
     },
     "execution_count": 8,
     "metadata": {},
     "output_type": "execute_result"
    }
   ],
   "source": [
    "Sc.skew_schur(other_young) == Sc.schur(other_young)"
   ]
  },
  {
   "cell_type": "markdown",
   "id": "74a00521-ecb6-43fd-946a-989c85ac84d6",
   "metadata": {},
   "source": [
    "# Interlaced Graphs"
   ]
  },
  {
   "cell_type": "code",
   "execution_count": 9,
   "id": "9ef9021a-c937-4c18-9f7d-3a67f17d1eeb",
   "metadata": {},
   "outputs": [],
   "source": [
    "young = YoungDiagram([5,1])\n",
    "n = young.boxes"
   ]
  },
  {
   "cell_type": "code",
   "execution_count": 66,
   "id": "23b0d109-49e0-499f-9a8e-f3479c24ac03",
   "metadata": {},
   "outputs": [
    {
     "data": {
      "text/plain": [
       "False"
      ]
     },
     "execution_count": 66,
     "metadata": {},
     "output_type": "execute_result"
    }
   ],
   "source": [
    "young.interlaces([1,2])"
   ]
  },
  {
   "cell_type": "code",
   "execution_count": 61,
   "id": "8b384413-eeb3-47b2-b8ab-8dfdc7b6d7dd",
   "metadata": {},
   "outputs": [],
   "source": [
    "states = State(n)"
   ]
  },
  {
   "cell_type": "code",
   "execution_count": 62,
   "id": "bfb4d5cb-c0ee-47fd-a8f2-fabc29d100a0",
   "metadata": {},
   "outputs": [],
   "source": [
    "list = []\n",
    "for a in range(1,n+1):\n",
    "    states = State(a)\n",
    "    list += states.partition_states \n",
    "#    print(states.partition_states)"
   ]
  },
  {
   "cell_type": "code",
   "execution_count": 63,
   "id": "4613f0a6-98f9-4449-b2d2-82178ff80c6f",
   "metadata": {},
   "outputs": [
    {
     "name": "stdout",
     "output_type": "stream",
     "text": [
      "\n",
      "🎲 \n",
      "[1, 0]\n",
      "🎲 \n",
      "🎲 \n",
      "[1, 1]\n",
      "\n",
      "🎲 🎲 \n",
      "[2, 0]\n",
      "\n",
      "🎲 \n",
      "🎲 🎲 \n",
      "[2, 1, 0]\n",
      "\n",
      "\n",
      "🎲 🎲 🎲 \n",
      "[3, 0, 0]\n",
      "\n",
      "\n",
      "🎲 \n",
      "🎲 🎲 🎲 \n",
      "[3, 1, 0, 0]\n",
      "\n",
      "\n",
      "\n",
      "🎲 🎲 🎲 🎲 \n",
      "[4, 0, 0, 0]\n",
      "\n",
      "\n",
      "\n",
      "🎲 \n",
      "🎲 🎲 🎲 🎲 \n",
      "[4, 1, 0, 0, 0]\n",
      "\n",
      "\n",
      "\n",
      "\n",
      "🎲 🎲 🎲 🎲 🎲 \n",
      "[5, 0, 0, 0, 0]\n",
      "\n",
      "\n",
      "\n",
      "\n",
      "🎲 \n",
      "🎲 🎲 🎲 🎲 🎲 \n",
      "[5, 1, 0, 0, 0, 0]\n"
     ]
    }
   ],
   "source": [
    "for state in list:\n",
    "    if young.interlaces(state):\n",
    "        YoungDiagram(state).diagram\n",
    "        print(state)"
   ]
  },
  {
   "cell_type": "markdown",
   "id": "5c1af5bf-f507-4469-b445-38254cc4d831",
   "metadata": {
    "jp-MarkdownHeadingCollapsed": true
   },
   "source": [
    "# Hall-Littlewood"
   ]
  },
  {
   "cell_type": "code",
   "execution_count": 32,
   "id": "f16fd675-01fc-42ee-bdf3-9b8f5e67293f",
   "metadata": {},
   "outputs": [],
   "source": [
    "young = YoungDiagram([3,1])"
   ]
  },
  {
   "cell_type": "code",
   "execution_count": 33,
   "id": "b9589266-2d74-41b2-bcef-3e43cceb2a1b",
   "metadata": {},
   "outputs": [],
   "source": [
    "Q = sp.Symbol('Q')"
   ]
  },
  {
   "cell_type": "code",
   "execution_count": 34,
   "id": "682b793f-a0ae-4a1a-a961-74193f355bac",
   "metadata": {},
   "outputs": [],
   "source": [
    "P = HallLittlewood(young,2,Q)\n",
    "HL = P.hall_littlewood()"
   ]
  },
  {
   "cell_type": "code",
   "execution_count": 35,
   "id": "65051375-1e70-4d7b-b2e8-95a8e1e442df",
   "metadata": {
    "scrolled": true
   },
   "outputs": [],
   "source": [
    "H = HL.simplify()"
   ]
  },
  {
   "cell_type": "code",
   "execution_count": 36,
   "id": "b254d71c-e501-462b-8c08-d3033a2842c8",
   "metadata": {},
   "outputs": [
    {
     "data": {
      "text/latex": [
       "$\\displaystyle x_{1} x_{2} \\left(- Q x_{1} x_{2} + x_{1}^{2} + x_{1} x_{2} + x_{2}^{2}\\right)$"
      ],
      "text/plain": [
       "x1*x2*(-Q*x1*x2 + x1**2 + x1*x2 + x2**2)"
      ]
     },
     "execution_count": 36,
     "metadata": {},
     "output_type": "execute_result"
    }
   ],
   "source": [
    "H"
   ]
  },
  {
   "cell_type": "code",
   "execution_count": 29,
   "id": "1592d215-73e6-4288-9c50-6aa1b66c2469",
   "metadata": {},
   "outputs": [
    {
     "data": {
      "text/plain": [
       "0"
      ]
     },
     "execution_count": 29,
     "metadata": {},
     "output_type": "execute_result"
    }
   ],
   "source": [
    "P._test()"
   ]
  },
  {
   "cell_type": "code",
   "execution_count": 30,
   "id": "0bcb6c0d-3d05-4e66-9d6b-785f17d7e635",
   "metadata": {},
   "outputs": [],
   "source": [
    "Sc = SchurPolynomial(young)"
   ]
  },
  {
   "cell_type": "code",
   "execution_count": 32,
   "id": "5bdfd6be-13be-44b3-8f28-d0b0c735e058",
   "metadata": {},
   "outputs": [
    {
     "data": {
      "text/latex": [
       "$\\displaystyle x_{1}^{2} x_{2}^{2} x_{3}^{2} \\left(x_{1}^{2} x_{2} + x_{1}^{2} x_{3} + x_{1} x_{2}^{2} + 2 x_{1} x_{2} x_{3} + x_{1} x_{3}^{2} + x_{2}^{2} x_{3} + x_{2} x_{3}^{2}\\right)$"
      ],
      "text/plain": [
       "x1**2*x2**2*x3**2*(x1**2*x2 + x1**2*x3 + x1*x2**2 + 2*x1*x2*x3 + x1*x3**2 + x2**2*x3 + x2*x3**2)"
      ]
     },
     "execution_count": 32,
     "metadata": {},
     "output_type": "execute_result"
    }
   ],
   "source": [
    "Sc._xschur(3)"
   ]
  },
  {
   "cell_type": "code",
   "execution_count": null,
   "id": "77a94604-5cf8-4277-b365-af04072ab11c",
   "metadata": {},
   "outputs": [],
   "source": []
  }
 ],
 "metadata": {
  "kernelspec": {
   "display_name": "Python 3 (ipykernel)",
   "language": "python",
   "name": "python3"
  },
  "language_info": {
   "codemirror_mode": {
    "name": "ipython",
    "version": 3
   },
   "file_extension": ".py",
   "mimetype": "text/x-python",
   "name": "python",
   "nbconvert_exporter": "python",
   "pygments_lexer": "ipython3",
   "version": "3.12.2"
  }
 },
 "nbformat": 4,
 "nbformat_minor": 5
}
