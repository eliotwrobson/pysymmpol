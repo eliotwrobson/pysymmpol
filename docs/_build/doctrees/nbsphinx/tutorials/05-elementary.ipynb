{
 "cells": [
  {
   "cell_type": "code",
   "execution_count": 1,
   "id": "e90a0bb8-bcc6-4989-bcac-e9d4a929bf39",
   "metadata": {},
   "outputs": [],
   "source": [
    "import os \n",
    "import sys\n",
    "sys.path.insert(0, os.path.abspath('../..'))\n",
    "\n",
    "import sympy as sp\n",
    "import numpy as np\n",
    "import itertools as it\n",
    "import pysymmpol as sy\n",
    "import pysymmpol.utils as ut\n",
    "from IPython.display import display, Latex"
   ]
  },
  {
   "cell_type": "markdown",
   "id": "1a39453f-2892-4d1c-ad2e-fd75b33872c3",
   "metadata": {},
   "source": [
    "# Class: ElementaryPolynomial"
   ]
  },
  {
   "cell_type": "markdown",
   "id": "7743dd4e-086f-4e8b-8a61-a425353608bb",
   "metadata": {},
   "source": [
    "As expected, everything we said about the Complete Homogeneous Polynomials is also true for the Elementary Symmetric Polynomials. "
   ]
  },
  {
   "cell_type": "code",
   "execution_count": 2,
   "id": "318153fd-cb08-450b-85db-1b74dee02795",
   "metadata": {},
   "outputs": [],
   "source": [
    "n = 3\n",
    "elementary = [sy.ElementaryPolynomial(i) for i in range(n+1)]\n",
    "t_dict = ut.create_miwa(n)"
   ]
  },
  {
   "cell_type": "code",
   "execution_count": 3,
   "id": "ccab1283-fb17-47bf-a95c-a42f9805fac3",
   "metadata": {},
   "outputs": [
    {
     "data": {
      "text/plain": [
       "1"
      ]
     },
     "metadata": {},
     "output_type": "display_data"
    },
    {
     "name": "stdout",
     "output_type": "stream",
     "text": [
      "----------\n"
     ]
    },
    {
     "data": {
      "text/latex": [
       "$\\displaystyle t_{1}$"
      ],
      "text/plain": [
       "t1"
      ]
     },
     "metadata": {},
     "output_type": "display_data"
    },
    {
     "name": "stdout",
     "output_type": "stream",
     "text": [
      "----------\n"
     ]
    },
    {
     "data": {
      "text/latex": [
       "$\\displaystyle \\frac{t_{1}^{2}}{2} - t_{2}$"
      ],
      "text/plain": [
       "t1**2/2 - t2"
      ]
     },
     "metadata": {},
     "output_type": "display_data"
    },
    {
     "name": "stdout",
     "output_type": "stream",
     "text": [
      "----------\n"
     ]
    },
    {
     "data": {
      "text/latex": [
       "$\\displaystyle \\frac{t_{1}^{3}}{6} - t_{1} t_{2} + t_{3}$"
      ],
      "text/plain": [
       "t1**3/6 - t1*t2 + t3"
      ]
     },
     "metadata": {},
     "output_type": "display_data"
    },
    {
     "name": "stdout",
     "output_type": "stream",
     "text": [
      "----------\n"
     ]
    }
   ],
   "source": [
    "for a in elementary:\n",
    "    display(a.explicit(t_dict))\n",
    "    print(10*'-')"
   ]
  },
  {
   "cell_type": "code",
   "execution_count": 5,
   "id": "05b0835b-9ce0-4fea-ba37-f9327f4246c7",
   "metadata": {},
   "outputs": [
    {
     "data": {
      "text/latex": [
       "$\\displaystyle \\operatorname{Poly}{\\left( \\frac{1}{2} t_{1}^{2} - t_{2}, t_{1}, t_{2}, domain=\\mathbb{Q} \\right)}$"
      ],
      "text/plain": [
       "Poly(1/2*t1**2 - t2, t1, t2, domain='QQ')"
      ]
     },
     "execution_count": 5,
     "metadata": {},
     "output_type": "execute_result"
    }
   ],
   "source": [
    "elementary[2].explicit(t_dict, True)"
   ]
  },
  {
   "cell_type": "code",
   "execution_count": 8,
   "id": "f36b75df-5206-49b3-8243-6a8798d31ef6",
   "metadata": {},
   "outputs": [
    {
     "data": {
      "text/plain": [
       "1"
      ]
     },
     "metadata": {},
     "output_type": "display_data"
    },
    {
     "name": "stdout",
     "output_type": "stream",
     "text": [
      "----------\n"
     ]
    },
    {
     "data": {
      "text/latex": [
       "$\\displaystyle \\operatorname{Poly}{\\left( x_{1} + x_{2}, x_{1}, x_{2}, domain=\\mathbb{Q} \\right)}$"
      ],
      "text/plain": [
       "Poly(x1 + x2, x1, x2, domain='QQ')"
      ]
     },
     "metadata": {},
     "output_type": "display_data"
    },
    {
     "name": "stdout",
     "output_type": "stream",
     "text": [
      "----------\n"
     ]
    },
    {
     "data": {
      "text/latex": [
       "$\\displaystyle \\operatorname{Poly}{\\left( x_{1}x_{2}, x_{1}, x_{2}, domain=\\mathbb{Q} \\right)}$"
      ],
      "text/plain": [
       "Poly(x1*x2, x1, x2, domain='QQ')"
      ]
     },
     "metadata": {},
     "output_type": "display_data"
    },
    {
     "name": "stdout",
     "output_type": "stream",
     "text": [
      "----------\n"
     ]
    },
    {
     "data": {
      "text/latex": [
       "$\\displaystyle \\operatorname{Poly}{\\left( 0, x_{1}, x_{2}, domain=\\mathbb{Q} \\right)}$"
      ],
      "text/plain": [
       "Poly(0, x1, x2, domain='QQ')"
      ]
     },
     "metadata": {},
     "output_type": "display_data"
    },
    {
     "name": "stdout",
     "output_type": "stream",
     "text": [
      "----------\n"
     ]
    }
   ],
   "source": [
    "m=2\n",
    "tt = ut.tx_power_sum(elementary[-1].level, m)\n",
    "for a in elementary:\n",
    "    display(a.explicit(tt, True))\n",
    "    print(10*'-')"
   ]
  },
  {
   "cell_type": "code",
   "execution_count": null,
   "id": "2fdfa727-4975-45ce-9e01-6cc44c055838",
   "metadata": {},
   "outputs": [],
   "source": []
  }
 ],
 "metadata": {
  "kernelspec": {
   "display_name": "Python 3 (ipykernel)",
   "language": "python",
   "name": "python3"
  },
  "language_info": {
   "codemirror_mode": {
    "name": "ipython",
    "version": 3
   },
   "file_extension": ".py",
   "mimetype": "text/x-python",
   "name": "python",
   "nbconvert_exporter": "python",
   "pygments_lexer": "ipython3",
   "version": "3.12.2"
  }
 },
 "nbformat": 4,
 "nbformat_minor": 5
}
