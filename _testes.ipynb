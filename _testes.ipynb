{
 "cells": [
  {
   "cell_type": "code",
   "execution_count": 158,
   "id": "cbc1a18d-0ab7-4273-b14f-e3118b5c2f1b",
   "metadata": {},
   "outputs": [],
   "source": [
    "import sympy as sp\n",
    "import numpy as np"
   ]
  },
  {
   "cell_type": "code",
   "execution_count": 1,
   "id": "f56ac639-2e04-43cb-8865-3f24b1551d6a",
   "metadata": {},
   "outputs": [],
   "source": [
    "from partitions import *\n",
    "from characters import *\n",
    "from complete import *\n",
    "from schur import *"
   ]
  },
  {
   "cell_type": "markdown",
   "id": "c0bfae37-a24b-4cf9-933f-95bd3af619c1",
   "metadata": {
    "jp-MarkdownHeadingCollapsed": true
   },
   "source": [
    "# Special Cases"
   ]
  },
  {
   "cell_type": "markdown",
   "id": "cbb1e54a-6216-4c9b-a79b-197b126b931d",
   "metadata": {
    "jp-MarkdownHeadingCollapsed": true
   },
   "source": [
    "## Special Case 01:"
   ]
  },
  {
   "cell_type": "code",
   "execution_count": 13,
   "id": "067e3158-689e-46ce-9381-75d7fd130939",
   "metadata": {},
   "outputs": [],
   "source": [
    "z = symbols('z')\n",
    "t[0] = z\n",
    "for n in range(1,len(t)):\n",
    "    t[n] = z**(n+1) / (n+1)"
   ]
  },
  {
   "cell_type": "code",
   "execution_count": 14,
   "id": "6d695a23-29ae-41e2-aed1-15cf2d7dd46c",
   "metadata": {},
   "outputs": [
    {
     "data": {
      "text/plain": [
       "array([z, z**2/2, z**3/3, z**4/4, z**5/5, z**6/6, z**7/7, z**8/8, z**9/9,\n",
       "       z**10/10, z**11/11, z**12/12], dtype=object)"
      ]
     },
     "execution_count": 14,
     "metadata": {},
     "output_type": "execute_result"
    }
   ],
   "source": [
    "t"
   ]
  },
  {
   "cell_type": "code",
   "execution_count": 31,
   "id": "d55cce81-5b9a-4d91-a766-cbe85d4a4c33",
   "metadata": {},
   "outputs": [
    {
     "data": {
      "text/plain": [
       "True"
      ]
     },
     "execution_count": 31,
     "metadata": {},
     "output_type": "execute_result"
    }
   ],
   "source": [
    "par1 = [6,3,2]\n",
    "par2 = [5,3,0]\n",
    "interlaced(par1, par2)"
   ]
  },
  {
   "cell_type": "code",
   "execution_count": 32,
   "id": "121bc3fa-1187-4f05-89dc-39bb3d85f6fc",
   "metadata": {},
   "outputs": [
    {
     "data": {
      "text/latex": [
       "$\\displaystyle z^{3}$"
      ],
      "text/plain": [
       "z**3"
      ]
     },
     "execution_count": 32,
     "metadata": {},
     "output_type": "execute_result"
    }
   ],
   "source": [
    "skewSchur(par1, par2)"
   ]
  },
  {
   "cell_type": "markdown",
   "id": "a5331926-fa05-4fa3-99a3-40f1f3f03984",
   "metadata": {},
   "source": [
    "## Special Case 02:"
   ]
  },
  {
   "cell_type": "code",
   "execution_count": 33,
   "id": "74d5e1cc-4533-4dc5-9a43-f4052667ab80",
   "metadata": {},
   "outputs": [],
   "source": [
    "z = symbols('z')\n",
    "t[0] = z\n",
    "for n in range(1,len(t)):\n",
    "    #t[n] = z**(n+1) / (n+1)\n",
    "    t[n] = 0"
   ]
  },
  {
   "cell_type": "code",
   "execution_count": 34,
   "id": "56e24537-7ef0-42da-859f-2f2947d8fe29",
   "metadata": {},
   "outputs": [
    {
     "data": {
      "text/plain": [
       "array([z, 0, 0, 0, 0, 0, 0, 0, 0, 0, 0, 0], dtype=object)"
      ]
     },
     "execution_count": 34,
     "metadata": {},
     "output_type": "execute_result"
    }
   ],
   "source": [
    "t"
   ]
  },
  {
   "cell_type": "code",
   "execution_count": 38,
   "id": "da503a43-7c21-4af1-9bb8-2e6138e28448",
   "metadata": {},
   "outputs": [
    {
     "data": {
      "text/plain": [
       "True"
      ]
     },
     "execution_count": 38,
     "metadata": {},
     "output_type": "execute_result"
    }
   ],
   "source": [
    "par1 = [3,2,1]\n",
    "par2 = [2,1,0]\n",
    "interlaced(par1, par2)"
   ]
  },
  {
   "cell_type": "code",
   "execution_count": 39,
   "id": "14c8b592-b5a2-4f7d-9a48-59ab52675bf4",
   "metadata": {},
   "outputs": [
    {
     "data": {
      "text/latex": [
       "$\\displaystyle z^{3}$"
      ],
      "text/plain": [
       "z**3"
      ]
     },
     "execution_count": 39,
     "metadata": {},
     "output_type": "execute_result"
    }
   ],
   "source": [
    "skewSchur(par1, par2)"
   ]
  },
  {
   "cell_type": "markdown",
   "id": "f5b10cae-ed6a-494f-a89c-673b069cf936",
   "metadata": {
    "jp-MarkdownHeadingCollapsed": true
   },
   "source": [
    "# Ground State"
   ]
  },
  {
   "cell_type": "code",
   "execution_count": 40,
   "id": "e7f5921f-9e86-4e63-9b46-9105e00b0aca",
   "metadata": {},
   "outputs": [],
   "source": [
    "from sympy.physics.quantum import Ket"
   ]
  },
  {
   "cell_type": "code",
   "execution_count": 41,
   "id": "dac7f2ce-5b0a-4be7-8cbe-cc42b2f4de83",
   "metadata": {},
   "outputs": [],
   "source": [
    "Y1, Y2, Y3, Y4 = symbols('Y1, Y2, Y3, Y4') # These are auxiliary coordinates"
   ]
  },
  {
   "cell_type": "code",
   "execution_count": 42,
   "id": "0139c119-c4ca-409b-84d7-d9dfe69078a9",
   "metadata": {},
   "outputs": [],
   "source": [
    "def states(lev):\n",
    "    #Lamb = []\n",
    "    partitions = bosonic_states_partition(lev)\n",
    "    vectors_k = bosonic_states(lev)\n",
    "    num_part = len(partitions)\n",
    "    summ = 0\n",
    "    \n",
    "    for (n,m) in product(range(num_part), repeat=2):\n",
    "        #print(partitions[m])\n",
    "       \n",
    "        z = 1\n",
    "        for index in range(lev):\n",
    "            z *= factorial(vectors_k[n][index]) * (index + 1)**vectors_k[n][index] \n",
    "\n",
    "        power = Y1**(partitions[m][0]) * Y2**(partitions[m][1]) * Y3**(partitions[m][2]) * Y4**(partitions[m][3])\n",
    "        state = Ket(partitions[m][0], partitions[m][1], partitions[m][2])#, partitions[m][3])\n",
    "\n",
    "        summ += sqrt(Rational(1, z)) * Characters(vectors_k[n], partitions[m]) * power * state\n",
    "        \n",
    "    return summ"
   ]
  },
  {
   "cell_type": "code",
   "execution_count": 43,
   "id": "20c16bea-7697-4cdb-bda2-b40093fa3f67",
   "metadata": {},
   "outputs": [],
   "source": [
    "S = states(4)"
   ]
  },
  {
   "cell_type": "code",
   "execution_count": 44,
   "id": "b6150e5d-c197-46d4-a928-a2ba74c78203",
   "metadata": {},
   "outputs": [
    {
     "data": {
      "text/latex": [
       "$\\displaystyle \\frac{\\sqrt{6} Y_{1}^{4} {\\left|400\\right\\rangle }}{12} + \\frac{\\sqrt{2} Y_{1}^{4} {\\left|400\\right\\rangle }}{4} + \\frac{\\sqrt{3} Y_{1}^{4} {\\left|400\\right\\rangle }}{3} + Y_{1}^{4} {\\left|400\\right\\rangle } - \\frac{\\sqrt{2} Y_{1}^{3} Y_{2} {\\left|310\\right\\rangle }}{4} + \\frac{\\sqrt{6} Y_{1}^{3} Y_{2} {\\left|310\\right\\rangle }}{4} - \\frac{\\sqrt{3} Y_{1}^{2} Y_{2}^{2} {\\left|220\\right\\rangle }}{3} + \\frac{\\sqrt{6} Y_{1}^{2} Y_{2}^{2} {\\left|220\\right\\rangle }}{6} + \\frac{\\sqrt{2} Y_{1}^{2} Y_{2}^{2} {\\left|220\\right\\rangle }}{2} - \\frac{\\sqrt{2} Y_{1}^{2} Y_{2} Y_{3} {\\left|211\\right\\rangle }}{4} + \\frac{\\sqrt{6} Y_{1}^{2} Y_{2} Y_{3} {\\left|211\\right\\rangle }}{4} - Y_{1} Y_{2} Y_{3} Y_{4} {\\left|111\\right\\rangle } + \\frac{\\sqrt{6} Y_{1} Y_{2} Y_{3} Y_{4} {\\left|111\\right\\rangle }}{12} + \\frac{\\sqrt{2} Y_{1} Y_{2} Y_{3} Y_{4} {\\left|111\\right\\rangle }}{4} + \\frac{\\sqrt{3} Y_{1} Y_{2} Y_{3} Y_{4} {\\left|111\\right\\rangle }}{3}$"
      ],
      "text/plain": [
       "sqrt(6)*Y1**4*|400>/12 + sqrt(2)*Y1**4*|400>/4 + sqrt(3)*Y1**4*|400>/3 + Y1**4*|400> - sqrt(2)*Y1**3*Y2*|310>/4 + sqrt(6)*Y1**3*Y2*|310>/4 - sqrt(3)*Y1**2*Y2**2*|220>/3 + sqrt(6)*Y1**2*Y2**2*|220>/6 + sqrt(2)*Y1**2*Y2**2*|220>/2 - sqrt(2)*Y1**2*Y2*Y3*|211>/4 + sqrt(6)*Y1**2*Y2*Y3*|211>/4 - Y1*Y2*Y3*Y4*|111> + sqrt(6)*Y1*Y2*Y3*Y4*|111>/12 + sqrt(2)*Y1*Y2*Y3*Y4*|111>/4 + sqrt(3)*Y1*Y2*Y3*Y4*|111>/3"
      ]
     },
     "execution_count": 44,
     "metadata": {},
     "output_type": "execute_result"
    }
   ],
   "source": [
    "S"
   ]
  },
  {
   "cell_type": "code",
   "execution_count": 45,
   "id": "6dcc1260-1960-47a5-8d39-ee8771cd7bd9",
   "metadata": {},
   "outputs": [
    {
     "data": {
      "text/latex": [
       "$\\displaystyle \\frac{\\sqrt{6} {\\left|400\\right\\rangle } + 3 \\sqrt{2} {\\left|400\\right\\rangle } + 4 \\sqrt{3} {\\left|400\\right\\rangle } + 12 {\\left|400\\right\\rangle }}{12}$"
      ],
      "text/plain": [
       "(sqrt(6)*|400> + 3*sqrt(2)*|400> + 4*sqrt(3)*|400> + 12*|400>)/12"
      ]
     },
     "execution_count": 45,
     "metadata": {},
     "output_type": "execute_result"
    }
   ],
   "source": [
    "a = S.diff(Y1,4)/ factorial(4)\n",
    "a"
   ]
  },
  {
   "cell_type": "code",
   "execution_count": 46,
   "id": "b0d9c72d-f530-4bb5-84a2-172d510686c5",
   "metadata": {},
   "outputs": [
    {
     "data": {
      "text/latex": [
       "$\\displaystyle \\frac{- 3 \\sqrt{2} {\\left|310\\right\\rangle } + 3 \\sqrt{6} {\\left|310\\right\\rangle }}{12}$"
      ],
      "text/plain": [
       "(-3*sqrt(2)*|310> + 3*sqrt(6)*|310>)/12"
      ]
     },
     "execution_count": 46,
     "metadata": {},
     "output_type": "execute_result"
    }
   ],
   "source": [
    "b = S.diff(Y1,3).diff(Y2)/ factorial(3).simplify()\n",
    "b "
   ]
  },
  {
   "cell_type": "code",
   "execution_count": 47,
   "id": "ee5b68dc-0604-41fa-9187-bb32b4da9987",
   "metadata": {},
   "outputs": [
    {
     "data": {
      "text/latex": [
       "$\\displaystyle \\frac{- \\frac{4 \\sqrt{3} {\\left|220\\right\\rangle }}{3} + \\frac{2 \\sqrt{6} {\\left|220\\right\\rangle }}{3} + 2 \\sqrt{2} {\\left|220\\right\\rangle }}{4}$"
      ],
      "text/plain": [
       "(-4*sqrt(3)*|220>/3 + 2*(sqrt(6)*|220>)/3 + 2*(sqrt(2)*|220>))/4"
      ]
     },
     "execution_count": 47,
     "metadata": {},
     "output_type": "execute_result"
    }
   ],
   "source": [
    "c = S.diff(Y1,2).diff(Y2,2)/4\n",
    "c"
   ]
  },
  {
   "cell_type": "code",
   "execution_count": 48,
   "id": "3ea8ac5a-d8ef-4a5c-9c38-304cf4882436",
   "metadata": {},
   "outputs": [
    {
     "data": {
      "text/latex": [
       "$\\displaystyle \\frac{- 3 \\sqrt{2} {\\left|211\\right\\rangle } + 3 \\sqrt{6} {\\left|211\\right\\rangle }}{12}$"
      ],
      "text/plain": [
       "(-3*sqrt(2)*|211> + 3*sqrt(6)*|211>)/12"
      ]
     },
     "execution_count": 48,
     "metadata": {},
     "output_type": "execute_result"
    }
   ],
   "source": [
    "d = S.diff(Y1,2).diff(Y2).diff(Y3)/2\n",
    "d"
   ]
  },
  {
   "cell_type": "code",
   "execution_count": 49,
   "id": "e3b5acf8-c45f-4a46-acbe-3074527c4667",
   "metadata": {},
   "outputs": [
    {
     "data": {
      "text/latex": [
       "$\\displaystyle - {\\left|111\\right\\rangle } + \\frac{\\sqrt{6} {\\left|111\\right\\rangle }}{12} + \\frac{\\sqrt{2} {\\left|111\\right\\rangle }}{4} + \\frac{\\sqrt{3} {\\left|111\\right\\rangle }}{3}$"
      ],
      "text/plain": [
       "-|111> + sqrt(6)*|111>/12 + sqrt(2)*|111>/4 + sqrt(3)*|111>/3"
      ]
     },
     "execution_count": 49,
     "metadata": {},
     "output_type": "execute_result"
    }
   ],
   "source": [
    "e = S.diff(Y1).diff(Y2).diff(Y3).diff(Y4)\n",
    "e"
   ]
  },
  {
   "cell_type": "code",
   "execution_count": 50,
   "id": "376a35a5-bb06-4af7-b409-541184323785",
   "metadata": {},
   "outputs": [
    {
     "data": {
      "text/latex": [
       "$\\displaystyle \\frac{18 \\left(- {\\left|211\\right\\rangle } + \\sqrt{3} {\\left|211\\right\\rangle }\\right)^{2} + 18 \\left(- {\\left|310\\right\\rangle } + \\sqrt{3} {\\left|310\\right\\rangle }\\right)^{2} + 4 \\left(- 2 \\sqrt{3} {\\left|220\\right\\rangle } + \\sqrt{6} {\\left|220\\right\\rangle } + 3 \\sqrt{2} {\\left|220\\right\\rangle }\\right)^{2} + \\left(\\sqrt{6} {\\left|400\\right\\rangle } + 3 \\sqrt{2} {\\left|400\\right\\rangle } + 4 \\sqrt{3} {\\left|400\\right\\rangle } + 12 {\\left|400\\right\\rangle }\\right)^{2} + \\left(- 12 {\\left|111\\right\\rangle } + \\sqrt{6} {\\left|111\\right\\rangle } + 3 \\sqrt{2} {\\left|111\\right\\rangle } + 4 \\sqrt{3} {\\left|111\\right\\rangle }\\right)^{2}}{144}$"
      ],
      "text/plain": [
       "(18*(-|211> + sqrt(3)*|211>)**2 + 18*(-|310> + sqrt(3)*|310>)**2 + 4*(-2*sqrt(3)*|220> + sqrt(6)*|220> + 3*sqrt(2)*|220>)**2 + (sqrt(6)*|400> + 3*sqrt(2)*|400> + 4*sqrt(3)*|400> + 12*|400>)**2 + (-12*|111> + sqrt(6)*|111> + 3*sqrt(2)*|111> + 4*sqrt(3)*|111>)**2)/144"
      ]
     },
     "execution_count": 50,
     "metadata": {},
     "output_type": "execute_result"
    }
   ],
   "source": [
    "(a**2 + b**2 + c**2 + d**2 + e**2).simplify()"
   ]
  },
  {
   "cell_type": "markdown",
   "id": "b227674b-3ee5-4358-a9bc-5bcc1cc1ed32",
   "metadata": {
    "jp-MarkdownHeadingCollapsed": true
   },
   "source": [
    "# AntiCommutation Relations"
   ]
  },
  {
   "cell_type": "code",
   "execution_count": 92,
   "id": "ab22f985-6d05-4667-a3ea-78ca49e23641",
   "metadata": {},
   "outputs": [],
   "source": [
    "m, n, i, j, k, Q, L = sp.symbols('m, n, i, j, k, Q, L')"
   ]
  },
  {
   "cell_type": "code",
   "execution_count": 93,
   "id": "bd7812a4-7920-4289-a750-6dddfba4d227",
   "metadata": {},
   "outputs": [],
   "source": [
    "psi = sp.Function('psi', commutative=False)\n",
    "psi_star = sp.Function('psi^*', commutative=False)"
   ]
  },
  {
   "cell_type": "code",
   "execution_count": 146,
   "id": "dc35bf9f-def0-4c02-893d-7c882997fa51",
   "metadata": {},
   "outputs": [],
   "source": [
    "def PP(x, y):\n",
    "    return Q * ( psi(x + 1) * psi(y-1) +  psi(y + 1) * psi(x -1) )\n",
    "\n",
    "def PstarPstar(x, y):\n",
    "    return Q * ( psi_star(x - 1) * psi_star(y + 1) +  psi_star(y - 1) * psi_star(x+1) )\n",
    "\n",
    "def PPstar(x, y):\n",
    "    return Q * ( psi(x - 1) * psi_star(y-1) +  psi_star(y + 1) * psi(x + 1) ) + (1 - Q)**2 * sp.KroneckerDelta(x,y)"
   ]
  },
  {
   "cell_type": "code",
   "execution_count": 186,
   "id": "68db81ca-586a-42a5-9e12-1976e6240ab3",
   "metadata": {},
   "outputs": [
    {
     "data": {
      "text/latex": [
       "$\\displaystyle Q \\left(\\psi{\\left(-4 \\right)} \\psi^{*}{\\left(-3 \\right)} + \\psi^{*}{\\left(-1 \\right)} \\psi{\\left(-2 \\right)}\\right)$"
      ],
      "text/plain": [
       "Q*(psi(-4)*psi^*(-3) + psi^*(-1)*psi(-2))"
      ]
     },
     "execution_count": 186,
     "metadata": {},
     "output_type": "execute_result"
    }
   ],
   "source": [
    "PPstar(-3,-2)"
   ]
  },
  {
   "cell_type": "code",
   "execution_count": 189,
   "id": "26cc8859-735c-423f-a94a-de59f2d603a3",
   "metadata": {},
   "outputs": [
    {
     "data": {
      "text/latex": [
       "$\\displaystyle 2 Q \\psi^{*}{\\left(-2 \\right)} \\psi^{*}{\\left(0 \\right)}$"
      ],
      "text/plain": [
       "2*Q*psi^*(-2)*psi^*(0)"
      ]
     },
     "execution_count": 189,
     "metadata": {},
     "output_type": "execute_result"
    }
   ],
   "source": [
    "PstarPstar(-1,-1)"
   ]
  },
  {
   "cell_type": "code",
   "execution_count": 142,
   "id": "a627ff62-af40-4fb8-8ee8-24296870a214",
   "metadata": {},
   "outputs": [],
   "source": [
    "def exp_PstarP(x, y):\n",
    "    return Q * psi(y -1) * psi_star(x -1) + (Q**2 - 1) * sp.Sum(Q**j * psi(y + j) * psi_star(x + j), (j,0, L)) + (1-Q) * sp.KroneckerDelta(x,y)\n",
    "\n",
    "def exp_PPstar(x, y):\n",
    "    return Q * psi_star(y + 1) * psi(x + 1) + (Q**2 - 1) * sp.Sum(Q**j * psi_star(y - j) * psi(x - j), (j,0, L))+ (1-Q) * sp.KroneckerDelta(x,y)\n",
    "\n",
    "def exp_PP(x, y):\n",
    "    return psi(y) * psi(x) + Q * ( psi(x + 1) * psi(y - 1) + psi(y + 1) * psi(x - 1))\n",
    "\n",
    "def anticom_PstarPstar(x, y):\n",
    "    return psi_star(y) * psi_star(x) + Q * ( psi_star(x - 1) * psi_star(y + 1) + psi_star(y - 1) * psi_star(x + 1))"
   ]
  },
  {
   "cell_type": "code",
   "execution_count": 150,
   "id": "db20e2f6-3c14-4686-b7a9-a3f9fe0897f3",
   "metadata": {},
   "outputs": [
    {
     "data": {
      "text/latex": [
       "$\\displaystyle - Q + Q \\psi^{*}{\\left(-1 \\right)} \\psi{\\left(-1 \\right)} + \\left(Q^{2} - 1\\right) \\sum_{j=0}^{L} Q^{j} \\psi^{*}{\\left(- j - 2 \\right)} \\psi{\\left(- j - 2 \\right)} + 1$"
      ],
      "text/plain": [
       "-Q + Q*psi^*(-1)*psi(-1) + (Q**2 - 1)*Sum(Q**j*psi^*(-j - 2)*psi(-j - 2), (j, 0, L)) + 1"
      ]
     },
     "execution_count": 150,
     "metadata": {},
     "output_type": "execute_result"
    }
   ],
   "source": [
    "exp_PPstar(-2, -2)"
   ]
  },
  {
   "cell_type": "code",
   "execution_count": 151,
   "id": "84956866-39a0-4e6c-b7df-fb111b9b36b6",
   "metadata": {},
   "outputs": [
    {
     "data": {
      "text/latex": [
       "$\\displaystyle - Q + Q \\psi{\\left(0 \\right)} \\psi^{*}{\\left(0 \\right)} + \\left(Q^{2} - 1\\right) \\sum_{j=0}^{L} Q^{j} \\psi{\\left(j + 1 \\right)} \\psi^{*}{\\left(j + 1 \\right)} + 1$"
      ],
      "text/plain": [
       "-Q + Q*psi(0)*psi^*(0) + (Q**2 - 1)*Sum(Q**j*psi(j + 1)*psi^*(j + 1), (j, 0, L)) + 1"
      ]
     },
     "execution_count": 151,
     "metadata": {},
     "output_type": "execute_result"
    }
   ],
   "source": [
    "exp_PstarP(1, 1)"
   ]
  },
  {
   "cell_type": "code",
   "execution_count": 159,
   "id": "07c60abf-1941-4e82-b44f-a6631bd24971",
   "metadata": {},
   "outputs": [],
   "source": [
    "x  = np.array(sp.symbols('x1:{}'.format(3)))"
   ]
  },
  {
   "cell_type": "code",
   "execution_count": 160,
   "id": "b747e1cc-50e2-4354-a7d2-567937c34307",
   "metadata": {},
   "outputs": [
    {
     "data": {
      "text/plain": [
       "array([x1**2, x2**2], dtype=object)"
      ]
     },
     "execution_count": 160,
     "metadata": {},
     "output_type": "execute_result"
    }
   ],
   "source": [
    "x**2"
   ]
  },
  {
   "cell_type": "code",
   "execution_count": 163,
   "id": "a9b07ab0-685d-45c1-8557-cbb3c88c0097",
   "metadata": {},
   "outputs": [],
   "source": [
    "t = [ sum(x**j)/j for j in range(1,6)]"
   ]
  },
  {
   "cell_type": "code",
   "execution_count": 173,
   "id": "755d6ef9-1ff1-409d-a029-b5bcc042aaad",
   "metadata": {},
   "outputs": [
    {
     "data": {
      "text/latex": [
       "$\\displaystyle \\frac{x_{1}^{2}}{2} + \\frac{x_{2}^{2}}{2}$"
      ],
      "text/plain": [
       "x1**2/2 + x2**2/2"
      ]
     },
     "execution_count": 173,
     "metadata": {},
     "output_type": "execute_result"
    }
   ],
   "source": [
    "t[1]"
   ]
  },
  {
   "cell_type": "code",
   "execution_count": 183,
   "id": "581df3c7-1ae4-44a8-a327-1e79d9422749",
   "metadata": {},
   "outputs": [
    {
     "data": {
      "text/latex": [
       "$\\displaystyle - Q x_{1} x_{2} + x_{1}^{2} + x_{1} x_{2} + x_{2}^{2}$"
      ],
      "text/plain": [
       "-Q*x1*x2 + x1**2 + x1*x2 + x2**2"
      ]
     },
     "execution_count": 183,
     "metadata": {},
     "output_type": "execute_result"
    }
   ],
   "source": [
    "((1 + Q) * t[1] + ((1 - Q) / 2 )* t[0]**2 ).expand().simplify()"
   ]
  },
  {
   "cell_type": "markdown",
   "id": "975c266c-3294-4918-9345-7e2318d6fcfd",
   "metadata": {},
   "source": [
    "# Other Things"
   ]
  },
  {
   "cell_type": "code",
   "execution_count": 5,
   "id": "b5aba8b7-b2ea-4882-83ba-4f9b1bb90eba",
   "metadata": {},
   "outputs": [],
   "source": [
    "x = (1,2,3,4,5,6)"
   ]
  },
  {
   "cell_type": "code",
   "execution_count": 8,
   "id": "2e14587a-cbcb-4eda-a20b-46e576588346",
   "metadata": {},
   "outputs": [],
   "source": [
    "A = all([x[i] <= x[i+1] for i in range(len(x)-1)])"
   ]
  },
  {
   "cell_type": "code",
   "execution_count": 9,
   "id": "09b0f026-488b-4bd5-bb5b-1d69a7ffe738",
   "metadata": {},
   "outputs": [
    {
     "data": {
      "text/plain": [
       "True"
      ]
     },
     "execution_count": 9,
     "metadata": {},
     "output_type": "execute_result"
    }
   ],
   "source": [
    "A"
   ]
  },
  {
   "cell_type": "code",
   "execution_count": 10,
   "id": "91576ae0-a75c-48b2-9987-8b1294d11d5a",
   "metadata": {},
   "outputs": [
    {
     "data": {
      "text/plain": [
       "tuple"
      ]
     },
     "execution_count": 10,
     "metadata": {},
     "output_type": "execute_result"
    }
   ],
   "source": [
    "type(x)"
   ]
  },
  {
   "cell_type": "code",
   "execution_count": 11,
   "id": "ca40be02-620d-4933-8f21-fa8801ae2ecf",
   "metadata": {},
   "outputs": [
    {
     "ename": "AttributeError",
     "evalue": "'tuple' object has no attribute 'sort'",
     "output_type": "error",
     "traceback": [
      "\u001b[0;31m---------------------------------------------------------------------------\u001b[0m",
      "\u001b[0;31mAttributeError\u001b[0m                            Traceback (most recent call last)",
      "Cell \u001b[0;32mIn[11], line 1\u001b[0m\n\u001b[0;32m----> 1\u001b[0m \u001b[43mx\u001b[49m\u001b[38;5;241;43m.\u001b[39;49m\u001b[43msort\u001b[49m()\n",
      "\u001b[0;31mAttributeError\u001b[0m: 'tuple' object has no attribute 'sort'"
     ]
    }
   ],
   "source": [
    "x.sort()"
   ]
  },
  {
   "cell_type": "code",
   "execution_count": 12,
   "id": "18b395c7-a1a7-47ac-9d29-bea535e2e168",
   "metadata": {},
   "outputs": [],
   "source": [
    "x = tuple(x)"
   ]
  },
  {
   "cell_type": "code",
   "execution_count": 13,
   "id": "26ee414a-da42-4c49-9460-e451eaedec36",
   "metadata": {},
   "outputs": [
    {
     "data": {
      "text/plain": [
       "(1, 2, 3, 4, 5, 6)"
      ]
     },
     "execution_count": 13,
     "metadata": {},
     "output_type": "execute_result"
    }
   ],
   "source": [
    "x"
   ]
  },
  {
   "cell_type": "code",
   "execution_count": 15,
   "id": "adfdb34d-2cbf-43ff-8fb1-c0a3f5f12310",
   "metadata": {},
   "outputs": [
    {
     "data": {
      "text/plain": [
       "tuple"
      ]
     },
     "execution_count": 15,
     "metadata": {},
     "output_type": "execute_result"
    }
   ],
   "source": [
    "type(x)"
   ]
  },
  {
   "cell_type": "code",
   "execution_count": null,
   "id": "b1e19267-2da2-4f0f-8fbc-c56340b37892",
   "metadata": {},
   "outputs": [],
   "source": [
    "@DataClass"
   ]
  }
 ],
 "metadata": {
  "kernelspec": {
   "display_name": "Python 3 (ipykernel)",
   "language": "python",
   "name": "python3"
  },
  "language_info": {
   "codemirror_mode": {
    "name": "ipython",
    "version": 3
   },
   "file_extension": ".py",
   "mimetype": "text/x-python",
   "name": "python",
   "nbconvert_exporter": "python",
   "pygments_lexer": "ipython3",
   "version": "3.12.2"
  }
 },
 "nbformat": 4,
 "nbformat_minor": 5
}
